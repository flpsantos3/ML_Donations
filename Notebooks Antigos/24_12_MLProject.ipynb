{
 "cells": [
  {
   "cell_type": "markdown",
   "metadata": {},
   "source": [
    "# 1. Imports"
   ]
  },
  {
   "cell_type": "code",
   "execution_count": 1,
   "metadata": {},
   "outputs": [],
   "source": [
    "import pandas as pd\n",
    "import numpy as np\n",
    "import matplotlib.pyplot as plt\n",
    "import seaborn as sns\n",
    "import random\n",
    "random.seed(42)\n",
    "import numpy as np\n",
    "import matplotlib.pyplot as plt\n",
    "from matplotlib import cm\n",
    "from matplotlib.colors import ListedColormap, LinearSegmentedColormap"
   ]
  },
  {
   "cell_type": "code",
   "execution_count": 2,
   "metadata": {},
   "outputs": [
    {
     "data": {
      "text/html": [
       "<div>\n",
       "<style scoped>\n",
       "    .dataframe tbody tr th:only-of-type {\n",
       "        vertical-align: middle;\n",
       "    }\n",
       "\n",
       "    .dataframe tbody tr th {\n",
       "        vertical-align: top;\n",
       "    }\n",
       "\n",
       "    .dataframe thead th {\n",
       "        text-align: right;\n",
       "    }\n",
       "</style>\n",
       "<table border=\"1\" class=\"dataframe\">\n",
       "  <thead>\n",
       "    <tr style=\"text-align: right;\">\n",
       "      <th></th>\n",
       "      <th>TARGET_B</th>\n",
       "      <th>TARGET_D</th>\n",
       "      <th>CONTROL_NUMBER</th>\n",
       "      <th>MONTHS_SINCE_ORIGIN</th>\n",
       "      <th>DONOR_AGE</th>\n",
       "      <th>IN_HOUSE</th>\n",
       "      <th>URBANICITY</th>\n",
       "      <th>SES</th>\n",
       "      <th>CLUSTER_CODE</th>\n",
       "      <th>HOME_OWNER</th>\n",
       "      <th>DONOR_GENDER</th>\n",
       "      <th>INCOME_GROUP</th>\n",
       "      <th>PUBLISHED_PHONE</th>\n",
       "      <th>OVERLAY_SOURCE</th>\n",
       "      <th>MOR_HIT_RATE</th>\n",
       "      <th>WEALTH_RATING</th>\n",
       "      <th>MEDIAN_HOME_VALUE</th>\n",
       "      <th>MEDIAN_HOUSEHOLD_INCOME</th>\n",
       "      <th>PCT_OWNER_OCCUPIED</th>\n",
       "      <th>PER_CAPITA_INCOME</th>\n",
       "      <th>PCT_ATTRIBUTE1</th>\n",
       "      <th>PCT_ATTRIBUTE2</th>\n",
       "      <th>PCT_ATTRIBUTE3</th>\n",
       "      <th>PCT_ATTRIBUTE4</th>\n",
       "      <th>PEP_STAR</th>\n",
       "      <th>RECENT_STAR_STATUS</th>\n",
       "      <th>RECENCY_STATUS_96NK</th>\n",
       "      <th>FREQUENCY_STATUS_97NK</th>\n",
       "      <th>RECENT_RESPONSE_PROP</th>\n",
       "      <th>RECENT_AVG_GIFT_AMT</th>\n",
       "      <th>RECENT_CARD_RESPONSE_PROP</th>\n",
       "      <th>RECENT_AVG_CARD_GIFT_AMT</th>\n",
       "      <th>RECENT_RESPONSE_COUNT</th>\n",
       "      <th>RECENT_CARD_RESPONSE_COUNT</th>\n",
       "      <th>MONTHS_SINCE_LAST_PROM_RESP</th>\n",
       "      <th>LIFETIME_CARD_PROM</th>\n",
       "      <th>LIFETIME_PROM</th>\n",
       "      <th>LIFETIME_GIFT_AMOUNT</th>\n",
       "      <th>LIFETIME_GIFT_COUNT</th>\n",
       "      <th>LIFETIME_AVG_GIFT_AMT</th>\n",
       "      <th>LIFETIME_GIFT_RANGE</th>\n",
       "      <th>LIFETIME_MAX_GIFT_AMT</th>\n",
       "      <th>LIFETIME_MIN_GIFT_AMT</th>\n",
       "      <th>LAST_GIFT_AMT</th>\n",
       "      <th>CARD_PROM_12</th>\n",
       "      <th>NUMBER_PROM_12</th>\n",
       "      <th>MONTHS_SINCE_LAST_GIFT</th>\n",
       "      <th>MONTHS_SINCE_FIRST_GIFT</th>\n",
       "      <th>FILE_AVG_GIFT</th>\n",
       "      <th>FILE_CARD_GIFT</th>\n",
       "    </tr>\n",
       "  </thead>\n",
       "  <tbody>\n",
       "    <tr>\n",
       "      <th>0</th>\n",
       "      <td>0</td>\n",
       "      <td>NaN</td>\n",
       "      <td>5</td>\n",
       "      <td>101</td>\n",
       "      <td>87.0</td>\n",
       "      <td>0</td>\n",
       "      <td>NaN</td>\n",
       "      <td>NaN</td>\n",
       "      <td>.</td>\n",
       "      <td>H</td>\n",
       "      <td>M</td>\n",
       "      <td>2.0</td>\n",
       "      <td>0</td>\n",
       "      <td>P</td>\n",
       "      <td>0</td>\n",
       "      <td>NaN</td>\n",
       "      <td>554</td>\n",
       "      <td>294</td>\n",
       "      <td>76</td>\n",
       "      <td>11855</td>\n",
       "      <td>0</td>\n",
       "      <td>0</td>\n",
       "      <td>0</td>\n",
       "      <td>0</td>\n",
       "      <td>1</td>\n",
       "      <td>0</td>\n",
       "      <td>A</td>\n",
       "      <td>1</td>\n",
       "      <td>0.067</td>\n",
       "      <td>15.00</td>\n",
       "      <td>0.000</td>\n",
       "      <td>0.00</td>\n",
       "      <td>1</td>\n",
       "      <td>0</td>\n",
       "      <td>26.0</td>\n",
       "      <td>19</td>\n",
       "      <td>45</td>\n",
       "      <td>297.0</td>\n",
       "      <td>35</td>\n",
       "      <td>8.49</td>\n",
       "      <td>15.0</td>\n",
       "      <td>20.0</td>\n",
       "      <td>5.0</td>\n",
       "      <td>15.0</td>\n",
       "      <td>5</td>\n",
       "      <td>12</td>\n",
       "      <td>26</td>\n",
       "      <td>92</td>\n",
       "      <td>8.49</td>\n",
       "      <td>7</td>\n",
       "    </tr>\n",
       "    <tr>\n",
       "      <th>1</th>\n",
       "      <td>1</td>\n",
       "      <td>10.0</td>\n",
       "      <td>12</td>\n",
       "      <td>137</td>\n",
       "      <td>79.0</td>\n",
       "      <td>0</td>\n",
       "      <td>R</td>\n",
       "      <td>2.0</td>\n",
       "      <td>45</td>\n",
       "      <td>H</td>\n",
       "      <td>M</td>\n",
       "      <td>7.0</td>\n",
       "      <td>0</td>\n",
       "      <td>P</td>\n",
       "      <td>0</td>\n",
       "      <td>3.0</td>\n",
       "      <td>334</td>\n",
       "      <td>212</td>\n",
       "      <td>72</td>\n",
       "      <td>10385</td>\n",
       "      <td>0</td>\n",
       "      <td>41</td>\n",
       "      <td>21</td>\n",
       "      <td>31</td>\n",
       "      <td>1</td>\n",
       "      <td>1</td>\n",
       "      <td>S</td>\n",
       "      <td>2</td>\n",
       "      <td>0.235</td>\n",
       "      <td>15.00</td>\n",
       "      <td>0.250</td>\n",
       "      <td>15.00</td>\n",
       "      <td>4</td>\n",
       "      <td>2</td>\n",
       "      <td>11.0</td>\n",
       "      <td>32</td>\n",
       "      <td>90</td>\n",
       "      <td>368.0</td>\n",
       "      <td>25</td>\n",
       "      <td>14.72</td>\n",
       "      <td>20.0</td>\n",
       "      <td>25.0</td>\n",
       "      <td>5.0</td>\n",
       "      <td>17.0</td>\n",
       "      <td>7</td>\n",
       "      <td>21</td>\n",
       "      <td>7</td>\n",
       "      <td>122</td>\n",
       "      <td>14.72</td>\n",
       "      <td>12</td>\n",
       "    </tr>\n",
       "    <tr>\n",
       "      <th>2</th>\n",
       "      <td>0</td>\n",
       "      <td>NaN</td>\n",
       "      <td>37</td>\n",
       "      <td>113</td>\n",
       "      <td>75.0</td>\n",
       "      <td>0</td>\n",
       "      <td>S</td>\n",
       "      <td>1.0</td>\n",
       "      <td>11</td>\n",
       "      <td>H</td>\n",
       "      <td>F</td>\n",
       "      <td>5.0</td>\n",
       "      <td>0</td>\n",
       "      <td>P</td>\n",
       "      <td>0</td>\n",
       "      <td>9.0</td>\n",
       "      <td>2388</td>\n",
       "      <td>405</td>\n",
       "      <td>63</td>\n",
       "      <td>30855</td>\n",
       "      <td>0</td>\n",
       "      <td>25</td>\n",
       "      <td>26</td>\n",
       "      <td>57</td>\n",
       "      <td>1</td>\n",
       "      <td>1</td>\n",
       "      <td>S</td>\n",
       "      <td>3</td>\n",
       "      <td>0.409</td>\n",
       "      <td>21.67</td>\n",
       "      <td>0.545</td>\n",
       "      <td>22.67</td>\n",
       "      <td>9</td>\n",
       "      <td>6</td>\n",
       "      <td>14.0</td>\n",
       "      <td>44</td>\n",
       "      <td>119</td>\n",
       "      <td>603.0</td>\n",
       "      <td>36</td>\n",
       "      <td>16.75</td>\n",
       "      <td>23.0</td>\n",
       "      <td>28.0</td>\n",
       "      <td>5.0</td>\n",
       "      <td>19.0</td>\n",
       "      <td>11</td>\n",
       "      <td>32</td>\n",
       "      <td>6</td>\n",
       "      <td>105</td>\n",
       "      <td>16.75</td>\n",
       "      <td>16</td>\n",
       "    </tr>\n",
       "  </tbody>\n",
       "</table>\n",
       "</div>"
      ],
      "text/plain": [
       "   TARGET_B  TARGET_D  CONTROL_NUMBER  MONTHS_SINCE_ORIGIN  DONOR_AGE  \\\n",
       "0         0       NaN               5                  101       87.0   \n",
       "1         1      10.0              12                  137       79.0   \n",
       "2         0       NaN              37                  113       75.0   \n",
       "\n",
       "   IN_HOUSE URBANICITY  SES CLUSTER_CODE HOME_OWNER DONOR_GENDER  \\\n",
       "0         0        NaN  NaN            .          H            M   \n",
       "1         0          R  2.0           45          H            M   \n",
       "2         0          S  1.0           11          H            F   \n",
       "\n",
       "   INCOME_GROUP  PUBLISHED_PHONE OVERLAY_SOURCE  MOR_HIT_RATE  WEALTH_RATING  \\\n",
       "0           2.0                0              P             0            NaN   \n",
       "1           7.0                0              P             0            3.0   \n",
       "2           5.0                0              P             0            9.0   \n",
       "\n",
       "   MEDIAN_HOME_VALUE  MEDIAN_HOUSEHOLD_INCOME  PCT_OWNER_OCCUPIED  \\\n",
       "0                554                      294                  76   \n",
       "1                334                      212                  72   \n",
       "2               2388                      405                  63   \n",
       "\n",
       "   PER_CAPITA_INCOME  PCT_ATTRIBUTE1  PCT_ATTRIBUTE2  PCT_ATTRIBUTE3  \\\n",
       "0              11855               0               0               0   \n",
       "1              10385               0              41              21   \n",
       "2              30855               0              25              26   \n",
       "\n",
       "   PCT_ATTRIBUTE4  PEP_STAR  RECENT_STAR_STATUS RECENCY_STATUS_96NK  \\\n",
       "0               0         1                   0                   A   \n",
       "1              31         1                   1                   S   \n",
       "2              57         1                   1                   S   \n",
       "\n",
       "   FREQUENCY_STATUS_97NK  RECENT_RESPONSE_PROP  RECENT_AVG_GIFT_AMT  \\\n",
       "0                      1                 0.067                15.00   \n",
       "1                      2                 0.235                15.00   \n",
       "2                      3                 0.409                21.67   \n",
       "\n",
       "   RECENT_CARD_RESPONSE_PROP  RECENT_AVG_CARD_GIFT_AMT  RECENT_RESPONSE_COUNT  \\\n",
       "0                      0.000                      0.00                      1   \n",
       "1                      0.250                     15.00                      4   \n",
       "2                      0.545                     22.67                      9   \n",
       "\n",
       "   RECENT_CARD_RESPONSE_COUNT  MONTHS_SINCE_LAST_PROM_RESP  \\\n",
       "0                           0                         26.0   \n",
       "1                           2                         11.0   \n",
       "2                           6                         14.0   \n",
       "\n",
       "   LIFETIME_CARD_PROM  LIFETIME_PROM  LIFETIME_GIFT_AMOUNT  \\\n",
       "0                  19             45                 297.0   \n",
       "1                  32             90                 368.0   \n",
       "2                  44            119                 603.0   \n",
       "\n",
       "   LIFETIME_GIFT_COUNT  LIFETIME_AVG_GIFT_AMT  LIFETIME_GIFT_RANGE  \\\n",
       "0                   35                   8.49                 15.0   \n",
       "1                   25                  14.72                 20.0   \n",
       "2                   36                  16.75                 23.0   \n",
       "\n",
       "   LIFETIME_MAX_GIFT_AMT  LIFETIME_MIN_GIFT_AMT  LAST_GIFT_AMT  CARD_PROM_12  \\\n",
       "0                   20.0                    5.0           15.0             5   \n",
       "1                   25.0                    5.0           17.0             7   \n",
       "2                   28.0                    5.0           19.0            11   \n",
       "\n",
       "   NUMBER_PROM_12  MONTHS_SINCE_LAST_GIFT  MONTHS_SINCE_FIRST_GIFT  \\\n",
       "0              12                      26                       92   \n",
       "1              21                       7                      122   \n",
       "2              32                       6                      105   \n",
       "\n",
       "   FILE_AVG_GIFT  FILE_CARD_GIFT  \n",
       "0           8.49               7  \n",
       "1          14.72              12  \n",
       "2          16.75              16  "
      ]
     },
     "execution_count": 2,
     "metadata": {},
     "output_type": "execute_result"
    }
   ],
   "source": [
    "donors = pd.read_csv(\"Donors_dataset.csv\", header=0, na_values=\"?\")\n",
    "\n",
    "pd.set_option('display.max_columns', None)\n",
    "donors.head(3)"
   ]
  },
  {
   "cell_type": "markdown",
   "metadata": {},
   "source": [
    "## 2. Understanding Data\n",
    "\n",
    "In this task you should **understand better the features**, their distribution of values, potential errors, etc and plan/describe what data preprocessing steps should be performed next. Very important also is to check the distribution of values in the target (class distribution). \n",
    "\n",
    "Here you can find a notebook with some examples of what you can do in **Exploratory Data Analysis**: https://www.kaggle.com/artgor/exploration-of-data-step-by-step/notebook. You can also use Orange widgets for this.\n"
   ]
  },
  {
   "cell_type": "code",
   "execution_count": 3,
   "metadata": {},
   "outputs": [
    {
     "data": {
      "text/plain": [
       "(19372, 50)"
      ]
     },
     "execution_count": 3,
     "metadata": {},
     "output_type": "execute_result"
    }
   ],
   "source": [
    "donors.shape"
   ]
  },
  {
   "cell_type": "code",
   "execution_count": 4,
   "metadata": {},
   "outputs": [
    {
     "name": "stdout",
     "output_type": "stream",
     "text": [
      "<class 'pandas.core.frame.DataFrame'>\n",
      "RangeIndex: 19372 entries, 0 to 19371\n",
      "Data columns (total 50 columns):\n",
      " #   Column                       Non-Null Count  Dtype  \n",
      "---  ------                       --------------  -----  \n",
      " 0   TARGET_B                     19372 non-null  int64  \n",
      " 1   TARGET_D                     4843 non-null   float64\n",
      " 2   CONTROL_NUMBER               19372 non-null  int64  \n",
      " 3   MONTHS_SINCE_ORIGIN          19372 non-null  int64  \n",
      " 4   DONOR_AGE                    14577 non-null  float64\n",
      " 5   IN_HOUSE                     19372 non-null  int64  \n",
      " 6   URBANICITY                   18918 non-null  object \n",
      " 7   SES                          18918 non-null  float64\n",
      " 8   CLUSTER_CODE                 19372 non-null  object \n",
      " 9   HOME_OWNER                   19372 non-null  object \n",
      " 10  DONOR_GENDER                 19372 non-null  object \n",
      " 11  INCOME_GROUP                 14980 non-null  float64\n",
      " 12  PUBLISHED_PHONE              19372 non-null  int64  \n",
      " 13  OVERLAY_SOURCE               19372 non-null  object \n",
      " 14  MOR_HIT_RATE                 19372 non-null  int64  \n",
      " 15  WEALTH_RATING                10562 non-null  float64\n",
      " 16  MEDIAN_HOME_VALUE            19372 non-null  int64  \n",
      " 17  MEDIAN_HOUSEHOLD_INCOME      19372 non-null  int64  \n",
      " 18  PCT_OWNER_OCCUPIED           19372 non-null  int64  \n",
      " 19  PER_CAPITA_INCOME            19372 non-null  int64  \n",
      " 20  PCT_ATTRIBUTE1               19372 non-null  int64  \n",
      " 21  PCT_ATTRIBUTE2               19372 non-null  int64  \n",
      " 22  PCT_ATTRIBUTE3               19372 non-null  int64  \n",
      " 23  PCT_ATTRIBUTE4               19372 non-null  int64  \n",
      " 24  PEP_STAR                     19372 non-null  int64  \n",
      " 25  RECENT_STAR_STATUS           19372 non-null  int64  \n",
      " 26  RECENCY_STATUS_96NK          19372 non-null  object \n",
      " 27  FREQUENCY_STATUS_97NK        19372 non-null  int64  \n",
      " 28  RECENT_RESPONSE_PROP         19372 non-null  float64\n",
      " 29  RECENT_AVG_GIFT_AMT          19372 non-null  float64\n",
      " 30  RECENT_CARD_RESPONSE_PROP    19372 non-null  float64\n",
      " 31  RECENT_AVG_CARD_GIFT_AMT     19372 non-null  float64\n",
      " 32  RECENT_RESPONSE_COUNT        19372 non-null  int64  \n",
      " 33  RECENT_CARD_RESPONSE_COUNT   19372 non-null  int64  \n",
      " 34  MONTHS_SINCE_LAST_PROM_RESP  19126 non-null  float64\n",
      " 35  LIFETIME_CARD_PROM           19372 non-null  int64  \n",
      " 36  LIFETIME_PROM                19372 non-null  int64  \n",
      " 37  LIFETIME_GIFT_AMOUNT         19372 non-null  float64\n",
      " 38  LIFETIME_GIFT_COUNT          19372 non-null  int64  \n",
      " 39  LIFETIME_AVG_GIFT_AMT        19372 non-null  float64\n",
      " 40  LIFETIME_GIFT_RANGE          19372 non-null  float64\n",
      " 41  LIFETIME_MAX_GIFT_AMT        19372 non-null  float64\n",
      " 42  LIFETIME_MIN_GIFT_AMT        19372 non-null  float64\n",
      " 43  LAST_GIFT_AMT                19372 non-null  float64\n",
      " 44  CARD_PROM_12                 19372 non-null  int64  \n",
      " 45  NUMBER_PROM_12               19372 non-null  int64  \n",
      " 46  MONTHS_SINCE_LAST_GIFT       19372 non-null  int64  \n",
      " 47  MONTHS_SINCE_FIRST_GIFT      19372 non-null  int64  \n",
      " 48  FILE_AVG_GIFT                19372 non-null  float64\n",
      " 49  FILE_CARD_GIFT               19372 non-null  int64  \n",
      "dtypes: float64(17), int64(27), object(6)\n",
      "memory usage: 7.4+ MB\n"
     ]
    }
   ],
   "source": [
    "donors.info()"
   ]
  },
  {
   "cell_type": "markdown",
   "metadata": {},
   "source": [
    "There are a total of 19372 entries in the dataset and 50(!) features."
   ]
  },
  {
   "cell_type": "code",
   "execution_count": 5,
   "metadata": {},
   "outputs": [
    {
     "data": {
      "text/html": [
       "<div>\n",
       "<style scoped>\n",
       "    .dataframe tbody tr th:only-of-type {\n",
       "        vertical-align: middle;\n",
       "    }\n",
       "\n",
       "    .dataframe tbody tr th {\n",
       "        vertical-align: top;\n",
       "    }\n",
       "\n",
       "    .dataframe thead th {\n",
       "        text-align: right;\n",
       "    }\n",
       "</style>\n",
       "<table border=\"1\" class=\"dataframe\">\n",
       "  <thead>\n",
       "    <tr style=\"text-align: right;\">\n",
       "      <th></th>\n",
       "      <th>TARGET_B</th>\n",
       "      <th>TARGET_D</th>\n",
       "      <th>CONTROL_NUMBER</th>\n",
       "      <th>MONTHS_SINCE_ORIGIN</th>\n",
       "      <th>DONOR_AGE</th>\n",
       "      <th>IN_HOUSE</th>\n",
       "      <th>SES</th>\n",
       "      <th>INCOME_GROUP</th>\n",
       "      <th>PUBLISHED_PHONE</th>\n",
       "      <th>MOR_HIT_RATE</th>\n",
       "      <th>WEALTH_RATING</th>\n",
       "      <th>MEDIAN_HOME_VALUE</th>\n",
       "      <th>MEDIAN_HOUSEHOLD_INCOME</th>\n",
       "      <th>PCT_OWNER_OCCUPIED</th>\n",
       "      <th>PER_CAPITA_INCOME</th>\n",
       "      <th>PCT_ATTRIBUTE1</th>\n",
       "      <th>PCT_ATTRIBUTE2</th>\n",
       "      <th>PCT_ATTRIBUTE3</th>\n",
       "      <th>PCT_ATTRIBUTE4</th>\n",
       "      <th>PEP_STAR</th>\n",
       "      <th>RECENT_STAR_STATUS</th>\n",
       "      <th>FREQUENCY_STATUS_97NK</th>\n",
       "      <th>RECENT_RESPONSE_PROP</th>\n",
       "      <th>RECENT_AVG_GIFT_AMT</th>\n",
       "      <th>RECENT_CARD_RESPONSE_PROP</th>\n",
       "      <th>RECENT_AVG_CARD_GIFT_AMT</th>\n",
       "      <th>RECENT_RESPONSE_COUNT</th>\n",
       "      <th>RECENT_CARD_RESPONSE_COUNT</th>\n",
       "      <th>MONTHS_SINCE_LAST_PROM_RESP</th>\n",
       "      <th>LIFETIME_CARD_PROM</th>\n",
       "      <th>LIFETIME_PROM</th>\n",
       "      <th>LIFETIME_GIFT_AMOUNT</th>\n",
       "      <th>LIFETIME_GIFT_COUNT</th>\n",
       "      <th>LIFETIME_AVG_GIFT_AMT</th>\n",
       "      <th>LIFETIME_GIFT_RANGE</th>\n",
       "      <th>LIFETIME_MAX_GIFT_AMT</th>\n",
       "      <th>LIFETIME_MIN_GIFT_AMT</th>\n",
       "      <th>LAST_GIFT_AMT</th>\n",
       "      <th>CARD_PROM_12</th>\n",
       "      <th>NUMBER_PROM_12</th>\n",
       "      <th>MONTHS_SINCE_LAST_GIFT</th>\n",
       "      <th>MONTHS_SINCE_FIRST_GIFT</th>\n",
       "      <th>FILE_AVG_GIFT</th>\n",
       "      <th>FILE_CARD_GIFT</th>\n",
       "    </tr>\n",
       "  </thead>\n",
       "  <tbody>\n",
       "    <tr>\n",
       "      <th>count</th>\n",
       "      <td>19372.000000</td>\n",
       "      <td>4843.000000</td>\n",
       "      <td>19372.000000</td>\n",
       "      <td>19372.000000</td>\n",
       "      <td>14577.000000</td>\n",
       "      <td>19372.000000</td>\n",
       "      <td>18918.000000</td>\n",
       "      <td>14980.000000</td>\n",
       "      <td>19372.000000</td>\n",
       "      <td>19372.000000</td>\n",
       "      <td>10562.000000</td>\n",
       "      <td>19372.000000</td>\n",
       "      <td>19372.000000</td>\n",
       "      <td>19372.000000</td>\n",
       "      <td>19372.000000</td>\n",
       "      <td>19372.000000</td>\n",
       "      <td>19372.000000</td>\n",
       "      <td>19372.000000</td>\n",
       "      <td>19372.000000</td>\n",
       "      <td>19372.000000</td>\n",
       "      <td>19372.000000</td>\n",
       "      <td>19372.000000</td>\n",
       "      <td>19372.000000</td>\n",
       "      <td>19372.000000</td>\n",
       "      <td>19372.000000</td>\n",
       "      <td>19372.00000</td>\n",
       "      <td>19372.000000</td>\n",
       "      <td>19372.000000</td>\n",
       "      <td>19126.000000</td>\n",
       "      <td>19372.000000</td>\n",
       "      <td>19372.000000</td>\n",
       "      <td>19372.000000</td>\n",
       "      <td>19372.000000</td>\n",
       "      <td>19372.000000</td>\n",
       "      <td>19372.000000</td>\n",
       "      <td>19372.000000</td>\n",
       "      <td>19372.000000</td>\n",
       "      <td>19372.000000</td>\n",
       "      <td>19372.000000</td>\n",
       "      <td>19372.000000</td>\n",
       "      <td>19372.000000</td>\n",
       "      <td>19372.000000</td>\n",
       "      <td>19372.000000</td>\n",
       "      <td>19372.000000</td>\n",
       "    </tr>\n",
       "    <tr>\n",
       "      <th>mean</th>\n",
       "      <td>0.250000</td>\n",
       "      <td>15.624344</td>\n",
       "      <td>96546.225377</td>\n",
       "      <td>73.409973</td>\n",
       "      <td>58.919051</td>\n",
       "      <td>0.073198</td>\n",
       "      <td>1.903425</td>\n",
       "      <td>3.907543</td>\n",
       "      <td>0.497729</td>\n",
       "      <td>3.361656</td>\n",
       "      <td>5.005397</td>\n",
       "      <td>1079.871929</td>\n",
       "      <td>341.970215</td>\n",
       "      <td>69.698999</td>\n",
       "      <td>15857.334452</td>\n",
       "      <td>1.029011</td>\n",
       "      <td>30.573921</td>\n",
       "      <td>29.603293</td>\n",
       "      <td>32.852467</td>\n",
       "      <td>0.504439</td>\n",
       "      <td>0.931138</td>\n",
       "      <td>1.983998</td>\n",
       "      <td>0.190127</td>\n",
       "      <td>15.365396</td>\n",
       "      <td>0.230808</td>\n",
       "      <td>11.68547</td>\n",
       "      <td>3.043103</td>\n",
       "      <td>1.730539</td>\n",
       "      <td>19.038900</td>\n",
       "      <td>18.668078</td>\n",
       "      <td>47.570514</td>\n",
       "      <td>104.425716</td>\n",
       "      <td>9.979765</td>\n",
       "      <td>12.858338</td>\n",
       "      <td>11.587876</td>\n",
       "      <td>19.208808</td>\n",
       "      <td>7.620932</td>\n",
       "      <td>16.584199</td>\n",
       "      <td>5.367128</td>\n",
       "      <td>12.901869</td>\n",
       "      <td>18.191152</td>\n",
       "      <td>69.482088</td>\n",
       "      <td>12.858338</td>\n",
       "      <td>5.273591</td>\n",
       "    </tr>\n",
       "    <tr>\n",
       "      <th>std</th>\n",
       "      <td>0.433024</td>\n",
       "      <td>12.445137</td>\n",
       "      <td>55830.643871</td>\n",
       "      <td>41.255574</td>\n",
       "      <td>16.669382</td>\n",
       "      <td>0.260469</td>\n",
       "      <td>0.749215</td>\n",
       "      <td>1.864796</td>\n",
       "      <td>0.500008</td>\n",
       "      <td>9.503481</td>\n",
       "      <td>2.815386</td>\n",
       "      <td>960.753448</td>\n",
       "      <td>164.207807</td>\n",
       "      <td>21.711019</td>\n",
       "      <td>8710.630390</td>\n",
       "      <td>4.918297</td>\n",
       "      <td>11.421471</td>\n",
       "      <td>15.120360</td>\n",
       "      <td>17.839765</td>\n",
       "      <td>0.499993</td>\n",
       "      <td>2.545585</td>\n",
       "      <td>1.099346</td>\n",
       "      <td>0.113947</td>\n",
       "      <td>10.167485</td>\n",
       "      <td>0.186230</td>\n",
       "      <td>10.83412</td>\n",
       "      <td>2.046401</td>\n",
       "      <td>1.535521</td>\n",
       "      <td>3.415559</td>\n",
       "      <td>8.558778</td>\n",
       "      <td>22.950158</td>\n",
       "      <td>105.722460</td>\n",
       "      <td>8.688163</td>\n",
       "      <td>8.787758</td>\n",
       "      <td>15.116893</td>\n",
       "      <td>16.101128</td>\n",
       "      <td>7.959786</td>\n",
       "      <td>11.977558</td>\n",
       "      <td>1.264205</td>\n",
       "      <td>4.642072</td>\n",
       "      <td>4.033065</td>\n",
       "      <td>37.568169</td>\n",
       "      <td>8.787758</td>\n",
       "      <td>4.607063</td>\n",
       "    </tr>\n",
       "    <tr>\n",
       "      <th>min</th>\n",
       "      <td>0.000000</td>\n",
       "      <td>1.000000</td>\n",
       "      <td>5.000000</td>\n",
       "      <td>5.000000</td>\n",
       "      <td>0.000000</td>\n",
       "      <td>0.000000</td>\n",
       "      <td>1.000000</td>\n",
       "      <td>1.000000</td>\n",
       "      <td>0.000000</td>\n",
       "      <td>0.000000</td>\n",
       "      <td>0.000000</td>\n",
       "      <td>0.000000</td>\n",
       "      <td>0.000000</td>\n",
       "      <td>0.000000</td>\n",
       "      <td>0.000000</td>\n",
       "      <td>0.000000</td>\n",
       "      <td>0.000000</td>\n",
       "      <td>0.000000</td>\n",
       "      <td>0.000000</td>\n",
       "      <td>0.000000</td>\n",
       "      <td>0.000000</td>\n",
       "      <td>1.000000</td>\n",
       "      <td>0.000000</td>\n",
       "      <td>0.000000</td>\n",
       "      <td>0.000000</td>\n",
       "      <td>0.00000</td>\n",
       "      <td>0.000000</td>\n",
       "      <td>0.000000</td>\n",
       "      <td>-12.000000</td>\n",
       "      <td>2.000000</td>\n",
       "      <td>5.000000</td>\n",
       "      <td>15.000000</td>\n",
       "      <td>1.000000</td>\n",
       "      <td>1.360000</td>\n",
       "      <td>0.000000</td>\n",
       "      <td>5.000000</td>\n",
       "      <td>0.000000</td>\n",
       "      <td>0.000000</td>\n",
       "      <td>0.000000</td>\n",
       "      <td>2.000000</td>\n",
       "      <td>4.000000</td>\n",
       "      <td>15.000000</td>\n",
       "      <td>1.360000</td>\n",
       "      <td>0.000000</td>\n",
       "    </tr>\n",
       "    <tr>\n",
       "      <th>25%</th>\n",
       "      <td>0.000000</td>\n",
       "      <td>10.000000</td>\n",
       "      <td>48289.000000</td>\n",
       "      <td>29.000000</td>\n",
       "      <td>47.000000</td>\n",
       "      <td>0.000000</td>\n",
       "      <td>1.000000</td>\n",
       "      <td>2.000000</td>\n",
       "      <td>0.000000</td>\n",
       "      <td>0.000000</td>\n",
       "      <td>3.000000</td>\n",
       "      <td>518.000000</td>\n",
       "      <td>232.000000</td>\n",
       "      <td>60.000000</td>\n",
       "      <td>10869.000000</td>\n",
       "      <td>0.000000</td>\n",
       "      <td>25.000000</td>\n",
       "      <td>20.000000</td>\n",
       "      <td>21.000000</td>\n",
       "      <td>0.000000</td>\n",
       "      <td>0.000000</td>\n",
       "      <td>1.000000</td>\n",
       "      <td>0.105000</td>\n",
       "      <td>10.000000</td>\n",
       "      <td>0.100000</td>\n",
       "      <td>5.00000</td>\n",
       "      <td>2.000000</td>\n",
       "      <td>1.000000</td>\n",
       "      <td>17.000000</td>\n",
       "      <td>11.000000</td>\n",
       "      <td>28.000000</td>\n",
       "      <td>42.000000</td>\n",
       "      <td>4.000000</td>\n",
       "      <td>8.000000</td>\n",
       "      <td>5.000000</td>\n",
       "      <td>12.000000</td>\n",
       "      <td>3.000000</td>\n",
       "      <td>10.000000</td>\n",
       "      <td>5.000000</td>\n",
       "      <td>11.000000</td>\n",
       "      <td>16.000000</td>\n",
       "      <td>33.000000</td>\n",
       "      <td>8.000000</td>\n",
       "      <td>2.000000</td>\n",
       "    </tr>\n",
       "    <tr>\n",
       "      <th>50%</th>\n",
       "      <td>0.000000</td>\n",
       "      <td>13.000000</td>\n",
       "      <td>96937.000000</td>\n",
       "      <td>65.000000</td>\n",
       "      <td>60.000000</td>\n",
       "      <td>0.000000</td>\n",
       "      <td>2.000000</td>\n",
       "      <td>4.000000</td>\n",
       "      <td>0.000000</td>\n",
       "      <td>0.000000</td>\n",
       "      <td>5.000000</td>\n",
       "      <td>747.000000</td>\n",
       "      <td>311.000000</td>\n",
       "      <td>76.000000</td>\n",
       "      <td>13816.500000</td>\n",
       "      <td>0.000000</td>\n",
       "      <td>31.000000</td>\n",
       "      <td>29.000000</td>\n",
       "      <td>32.000000</td>\n",
       "      <td>1.000000</td>\n",
       "      <td>0.000000</td>\n",
       "      <td>2.000000</td>\n",
       "      <td>0.167000</td>\n",
       "      <td>14.000000</td>\n",
       "      <td>0.200000</td>\n",
       "      <td>10.14000</td>\n",
       "      <td>3.000000</td>\n",
       "      <td>1.000000</td>\n",
       "      <td>18.000000</td>\n",
       "      <td>18.000000</td>\n",
       "      <td>47.000000</td>\n",
       "      <td>79.000000</td>\n",
       "      <td>8.000000</td>\n",
       "      <td>11.200000</td>\n",
       "      <td>10.000000</td>\n",
       "      <td>16.000000</td>\n",
       "      <td>5.000000</td>\n",
       "      <td>15.000000</td>\n",
       "      <td>6.000000</td>\n",
       "      <td>12.000000</td>\n",
       "      <td>18.000000</td>\n",
       "      <td>65.000000</td>\n",
       "      <td>11.200000</td>\n",
       "      <td>4.000000</td>\n",
       "    </tr>\n",
       "    <tr>\n",
       "      <th>75%</th>\n",
       "      <td>0.250000</td>\n",
       "      <td>20.000000</td>\n",
       "      <td>145429.500000</td>\n",
       "      <td>113.000000</td>\n",
       "      <td>73.000000</td>\n",
       "      <td>0.000000</td>\n",
       "      <td>2.000000</td>\n",
       "      <td>5.000000</td>\n",
       "      <td>1.000000</td>\n",
       "      <td>3.000000</td>\n",
       "      <td>7.000000</td>\n",
       "      <td>1227.000000</td>\n",
       "      <td>417.000000</td>\n",
       "      <td>85.000000</td>\n",
       "      <td>18308.250000</td>\n",
       "      <td>0.000000</td>\n",
       "      <td>37.000000</td>\n",
       "      <td>39.000000</td>\n",
       "      <td>43.000000</td>\n",
       "      <td>1.000000</td>\n",
       "      <td>1.000000</td>\n",
       "      <td>3.000000</td>\n",
       "      <td>0.250000</td>\n",
       "      <td>20.000000</td>\n",
       "      <td>0.333000</td>\n",
       "      <td>16.00000</td>\n",
       "      <td>4.000000</td>\n",
       "      <td>2.000000</td>\n",
       "      <td>21.000000</td>\n",
       "      <td>26.000000</td>\n",
       "      <td>64.000000</td>\n",
       "      <td>132.000000</td>\n",
       "      <td>14.000000</td>\n",
       "      <td>15.000000</td>\n",
       "      <td>15.000000</td>\n",
       "      <td>21.000000</td>\n",
       "      <td>10.000000</td>\n",
       "      <td>20.000000</td>\n",
       "      <td>6.000000</td>\n",
       "      <td>13.000000</td>\n",
       "      <td>20.000000</td>\n",
       "      <td>105.000000</td>\n",
       "      <td>15.000000</td>\n",
       "      <td>8.000000</td>\n",
       "    </tr>\n",
       "    <tr>\n",
       "      <th>max</th>\n",
       "      <td>1.000000</td>\n",
       "      <td>200.000000</td>\n",
       "      <td>191779.000000</td>\n",
       "      <td>137.000000</td>\n",
       "      <td>87.000000</td>\n",
       "      <td>1.000000</td>\n",
       "      <td>4.000000</td>\n",
       "      <td>7.000000</td>\n",
       "      <td>1.000000</td>\n",
       "      <td>241.000000</td>\n",
       "      <td>9.000000</td>\n",
       "      <td>6000.000000</td>\n",
       "      <td>1500.000000</td>\n",
       "      <td>99.000000</td>\n",
       "      <td>174523.000000</td>\n",
       "      <td>97.000000</td>\n",
       "      <td>99.000000</td>\n",
       "      <td>99.000000</td>\n",
       "      <td>99.000000</td>\n",
       "      <td>1.000000</td>\n",
       "      <td>22.000000</td>\n",
       "      <td>4.000000</td>\n",
       "      <td>1.000000</td>\n",
       "      <td>260.000000</td>\n",
       "      <td>1.000000</td>\n",
       "      <td>300.00000</td>\n",
       "      <td>16.000000</td>\n",
       "      <td>9.000000</td>\n",
       "      <td>36.000000</td>\n",
       "      <td>56.000000</td>\n",
       "      <td>194.000000</td>\n",
       "      <td>3775.000000</td>\n",
       "      <td>95.000000</td>\n",
       "      <td>450.000000</td>\n",
       "      <td>997.000000</td>\n",
       "      <td>1000.000000</td>\n",
       "      <td>450.000000</td>\n",
       "      <td>450.000000</td>\n",
       "      <td>17.000000</td>\n",
       "      <td>64.000000</td>\n",
       "      <td>27.000000</td>\n",
       "      <td>260.000000</td>\n",
       "      <td>450.000000</td>\n",
       "      <td>41.000000</td>\n",
       "    </tr>\n",
       "  </tbody>\n",
       "</table>\n",
       "</div>"
      ],
      "text/plain": [
       "           TARGET_B     TARGET_D  CONTROL_NUMBER  MONTHS_SINCE_ORIGIN  \\\n",
       "count  19372.000000  4843.000000    19372.000000         19372.000000   \n",
       "mean       0.250000    15.624344    96546.225377            73.409973   \n",
       "std        0.433024    12.445137    55830.643871            41.255574   \n",
       "min        0.000000     1.000000        5.000000             5.000000   \n",
       "25%        0.000000    10.000000    48289.000000            29.000000   \n",
       "50%        0.000000    13.000000    96937.000000            65.000000   \n",
       "75%        0.250000    20.000000   145429.500000           113.000000   \n",
       "max        1.000000   200.000000   191779.000000           137.000000   \n",
       "\n",
       "          DONOR_AGE      IN_HOUSE           SES  INCOME_GROUP  \\\n",
       "count  14577.000000  19372.000000  18918.000000  14980.000000   \n",
       "mean      58.919051      0.073198      1.903425      3.907543   \n",
       "std       16.669382      0.260469      0.749215      1.864796   \n",
       "min        0.000000      0.000000      1.000000      1.000000   \n",
       "25%       47.000000      0.000000      1.000000      2.000000   \n",
       "50%       60.000000      0.000000      2.000000      4.000000   \n",
       "75%       73.000000      0.000000      2.000000      5.000000   \n",
       "max       87.000000      1.000000      4.000000      7.000000   \n",
       "\n",
       "       PUBLISHED_PHONE  MOR_HIT_RATE  WEALTH_RATING  MEDIAN_HOME_VALUE  \\\n",
       "count     19372.000000  19372.000000   10562.000000       19372.000000   \n",
       "mean          0.497729      3.361656       5.005397        1079.871929   \n",
       "std           0.500008      9.503481       2.815386         960.753448   \n",
       "min           0.000000      0.000000       0.000000           0.000000   \n",
       "25%           0.000000      0.000000       3.000000         518.000000   \n",
       "50%           0.000000      0.000000       5.000000         747.000000   \n",
       "75%           1.000000      3.000000       7.000000        1227.000000   \n",
       "max           1.000000    241.000000       9.000000        6000.000000   \n",
       "\n",
       "       MEDIAN_HOUSEHOLD_INCOME  PCT_OWNER_OCCUPIED  PER_CAPITA_INCOME  \\\n",
       "count             19372.000000        19372.000000       19372.000000   \n",
       "mean                341.970215           69.698999       15857.334452   \n",
       "std                 164.207807           21.711019        8710.630390   \n",
       "min                   0.000000            0.000000           0.000000   \n",
       "25%                 232.000000           60.000000       10869.000000   \n",
       "50%                 311.000000           76.000000       13816.500000   \n",
       "75%                 417.000000           85.000000       18308.250000   \n",
       "max                1500.000000           99.000000      174523.000000   \n",
       "\n",
       "       PCT_ATTRIBUTE1  PCT_ATTRIBUTE2  PCT_ATTRIBUTE3  PCT_ATTRIBUTE4  \\\n",
       "count    19372.000000    19372.000000    19372.000000    19372.000000   \n",
       "mean         1.029011       30.573921       29.603293       32.852467   \n",
       "std          4.918297       11.421471       15.120360       17.839765   \n",
       "min          0.000000        0.000000        0.000000        0.000000   \n",
       "25%          0.000000       25.000000       20.000000       21.000000   \n",
       "50%          0.000000       31.000000       29.000000       32.000000   \n",
       "75%          0.000000       37.000000       39.000000       43.000000   \n",
       "max         97.000000       99.000000       99.000000       99.000000   \n",
       "\n",
       "           PEP_STAR  RECENT_STAR_STATUS  FREQUENCY_STATUS_97NK  \\\n",
       "count  19372.000000        19372.000000           19372.000000   \n",
       "mean       0.504439            0.931138               1.983998   \n",
       "std        0.499993            2.545585               1.099346   \n",
       "min        0.000000            0.000000               1.000000   \n",
       "25%        0.000000            0.000000               1.000000   \n",
       "50%        1.000000            0.000000               2.000000   \n",
       "75%        1.000000            1.000000               3.000000   \n",
       "max        1.000000           22.000000               4.000000   \n",
       "\n",
       "       RECENT_RESPONSE_PROP  RECENT_AVG_GIFT_AMT  RECENT_CARD_RESPONSE_PROP  \\\n",
       "count          19372.000000         19372.000000               19372.000000   \n",
       "mean               0.190127            15.365396                   0.230808   \n",
       "std                0.113947            10.167485                   0.186230   \n",
       "min                0.000000             0.000000                   0.000000   \n",
       "25%                0.105000            10.000000                   0.100000   \n",
       "50%                0.167000            14.000000                   0.200000   \n",
       "75%                0.250000            20.000000                   0.333000   \n",
       "max                1.000000           260.000000                   1.000000   \n",
       "\n",
       "       RECENT_AVG_CARD_GIFT_AMT  RECENT_RESPONSE_COUNT  \\\n",
       "count               19372.00000           19372.000000   \n",
       "mean                   11.68547               3.043103   \n",
       "std                    10.83412               2.046401   \n",
       "min                     0.00000               0.000000   \n",
       "25%                     5.00000               2.000000   \n",
       "50%                    10.14000               3.000000   \n",
       "75%                    16.00000               4.000000   \n",
       "max                   300.00000              16.000000   \n",
       "\n",
       "       RECENT_CARD_RESPONSE_COUNT  MONTHS_SINCE_LAST_PROM_RESP  \\\n",
       "count                19372.000000                 19126.000000   \n",
       "mean                     1.730539                    19.038900   \n",
       "std                      1.535521                     3.415559   \n",
       "min                      0.000000                   -12.000000   \n",
       "25%                      1.000000                    17.000000   \n",
       "50%                      1.000000                    18.000000   \n",
       "75%                      2.000000                    21.000000   \n",
       "max                      9.000000                    36.000000   \n",
       "\n",
       "       LIFETIME_CARD_PROM  LIFETIME_PROM  LIFETIME_GIFT_AMOUNT  \\\n",
       "count        19372.000000   19372.000000          19372.000000   \n",
       "mean            18.668078      47.570514            104.425716   \n",
       "std              8.558778      22.950158            105.722460   \n",
       "min              2.000000       5.000000             15.000000   \n",
       "25%             11.000000      28.000000             42.000000   \n",
       "50%             18.000000      47.000000             79.000000   \n",
       "75%             26.000000      64.000000            132.000000   \n",
       "max             56.000000     194.000000           3775.000000   \n",
       "\n",
       "       LIFETIME_GIFT_COUNT  LIFETIME_AVG_GIFT_AMT  LIFETIME_GIFT_RANGE  \\\n",
       "count         19372.000000           19372.000000         19372.000000   \n",
       "mean              9.979765              12.858338            11.587876   \n",
       "std               8.688163               8.787758            15.116893   \n",
       "min               1.000000               1.360000             0.000000   \n",
       "25%               4.000000               8.000000             5.000000   \n",
       "50%               8.000000              11.200000            10.000000   \n",
       "75%              14.000000              15.000000            15.000000   \n",
       "max              95.000000             450.000000           997.000000   \n",
       "\n",
       "       LIFETIME_MAX_GIFT_AMT  LIFETIME_MIN_GIFT_AMT  LAST_GIFT_AMT  \\\n",
       "count           19372.000000           19372.000000   19372.000000   \n",
       "mean               19.208808               7.620932      16.584199   \n",
       "std                16.101128               7.959786      11.977558   \n",
       "min                 5.000000               0.000000       0.000000   \n",
       "25%                12.000000               3.000000      10.000000   \n",
       "50%                16.000000               5.000000      15.000000   \n",
       "75%                21.000000              10.000000      20.000000   \n",
       "max              1000.000000             450.000000     450.000000   \n",
       "\n",
       "       CARD_PROM_12  NUMBER_PROM_12  MONTHS_SINCE_LAST_GIFT  \\\n",
       "count  19372.000000    19372.000000            19372.000000   \n",
       "mean       5.367128       12.901869               18.191152   \n",
       "std        1.264205        4.642072                4.033065   \n",
       "min        0.000000        2.000000                4.000000   \n",
       "25%        5.000000       11.000000               16.000000   \n",
       "50%        6.000000       12.000000               18.000000   \n",
       "75%        6.000000       13.000000               20.000000   \n",
       "max       17.000000       64.000000               27.000000   \n",
       "\n",
       "       MONTHS_SINCE_FIRST_GIFT  FILE_AVG_GIFT  FILE_CARD_GIFT  \n",
       "count             19372.000000   19372.000000    19372.000000  \n",
       "mean                 69.482088      12.858338        5.273591  \n",
       "std                  37.568169       8.787758        4.607063  \n",
       "min                  15.000000       1.360000        0.000000  \n",
       "25%                  33.000000       8.000000        2.000000  \n",
       "50%                  65.000000      11.200000        4.000000  \n",
       "75%                 105.000000      15.000000        8.000000  \n",
       "max                 260.000000     450.000000       41.000000  "
      ]
     },
     "execution_count": 5,
     "metadata": {},
     "output_type": "execute_result"
    }
   ],
   "source": [
    "donors.describe()"
   ]
  },
  {
   "cell_type": "markdown",
   "metadata": {},
   "source": [
    "Another quick way to get a feel of the type of data we are dealing with is to plot a histogram for each one of the numerical attributes. We will explore the features further ahead in the project, this is just an initial overview."
   ]
  },
  {
   "cell_type": "code",
   "execution_count": 6,
   "metadata": {},
   "outputs": [
    {
     "data": {
      "image/png": "[encoded data removed]",
      "text/plain": [
       "<Figure size 1440x1440 with 49 Axes>"
      ]
     },
     "metadata": {
      "needs_background": "light"
     },
     "output_type": "display_data"
    }
   ],
   "source": [
    "donors.hist(bins=50, figsize=(20,20))\n",
    "plt.show();"
   ]
  },
  {
   "cell_type": "code",
   "execution_count": 7,
   "metadata": {},
   "outputs": [
    {
     "data": {
      "text/html": [
       "<div>\n",
       "<style scoped>\n",
       "    .dataframe tbody tr th:only-of-type {\n",
       "        vertical-align: middle;\n",
       "    }\n",
       "\n",
       "    .dataframe tbody tr th {\n",
       "        vertical-align: top;\n",
       "    }\n",
       "\n",
       "    .dataframe thead th {\n",
       "        text-align: right;\n",
       "    }\n",
       "</style>\n",
       "<table border=\"1\" class=\"dataframe\">\n",
       "  <thead>\n",
       "    <tr style=\"text-align: right;\">\n",
       "      <th></th>\n",
       "      <th>URBANICITY</th>\n",
       "      <th>CLUSTER_CODE</th>\n",
       "      <th>HOME_OWNER</th>\n",
       "      <th>DONOR_GENDER</th>\n",
       "      <th>OVERLAY_SOURCE</th>\n",
       "      <th>RECENCY_STATUS_96NK</th>\n",
       "    </tr>\n",
       "  </thead>\n",
       "  <tbody>\n",
       "    <tr>\n",
       "      <th>count</th>\n",
       "      <td>18918</td>\n",
       "      <td>19372</td>\n",
       "      <td>19372</td>\n",
       "      <td>19372</td>\n",
       "      <td>19372</td>\n",
       "      <td>19372</td>\n",
       "    </tr>\n",
       "    <tr>\n",
       "      <th>unique</th>\n",
       "      <td>5</td>\n",
       "      <td>54</td>\n",
       "      <td>2</td>\n",
       "      <td>4</td>\n",
       "      <td>4</td>\n",
       "      <td>6</td>\n",
       "    </tr>\n",
       "    <tr>\n",
       "      <th>top</th>\n",
       "      <td>S</td>\n",
       "      <td>40</td>\n",
       "      <td>H</td>\n",
       "      <td>F</td>\n",
       "      <td>B</td>\n",
       "      <td>A</td>\n",
       "    </tr>\n",
       "    <tr>\n",
       "      <th>freq</th>\n",
       "      <td>4491</td>\n",
       "      <td>830</td>\n",
       "      <td>10606</td>\n",
       "      <td>10401</td>\n",
       "      <td>8732</td>\n",
       "      <td>11918</td>\n",
       "    </tr>\n",
       "  </tbody>\n",
       "</table>\n",
       "</div>"
      ],
      "text/plain": [
       "       URBANICITY CLUSTER_CODE HOME_OWNER DONOR_GENDER OVERLAY_SOURCE  \\\n",
       "count       18918        19372      19372        19372          19372   \n",
       "unique          5           54          2            4              4   \n",
       "top             S           40          H            F              B   \n",
       "freq         4491          830      10606        10401           8732   \n",
       "\n",
       "       RECENCY_STATUS_96NK  \n",
       "count                19372  \n",
       "unique                   6  \n",
       "top                      A  \n",
       "freq                 11918  "
      ]
     },
     "execution_count": 7,
     "metadata": {},
     "output_type": "execute_result"
    }
   ],
   "source": [
    "donors.describe(include=np.object)"
   ]
  },
  {
   "cell_type": "markdown",
   "metadata": {},
   "source": [
    "\n",
    "After a first look at the dataset and its feature, we can split the variables in two main groups:\n",
    "+ **Demographic:** these are related to the donor and their demographics. `DONOR_AGE`, `DONOR_GENDER`, `INCOME_GROUP`, `MEDIAN_HOUSEHOLD_INCOME`, `URBANICITY` are some examples of features that pertain to the donor and their social and economic reality.\n",
    "+ **Donation:** these are related to the donor's donation history and other charity functional features: `PEP_STAR`, `IN_HOUSE`, `PUBLISHED_PHONE`, `FREQUENCY_STATUS_97NK` are some examples of this type."
   ]
  },
  {
   "cell_type": "markdown",
   "metadata": {},
   "source": [
    "## 2.1. Checking Duplicated Entries"
   ]
  },
  {
   "cell_type": "code",
   "execution_count": 8,
   "metadata": {},
   "outputs": [
    {
     "name": "stdout",
     "output_type": "stream",
     "text": [
      "There are no duplicated entries in this dataset.\n"
     ]
    }
   ],
   "source": [
    "if donors.shape[0] == len(donors.CONTROL_NUMBER.unique()):\n",
    "    print('There are no duplicated entries in this dataset.')\n",
    "else:\n",
    "    print('There are {} duplicated entries'.format(donors.shape[0] - len(donors.CONTROL_NUMBER.unique())))"
   ]
  },
  {
   "cell_type": "markdown",
   "metadata": {},
   "source": [
    "## 2.2. Checking the target variables TARGET_B and TARGET_D "
   ]
  },
  {
   "cell_type": "code",
   "execution_count": 9,
   "metadata": {},
   "outputs": [
    {
     "name": "stdout",
     "output_type": "stream",
     "text": [
      "Total number of non-donors (0) = 14529, 75.0 percent of total\n",
      "Total number of donors (1) = 4843, 25.0 percent of total\n"
     ]
    }
   ],
   "source": [
    "print(\"Total number of non-donors (0) = {}, {} percent of total\".format(donors[donors['TARGET_B']==0].shape[0], donors[donors['TARGET_B']==0].shape[0]/donors.shape[0]*100))\n",
    "print(\"Total number of donors (1) = {}, {} percent of total\".format(donors[donors['TARGET_B']==1].shape[0], donors[donors['TARGET_B']==1].shape[0]/donors.shape[0]*100))"
   ]
  },
  {
   "cell_type": "markdown",
   "metadata": {},
   "source": [
    "We can conclude that the data is not balanced; that is, our two target classes from the feature 'TARGET_B', donors (1) and non-donors (0), are not represented equally in the dataset. \n",
    "Only a small part of the individuals donated. \n",
    "As we will see further ahead in the project, this will imply some restrictions when choosing which performance metrics to measure."
   ]
  },
  {
   "cell_type": "code",
   "execution_count": 10,
   "metadata": {},
   "outputs": [
    {
     "data": {
      "text/html": [
       "<div>\n",
       "<style scoped>\n",
       "    .dataframe tbody tr th:only-of-type {\n",
       "        vertical-align: middle;\n",
       "    }\n",
       "\n",
       "    .dataframe tbody tr th {\n",
       "        vertical-align: top;\n",
       "    }\n",
       "\n",
       "    .dataframe thead th {\n",
       "        text-align: right;\n",
       "    }\n",
       "</style>\n",
       "<table border=\"1\" class=\"dataframe\">\n",
       "  <thead>\n",
       "    <tr style=\"text-align: right;\">\n",
       "      <th></th>\n",
       "      <th>TARGET_D</th>\n",
       "    </tr>\n",
       "  </thead>\n",
       "  <tbody>\n",
       "    <tr>\n",
       "      <th>10.00</th>\n",
       "      <td>941</td>\n",
       "    </tr>\n",
       "    <tr>\n",
       "      <th>15.00</th>\n",
       "      <td>591</td>\n",
       "    </tr>\n",
       "    <tr>\n",
       "      <th>20.00</th>\n",
       "      <td>577</td>\n",
       "    </tr>\n",
       "    <tr>\n",
       "      <th>5.00</th>\n",
       "      <td>503</td>\n",
       "    </tr>\n",
       "    <tr>\n",
       "      <th>25.00</th>\n",
       "      <td>392</td>\n",
       "    </tr>\n",
       "    <tr>\n",
       "      <th>...</th>\n",
       "      <td>...</td>\n",
       "    </tr>\n",
       "    <tr>\n",
       "      <th>16.87</th>\n",
       "      <td>1</td>\n",
       "    </tr>\n",
       "    <tr>\n",
       "      <th>101.00</th>\n",
       "      <td>1</td>\n",
       "    </tr>\n",
       "    <tr>\n",
       "      <th>13.92</th>\n",
       "      <td>1</td>\n",
       "    </tr>\n",
       "    <tr>\n",
       "      <th>5.25</th>\n",
       "      <td>1</td>\n",
       "    </tr>\n",
       "    <tr>\n",
       "      <th>55.00</th>\n",
       "      <td>1</td>\n",
       "    </tr>\n",
       "  </tbody>\n",
       "</table>\n",
       "<p>70 rows × 1 columns</p>\n",
       "</div>"
      ],
      "text/plain": [
       "        TARGET_D\n",
       "10.00        941\n",
       "15.00        591\n",
       "20.00        577\n",
       "5.00         503\n",
       "25.00        392\n",
       "...          ...\n",
       "16.87          1\n",
       "101.00         1\n",
       "13.92          1\n",
       "5.25           1\n",
       "55.00          1\n",
       "\n",
       "[70 rows x 1 columns]"
      ]
     },
     "execution_count": 10,
     "metadata": {},
     "output_type": "execute_result"
    }
   ],
   "source": [
    "pd.DataFrame(donors['TARGET_D'].value_counts()) #checking the counts of unique values of TARGET_D"
   ]
  },
  {
   "cell_type": "code",
   "execution_count": 11,
   "metadata": {},
   "outputs": [
    {
     "data": {
      "text/html": [
       "<div>\n",
       "<style scoped>\n",
       "    .dataframe tbody tr th:only-of-type {\n",
       "        vertical-align: middle;\n",
       "    }\n",
       "\n",
       "    .dataframe tbody tr th {\n",
       "        vertical-align: top;\n",
       "    }\n",
       "\n",
       "    .dataframe thead th {\n",
       "        text-align: right;\n",
       "    }\n",
       "</style>\n",
       "<table border=\"1\" class=\"dataframe\">\n",
       "  <thead>\n",
       "    <tr style=\"text-align: right;\">\n",
       "      <th></th>\n",
       "      <th>TARGET_D</th>\n",
       "    </tr>\n",
       "  </thead>\n",
       "  <tbody>\n",
       "    <tr>\n",
       "      <th>count</th>\n",
       "      <td>4843.000000</td>\n",
       "    </tr>\n",
       "    <tr>\n",
       "      <th>mean</th>\n",
       "      <td>15.624344</td>\n",
       "    </tr>\n",
       "    <tr>\n",
       "      <th>std</th>\n",
       "      <td>12.445137</td>\n",
       "    </tr>\n",
       "    <tr>\n",
       "      <th>min</th>\n",
       "      <td>1.000000</td>\n",
       "    </tr>\n",
       "    <tr>\n",
       "      <th>25%</th>\n",
       "      <td>10.000000</td>\n",
       "    </tr>\n",
       "    <tr>\n",
       "      <th>50%</th>\n",
       "      <td>13.000000</td>\n",
       "    </tr>\n",
       "    <tr>\n",
       "      <th>75%</th>\n",
       "      <td>20.000000</td>\n",
       "    </tr>\n",
       "    <tr>\n",
       "      <th>max</th>\n",
       "      <td>200.000000</td>\n",
       "    </tr>\n",
       "  </tbody>\n",
       "</table>\n",
       "</div>"
      ],
      "text/plain": [
       "          TARGET_D\n",
       "count  4843.000000\n",
       "mean     15.624344\n",
       "std      12.445137\n",
       "min       1.000000\n",
       "25%      10.000000\n",
       "50%      13.000000\n",
       "75%      20.000000\n",
       "max     200.000000"
      ]
     },
     "execution_count": 11,
     "metadata": {},
     "output_type": "execute_result"
    }
   ],
   "source": [
    "pd.DataFrame(donors['TARGET_D'].describe()) #checking some statistical details of TARGET_D"
   ]
  },
  {
   "cell_type": "markdown",
   "metadata": {},
   "source": [
    "When analysing TARGET_D, we can observe that there were 4843 donations as a response to last year's soliciation, with the mean close to $15.6.\n",
    "\n",
    "Half of individuals have donated $13 or less, while the max donation summed up to 200 dollars."
   ]
  },
  {
   "cell_type": "markdown",
   "metadata": {},
   "source": [
    "## 2.3. Adding DONATION_TYPE to the dataset"
   ]
  },
  {
   "cell_type": "code",
   "execution_count": 12,
   "metadata": {},
   "outputs": [
    {
     "name": "stderr",
     "output_type": "stream",
     "text": [
      "C:\\Users\\filip\\Anaconda3\\lib\\site-packages\\seaborn\\_decorators.py:43: FutureWarning: Pass the following variable as a keyword arg: x. From version 0.12, the only valid positional argument will be `data`, and passing other arguments without an explicit keyword will result in an error or misinterpretation.\n",
      "  FutureWarning\n"
     ]
    },
    {
     "data": {
      "image/png": "[encoded data removed]",
      "text/plain": [
       "<Figure size 2160x576 with 1 Axes>"
      ]
     },
     "metadata": {
      "needs_background": "light"
     },
     "output_type": "display_data"
    }
   ],
   "source": [
    "fig, ax = plt.subplots(1, 1, figsize=(8,4))\n",
    "g=sns.countplot(donors['TARGET_D'], palette='YlGnBu')\n",
    "plt.title('Amount of donation (in $) in response to last years mail solicitation from the charitable organization')\n",
    "g.figure.set_size_inches(30,8)\n",
    "plt.show();"
   ]
  },
  {
   "cell_type": "code",
   "execution_count": 13,
   "metadata": {},
   "outputs": [
    {
     "data": {
      "text/plain": [
       "count    4843.000000\n",
       "mean       15.624344\n",
       "std        12.445137\n",
       "min         1.000000\n",
       "25%        10.000000\n",
       "50%        13.000000\n",
       "75%        20.000000\n",
       "max       200.000000\n",
       "Name: TARGET_D, dtype: float64"
      ]
     },
     "execution_count": 13,
     "metadata": {},
     "output_type": "execute_result"
    }
   ],
   "source": [
    "donors['TARGET_D'].describe()"
   ]
  },
  {
   "cell_type": "markdown",
   "metadata": {},
   "source": [
    "Based on the data distrubtion, we have taken considered the following cut offs to define a new feature named  `DONATION_TYPE`, whose values describe ranges of the donation amount (DA) reported in feature `TARGET_D` when it takes up a value different that zero, that is, when an individual is a donor:\n",
    "\n",
    "* `A` - DA >= 50\n",
    "* `B` - 20 <= DA < 50 \n",
    "* `C` - 13 <= DA < 20\n",
    "* `D` - 10 <= DA < 13\n",
    "* `E` - DA < 10"
   ]
  },
  {
   "cell_type": "code",
   "execution_count": 14,
   "metadata": {},
   "outputs": [],
   "source": [
    "# creating a list for our classes according to the different threshold donations\n",
    "thresholds = [\n",
    "    (donors['TARGET_D']  >= 50),\n",
    "    (donors['TARGET_D'] < 50) & (donors['TARGET_D']  >= 20),\n",
    "    (donors['TARGET_D'] < 20) & (donors['TARGET_D']  >= 13),\n",
    "    (donors['TARGET_D'] < 13) & (donors['TARGET_D']  >= 10),\n",
    "    (donors['TARGET_D'] < 10)\n",
    "    ]\n",
    "\n",
    "# creating a list of the classes\n",
    "values = ['A', 'B', 'C', 'D', 'E']\n",
    "\n",
    "# creating a new column, representing an ordinal feature\n",
    "#using np.select to assign values to DONATION_TYPE using the above lists as arguments\n",
    "donors['DONATION_TYPE'] = np.select(thresholds, values, default=np.nan)"
   ]
  },
  {
   "cell_type": "code",
   "execution_count": 15,
   "metadata": {},
   "outputs": [
    {
     "data": {
      "text/plain": [
       "0        nan\n",
       "1          D\n",
       "2        nan\n",
       "3        nan\n",
       "4        nan\n",
       "        ... \n",
       "19367    nan\n",
       "19368    nan\n",
       "19369    nan\n",
       "19370    nan\n",
       "19371      A\n",
       "Name: DONATION_TYPE, Length: 19372, dtype: object"
      ]
     },
     "execution_count": 15,
     "metadata": {},
     "output_type": "execute_result"
    }
   ],
   "source": [
    "donors['DONATION_TYPE']"
   ]
  },
  {
   "cell_type": "markdown",
   "metadata": {},
   "source": [
    "It is important to highlight that when 'DONATION_TYPE' takes up a value different than the classes created above (A,B,C,D,E), it is due to the fact that the individual is a non-donor."
   ]
  },
  {
   "cell_type": "code",
   "execution_count": 16,
   "metadata": {},
   "outputs": [
    {
     "name": "stderr",
     "output_type": "stream",
     "text": [
      "C:\\Users\\filip\\Anaconda3\\lib\\site-packages\\seaborn\\_decorators.py:43: FutureWarning: Pass the following variable as a keyword arg: x. From version 0.12, the only valid positional argument will be `data`, and passing other arguments without an explicit keyword will result in an error or misinterpretation.\n",
      "  FutureWarning\n"
     ]
    },
    {
     "data": {
      "image/png": "[encoded data removed]",
      "text/plain": [
       "<Figure size 576x288 with 1 Axes>"
      ]
     },
     "metadata": {
      "needs_background": "light"
     },
     "output_type": "display_data"
    }
   ],
   "source": [
    "fig, ax = plt.subplots(1, 1, figsize=(8,4))\n",
    "sns.countplot(donors['DONATION_TYPE'], palette='YlGnBu')\n",
    "plt.xlabel('DONATION_TYPE')\n",
    "plt.title('Categorical Donation Type Distribution')\n",
    "plt.show();"
   ]
  },
  {
   "cell_type": "markdown",
   "metadata": {},
   "source": [
    "atenção"
   ]
  },
  {
   "cell_type": "markdown",
   "metadata": {},
   "source": [
    "We had already known that we were dealing with an imbalanced dataset (75% non-donors represented by the 'nan' column), the above bar chart highlights the high value donations >= 50 dollars were the least common in last year's donation."
   ]
  },
  {
   "cell_type": "markdown",
   "metadata": {},
   "source": [
    "## 2.4. Missing Values"
   ]
  },
  {
   "cell_type": "code",
   "execution_count": 17,
   "metadata": {},
   "outputs": [
    {
     "data": {
      "text/html": [
       "<div>\n",
       "<style scoped>\n",
       "    .dataframe tbody tr th:only-of-type {\n",
       "        vertical-align: middle;\n",
       "    }\n",
       "\n",
       "    .dataframe tbody tr th {\n",
       "        vertical-align: top;\n",
       "    }\n",
       "\n",
       "    .dataframe thead th {\n",
       "        text-align: right;\n",
       "    }\n",
       "</style>\n",
       "<table border=\"1\" class=\"dataframe\">\n",
       "  <thead>\n",
       "    <tr style=\"text-align: right;\">\n",
       "      <th></th>\n",
       "      <th>% of NA</th>\n",
       "      <th>Total NA</th>\n",
       "      <th>Type</th>\n",
       "    </tr>\n",
       "  </thead>\n",
       "  <tbody>\n",
       "    <tr>\n",
       "      <th>TARGET_D</th>\n",
       "      <td>75.00000</td>\n",
       "      <td>14529</td>\n",
       "      <td>float64</td>\n",
       "    </tr>\n",
       "    <tr>\n",
       "      <th>WEALTH_RATING</th>\n",
       "      <td>45.47801</td>\n",
       "      <td>8810</td>\n",
       "      <td>float64</td>\n",
       "    </tr>\n",
       "    <tr>\n",
       "      <th>DONOR_AGE</th>\n",
       "      <td>24.75222</td>\n",
       "      <td>4795</td>\n",
       "      <td>float64</td>\n",
       "    </tr>\n",
       "    <tr>\n",
       "      <th>INCOME_GROUP</th>\n",
       "      <td>22.67190</td>\n",
       "      <td>4392</td>\n",
       "      <td>float64</td>\n",
       "    </tr>\n",
       "    <tr>\n",
       "      <th>URBANICITY</th>\n",
       "      <td>2.34359</td>\n",
       "      <td>454</td>\n",
       "      <td>object</td>\n",
       "    </tr>\n",
       "    <tr>\n",
       "      <th>SES</th>\n",
       "      <td>2.34359</td>\n",
       "      <td>454</td>\n",
       "      <td>float64</td>\n",
       "    </tr>\n",
       "    <tr>\n",
       "      <th>MONTHS_SINCE_LAST_PROM_RESP</th>\n",
       "      <td>1.26987</td>\n",
       "      <td>246</td>\n",
       "      <td>float64</td>\n",
       "    </tr>\n",
       "    <tr>\n",
       "      <th>TARGET_B</th>\n",
       "      <td>0.00000</td>\n",
       "      <td>0</td>\n",
       "      <td>int64</td>\n",
       "    </tr>\n",
       "    <tr>\n",
       "      <th>LIFETIME_AVG_GIFT_AMT</th>\n",
       "      <td>0.00000</td>\n",
       "      <td>0</td>\n",
       "      <td>float64</td>\n",
       "    </tr>\n",
       "    <tr>\n",
       "      <th>RECENT_AVG_CARD_GIFT_AMT</th>\n",
       "      <td>0.00000</td>\n",
       "      <td>0</td>\n",
       "      <td>float64</td>\n",
       "    </tr>\n",
       "    <tr>\n",
       "      <th>RECENT_RESPONSE_COUNT</th>\n",
       "      <td>0.00000</td>\n",
       "      <td>0</td>\n",
       "      <td>int64</td>\n",
       "    </tr>\n",
       "    <tr>\n",
       "      <th>RECENT_CARD_RESPONSE_COUNT</th>\n",
       "      <td>0.00000</td>\n",
       "      <td>0</td>\n",
       "      <td>int64</td>\n",
       "    </tr>\n",
       "    <tr>\n",
       "      <th>LIFETIME_CARD_PROM</th>\n",
       "      <td>0.00000</td>\n",
       "      <td>0</td>\n",
       "      <td>int64</td>\n",
       "    </tr>\n",
       "    <tr>\n",
       "      <th>LIFETIME_PROM</th>\n",
       "      <td>0.00000</td>\n",
       "      <td>0</td>\n",
       "      <td>int64</td>\n",
       "    </tr>\n",
       "    <tr>\n",
       "      <th>LIFETIME_GIFT_AMOUNT</th>\n",
       "      <td>0.00000</td>\n",
       "      <td>0</td>\n",
       "      <td>float64</td>\n",
       "    </tr>\n",
       "    <tr>\n",
       "      <th>LIFETIME_GIFT_COUNT</th>\n",
       "      <td>0.00000</td>\n",
       "      <td>0</td>\n",
       "      <td>int64</td>\n",
       "    </tr>\n",
       "    <tr>\n",
       "      <th>LIFETIME_MAX_GIFT_AMT</th>\n",
       "      <td>0.00000</td>\n",
       "      <td>0</td>\n",
       "      <td>float64</td>\n",
       "    </tr>\n",
       "    <tr>\n",
       "      <th>LIFETIME_GIFT_RANGE</th>\n",
       "      <td>0.00000</td>\n",
       "      <td>0</td>\n",
       "      <td>float64</td>\n",
       "    </tr>\n",
       "    <tr>\n",
       "      <th>RECENT_AVG_GIFT_AMT</th>\n",
       "      <td>0.00000</td>\n",
       "      <td>0</td>\n",
       "      <td>float64</td>\n",
       "    </tr>\n",
       "    <tr>\n",
       "      <th>LIFETIME_MIN_GIFT_AMT</th>\n",
       "      <td>0.00000</td>\n",
       "      <td>0</td>\n",
       "      <td>float64</td>\n",
       "    </tr>\n",
       "    <tr>\n",
       "      <th>LAST_GIFT_AMT</th>\n",
       "      <td>0.00000</td>\n",
       "      <td>0</td>\n",
       "      <td>float64</td>\n",
       "    </tr>\n",
       "    <tr>\n",
       "      <th>CARD_PROM_12</th>\n",
       "      <td>0.00000</td>\n",
       "      <td>0</td>\n",
       "      <td>int64</td>\n",
       "    </tr>\n",
       "    <tr>\n",
       "      <th>NUMBER_PROM_12</th>\n",
       "      <td>0.00000</td>\n",
       "      <td>0</td>\n",
       "      <td>int64</td>\n",
       "    </tr>\n",
       "    <tr>\n",
       "      <th>MONTHS_SINCE_LAST_GIFT</th>\n",
       "      <td>0.00000</td>\n",
       "      <td>0</td>\n",
       "      <td>int64</td>\n",
       "    </tr>\n",
       "    <tr>\n",
       "      <th>MONTHS_SINCE_FIRST_GIFT</th>\n",
       "      <td>0.00000</td>\n",
       "      <td>0</td>\n",
       "      <td>int64</td>\n",
       "    </tr>\n",
       "    <tr>\n",
       "      <th>FILE_AVG_GIFT</th>\n",
       "      <td>0.00000</td>\n",
       "      <td>0</td>\n",
       "      <td>float64</td>\n",
       "    </tr>\n",
       "    <tr>\n",
       "      <th>FILE_CARD_GIFT</th>\n",
       "      <td>0.00000</td>\n",
       "      <td>0</td>\n",
       "      <td>int64</td>\n",
       "    </tr>\n",
       "    <tr>\n",
       "      <th>RECENT_CARD_RESPONSE_PROP</th>\n",
       "      <td>0.00000</td>\n",
       "      <td>0</td>\n",
       "      <td>float64</td>\n",
       "    </tr>\n",
       "    <tr>\n",
       "      <th>RECENT_STAR_STATUS</th>\n",
       "      <td>0.00000</td>\n",
       "      <td>0</td>\n",
       "      <td>int64</td>\n",
       "    </tr>\n",
       "    <tr>\n",
       "      <th>RECENT_RESPONSE_PROP</th>\n",
       "      <td>0.00000</td>\n",
       "      <td>0</td>\n",
       "      <td>float64</td>\n",
       "    </tr>\n",
       "    <tr>\n",
       "      <th>FREQUENCY_STATUS_97NK</th>\n",
       "      <td>0.00000</td>\n",
       "      <td>0</td>\n",
       "      <td>int64</td>\n",
       "    </tr>\n",
       "    <tr>\n",
       "      <th>CONTROL_NUMBER</th>\n",
       "      <td>0.00000</td>\n",
       "      <td>0</td>\n",
       "      <td>int64</td>\n",
       "    </tr>\n",
       "    <tr>\n",
       "      <th>MONTHS_SINCE_ORIGIN</th>\n",
       "      <td>0.00000</td>\n",
       "      <td>0</td>\n",
       "      <td>int64</td>\n",
       "    </tr>\n",
       "    <tr>\n",
       "      <th>IN_HOUSE</th>\n",
       "      <td>0.00000</td>\n",
       "      <td>0</td>\n",
       "      <td>int64</td>\n",
       "    </tr>\n",
       "    <tr>\n",
       "      <th>CLUSTER_CODE</th>\n",
       "      <td>0.00000</td>\n",
       "      <td>0</td>\n",
       "      <td>object</td>\n",
       "    </tr>\n",
       "    <tr>\n",
       "      <th>HOME_OWNER</th>\n",
       "      <td>0.00000</td>\n",
       "      <td>0</td>\n",
       "      <td>object</td>\n",
       "    </tr>\n",
       "    <tr>\n",
       "      <th>DONOR_GENDER</th>\n",
       "      <td>0.00000</td>\n",
       "      <td>0</td>\n",
       "      <td>object</td>\n",
       "    </tr>\n",
       "    <tr>\n",
       "      <th>PUBLISHED_PHONE</th>\n",
       "      <td>0.00000</td>\n",
       "      <td>0</td>\n",
       "      <td>int64</td>\n",
       "    </tr>\n",
       "    <tr>\n",
       "      <th>OVERLAY_SOURCE</th>\n",
       "      <td>0.00000</td>\n",
       "      <td>0</td>\n",
       "      <td>object</td>\n",
       "    </tr>\n",
       "    <tr>\n",
       "      <th>MOR_HIT_RATE</th>\n",
       "      <td>0.00000</td>\n",
       "      <td>0</td>\n",
       "      <td>int64</td>\n",
       "    </tr>\n",
       "    <tr>\n",
       "      <th>MEDIAN_HOME_VALUE</th>\n",
       "      <td>0.00000</td>\n",
       "      <td>0</td>\n",
       "      <td>int64</td>\n",
       "    </tr>\n",
       "    <tr>\n",
       "      <th>MEDIAN_HOUSEHOLD_INCOME</th>\n",
       "      <td>0.00000</td>\n",
       "      <td>0</td>\n",
       "      <td>int64</td>\n",
       "    </tr>\n",
       "    <tr>\n",
       "      <th>PCT_OWNER_OCCUPIED</th>\n",
       "      <td>0.00000</td>\n",
       "      <td>0</td>\n",
       "      <td>int64</td>\n",
       "    </tr>\n",
       "    <tr>\n",
       "      <th>PER_CAPITA_INCOME</th>\n",
       "      <td>0.00000</td>\n",
       "      <td>0</td>\n",
       "      <td>int64</td>\n",
       "    </tr>\n",
       "    <tr>\n",
       "      <th>PCT_ATTRIBUTE1</th>\n",
       "      <td>0.00000</td>\n",
       "      <td>0</td>\n",
       "      <td>int64</td>\n",
       "    </tr>\n",
       "    <tr>\n",
       "      <th>PCT_ATTRIBUTE2</th>\n",
       "      <td>0.00000</td>\n",
       "      <td>0</td>\n",
       "      <td>int64</td>\n",
       "    </tr>\n",
       "    <tr>\n",
       "      <th>PCT_ATTRIBUTE3</th>\n",
       "      <td>0.00000</td>\n",
       "      <td>0</td>\n",
       "      <td>int64</td>\n",
       "    </tr>\n",
       "    <tr>\n",
       "      <th>PCT_ATTRIBUTE4</th>\n",
       "      <td>0.00000</td>\n",
       "      <td>0</td>\n",
       "      <td>int64</td>\n",
       "    </tr>\n",
       "    <tr>\n",
       "      <th>PEP_STAR</th>\n",
       "      <td>0.00000</td>\n",
       "      <td>0</td>\n",
       "      <td>int64</td>\n",
       "    </tr>\n",
       "    <tr>\n",
       "      <th>RECENCY_STATUS_96NK</th>\n",
       "      <td>0.00000</td>\n",
       "      <td>0</td>\n",
       "      <td>object</td>\n",
       "    </tr>\n",
       "    <tr>\n",
       "      <th>DONATION_TYPE</th>\n",
       "      <td>0.00000</td>\n",
       "      <td>0</td>\n",
       "      <td>object</td>\n",
       "    </tr>\n",
       "  </tbody>\n",
       "</table>\n",
       "</div>"
      ],
      "text/plain": [
       "                              % of NA  Total NA     Type\n",
       "TARGET_D                     75.00000     14529  float64\n",
       "WEALTH_RATING                45.47801      8810  float64\n",
       "DONOR_AGE                    24.75222      4795  float64\n",
       "INCOME_GROUP                 22.67190      4392  float64\n",
       "URBANICITY                    2.34359       454   object\n",
       "SES                           2.34359       454  float64\n",
       "MONTHS_SINCE_LAST_PROM_RESP   1.26987       246  float64\n",
       "TARGET_B                      0.00000         0    int64\n",
       "LIFETIME_AVG_GIFT_AMT         0.00000         0  float64\n",
       "RECENT_AVG_CARD_GIFT_AMT      0.00000         0  float64\n",
       "RECENT_RESPONSE_COUNT         0.00000         0    int64\n",
       "RECENT_CARD_RESPONSE_COUNT    0.00000         0    int64\n",
       "LIFETIME_CARD_PROM            0.00000         0    int64\n",
       "LIFETIME_PROM                 0.00000         0    int64\n",
       "LIFETIME_GIFT_AMOUNT          0.00000         0  float64\n",
       "LIFETIME_GIFT_COUNT           0.00000         0    int64\n",
       "LIFETIME_MAX_GIFT_AMT         0.00000         0  float64\n",
       "LIFETIME_GIFT_RANGE           0.00000         0  float64\n",
       "RECENT_AVG_GIFT_AMT           0.00000         0  float64\n",
       "LIFETIME_MIN_GIFT_AMT         0.00000         0  float64\n",
       "LAST_GIFT_AMT                 0.00000         0  float64\n",
       "CARD_PROM_12                  0.00000         0    int64\n",
       "NUMBER_PROM_12                0.00000         0    int64\n",
       "MONTHS_SINCE_LAST_GIFT        0.00000         0    int64\n",
       "MONTHS_SINCE_FIRST_GIFT       0.00000         0    int64\n",
       "FILE_AVG_GIFT                 0.00000         0  float64\n",
       "FILE_CARD_GIFT                0.00000         0    int64\n",
       "RECENT_CARD_RESPONSE_PROP     0.00000         0  float64\n",
       "RECENT_STAR_STATUS            0.00000         0    int64\n",
       "RECENT_RESPONSE_PROP          0.00000         0  float64\n",
       "FREQUENCY_STATUS_97NK         0.00000         0    int64\n",
       "CONTROL_NUMBER                0.00000         0    int64\n",
       "MONTHS_SINCE_ORIGIN           0.00000         0    int64\n",
       "IN_HOUSE                      0.00000         0    int64\n",
       "CLUSTER_CODE                  0.00000         0   object\n",
       "HOME_OWNER                    0.00000         0   object\n",
       "DONOR_GENDER                  0.00000         0   object\n",
       "PUBLISHED_PHONE               0.00000         0    int64\n",
       "OVERLAY_SOURCE                0.00000         0   object\n",
       "MOR_HIT_RATE                  0.00000         0    int64\n",
       "MEDIAN_HOME_VALUE             0.00000         0    int64\n",
       "MEDIAN_HOUSEHOLD_INCOME       0.00000         0    int64\n",
       "PCT_OWNER_OCCUPIED            0.00000         0    int64\n",
       "PER_CAPITA_INCOME             0.00000         0    int64\n",
       "PCT_ATTRIBUTE1                0.00000         0    int64\n",
       "PCT_ATTRIBUTE2                0.00000         0    int64\n",
       "PCT_ATTRIBUTE3                0.00000         0    int64\n",
       "PCT_ATTRIBUTE4                0.00000         0    int64\n",
       "PEP_STAR                      0.00000         0    int64\n",
       "RECENCY_STATUS_96NK           0.00000         0   object\n",
       "DONATION_TYPE                 0.00000         0   object"
      ]
     },
     "execution_count": 17,
     "metadata": {},
     "output_type": "execute_result"
    }
   ],
   "source": [
    "na_found=donors.isna().sum().any()\n",
    "if na_found==True:\n",
    "    total_na = donors.isnull().sum()\n",
    "    percent_na = round(donors.isnull().sum()/donors.isnull().count()*100,5)\n",
    "    donors_df2 = pd.concat([percent_na, total_na], axis=1, keys=[\"% of NA\", \"Total NA\"])\n",
    "    dtypes = []\n",
    "    for i in donors.columns:\n",
    "        dtype = str(donors[i].dtype)\n",
    "        dtypes.append(dtype)\n",
    "    donors_df2['Type'] = dtypes\n",
    "    donors_df2 = donors_df2.sort_values('% of NA', ascending=False)\n",
    "donors_df2"
   ]
  },
  {
   "cell_type": "markdown",
   "metadata": {},
   "source": [
    "Seven features were found to have missing values. It is important to highlight that the target variable TARGET_D has a considerable number of NAs, totalling 75% of the observations - as confirmed previously, this is due to the fact that 75% of individuals have not donated, hence their amount of donation does not exist.\n",
    "\n",
    "Additionally,  `WEALTH_RATING`, `INCOME_GROUP`, `SES`, `DONOR_AGE` and `URBANICITY` all have a high number of NA values, with the first three being the most problematic as the percentage of missing entries is above 20 %.\n",
    "\n",
    "For different features, we will find different imputation methods."
   ]
  },
  {
   "cell_type": "code",
   "execution_count": 18,
   "metadata": {},
   "outputs": [
    {
     "data": {
      "image/png": "[encoded data removed]",
      "text/plain": [
       "<Figure size 432x288 with 1 Axes>"
      ]
     },
     "metadata": {
      "needs_background": "light"
     },
     "output_type": "display_data"
    }
   ],
   "source": [
    "#feature type distribution\n",
    "fig,ax = plt.subplots()\n",
    "sns.barplot(data=donors_df2,x=donors_df2.Type.unique(), y=donors_df2.Type.value_counts(),ax=ax, palette='YlGnBu')\n",
    "ax.set(xlabel='Type', ylabel='Count',title=\"Variables Type\");"
   ]
  },
  {
   "cell_type": "code",
   "execution_count": 19,
   "metadata": {},
   "outputs": [
    {
     "data": {
      "text/plain": [
       "['TARGET_D',\n",
       " 'DONOR_AGE',\n",
       " 'URBANICITY',\n",
       " 'SES',\n",
       " 'INCOME_GROUP',\n",
       " 'WEALTH_RATING',\n",
       " 'MONTHS_SINCE_LAST_PROM_RESP']"
      ]
     },
     "execution_count": 19,
     "metadata": {},
     "output_type": "execute_result"
    }
   ],
   "source": [
    " list(donors.columns[donors.isnull().any()]) #getting a list of features with missing values"
   ]
  },
  {
   "cell_type": "markdown",
   "metadata": {},
   "source": [
    "   - Let's start with `DONOR_AGE`, we can impute the mean for this variable for every NA as it does not affect the variable distribution. "
   ]
  },
  {
   "cell_type": "code",
   "execution_count": 20,
   "metadata": {},
   "outputs": [
    {
     "data": {
      "text/plain": [
       "0"
      ]
     },
     "execution_count": 20,
     "metadata": {},
     "output_type": "execute_result"
    }
   ],
   "source": [
    "ageMedian = donors[\"DONOR_AGE\"].median()\n",
    "donors[\"DONOR_AGE\"] = donors[\"DONOR_AGE\"].fillna(ageMedian)\n",
    "donors[\"DONOR_AGE\"].isnull().sum()"
   ]
  },
  {
   "cell_type": "code",
   "execution_count": 21,
   "metadata": {},
   "outputs": [],
   "source": [
    "donors['DONOR_AGE']=donors['DONOR_AGE'].astype('int64')"
   ]
  },
  {
   "cell_type": "markdown",
   "metadata": {},
   "source": [
    "   - Next we take a look at `INCOME_GROUP` and `WEALTH_RATING` which are both ordinary variables."
   ]
  },
  {
   "cell_type": "code",
   "execution_count": 22,
   "metadata": {},
   "outputs": [
    {
     "data": {
      "image/png": "[encoded data removed]",
      "text/plain": [
       "<Figure size 432x288 with 1 Axes>"
      ]
     },
     "metadata": {
      "needs_background": "light"
     },
     "output_type": "display_data"
    }
   ],
   "source": [
    "sns.countplot(x=donors['INCOME_GROUP'])\n",
    "plt.show()"
   ]
  },
  {
   "cell_type": "code",
   "execution_count": 23,
   "metadata": {},
   "outputs": [
    {
     "data": {
      "text/plain": [
       "5.0    21.021362\n",
       "2.0    17.530040\n",
       "4.0    16.862483\n",
       "1.0    12.162884\n",
       "3.0    11.341789\n",
       "6.0    10.620828\n",
       "7.0    10.460614\n",
       "Name: INCOME_GROUP, dtype: float64"
      ]
     },
     "execution_count": 23,
     "metadata": {},
     "output_type": "execute_result"
    }
   ],
   "source": [
    "donors['INCOME_GROUP'].value_counts(normalize=True) * 100"
   ]
  },
  {
   "cell_type": "code",
   "execution_count": 24,
   "metadata": {},
   "outputs": [
    {
     "data": {
      "image/png": "[encoded data removed]",
      "text/plain": [
       "<Figure size 432x288 with 1 Axes>"
      ]
     },
     "metadata": {
      "needs_background": "light"
     },
     "output_type": "display_data"
    }
   ],
   "source": [
    "sns.countplot(x=donors['WEALTH_RATING'])\n",
    "plt.show()"
   ]
  },
  {
   "cell_type": "code",
   "execution_count": 25,
   "metadata": {},
   "outputs": [
    {
     "data": {
      "text/plain": [
       "9.0    13.160386\n",
       "8.0    11.815944\n",
       "7.0    11.352017\n",
       "6.0    10.575649\n",
       "5.0    10.206400\n",
       "3.0     9.903427\n",
       "4.0     9.344821\n",
       "2.0     9.221738\n",
       "1.0     8.085590\n",
       "0.0     6.334028\n",
       "Name: WEALTH_RATING, dtype: float64"
      ]
     },
     "execution_count": 25,
     "metadata": {},
     "output_type": "execute_result"
    }
   ],
   "source": [
    "donors['WEALTH_RATING'].value_counts(normalize=True) * 100"
   ]
  },
  {
   "cell_type": "markdown",
   "metadata": {},
   "source": [
    "One option could be to impute the mode to all missing values of these two features. However, as the number of missing values are too high, this would severely impact the dataset and skew the observations towards the most frequent class.\n",
    "In this case, the mode would refer to classes 5 and 9, for `INCOME_GROUP` and `WEALTH_RATING` respectively.\n",
    "\n",
    "We also can't just remove the rows with NA values because that would cut almost half of the dataset. A possible solution would be to evaluate if these two features are needed. There could be features that show the same type of information as these two. In this case, we are looking at features that convey economic information about the donors."
   ]
  },
  {
   "cell_type": "markdown",
   "metadata": {},
   "source": [
    "Looking at the dataset, that are other features which represent economic data: `PER_CAPITA_INCOME`, `MEDIAN_HOUSEHOLD_INCOME` and `SES`. It can be interesting to look at the correlation between `WEALTH_RATING` and `INCOME_GROUP` and these features."
   ]
  },
  {
   "cell_type": "code",
   "execution_count": 26,
   "metadata": {},
   "outputs": [
    {
     "data": {
      "text/plain": [
       "WEALTH_RATING              1.000000\n",
       "MEDIAN_HOUSEHOLD_INCOME    0.603792\n",
       "PER_CAPITA_INCOME          0.521337\n",
       "INCOME_GROUP               0.419194\n",
       "MEDIAN_HOME_VALUE          0.390796\n",
       "dtype: float64"
      ]
     },
     "execution_count": 26,
     "metadata": {},
     "output_type": "execute_result"
    }
   ],
   "source": [
    "donors.corrwith(donors[\"WEALTH_RATING\"]).sort_values(ascending=False).head()"
   ]
  },
  {
   "cell_type": "code",
   "execution_count": 27,
   "metadata": {},
   "outputs": [
    {
     "data": {
      "text/plain": [
       "INCOME_GROUP               1.000000\n",
       "MEDIAN_HOUSEHOLD_INCOME    0.428270\n",
       "WEALTH_RATING              0.419194\n",
       "PER_CAPITA_INCOME          0.354530\n",
       "MEDIAN_HOME_VALUE          0.323530\n",
       "dtype: float64"
      ]
     },
     "execution_count": 27,
     "metadata": {},
     "output_type": "execute_result"
    }
   ],
   "source": [
    "donors.corrwith(donors[\"INCOME_GROUP\"]).sort_values(ascending=False).head()"
   ]
  },
  {
   "cell_type": "markdown",
   "metadata": {},
   "source": [
    "We have observed that both  `INCOME_GROUP` and `WEALTH_RATING` are positively correlated with the economic features.\n",
    "We will assume that both of these two features were generated to represent groups based on data from the economic features and, as such, we can remove them from the dataset and still keep the information that these two features convey."
   ]
  },
  {
   "cell_type": "code",
   "execution_count": 28,
   "metadata": {},
   "outputs": [],
   "source": [
    "donors = donors.drop([\"INCOME_GROUP\", \"WEALTH_RATING\"], axis=1)"
   ]
  },
  {
   "cell_type": "markdown",
   "metadata": {},
   "source": [
    "   - Moving on to `MONTHS_SINCE_LAST_PROM_RESP`, we'd observed before in the dataset describe method that this feature had negative values. From the dataset description we can see that this feature represents the number of months since the donor's last response. That means that there shouldn't be any negative values."
   ]
  },
  {
   "cell_type": "code",
   "execution_count": 29,
   "metadata": {},
   "outputs": [
    {
     "data": {
      "text/plain": [
       "count    19126.000000\n",
       "mean        19.038900\n",
       "std          3.415559\n",
       "min        -12.000000\n",
       "25%         17.000000\n",
       "50%         18.000000\n",
       "75%         21.000000\n",
       "max         36.000000\n",
       "Name: MONTHS_SINCE_LAST_PROM_RESP, dtype: float64"
      ]
     },
     "execution_count": 29,
     "metadata": {},
     "output_type": "execute_result"
    }
   ],
   "source": [
    "donors[\"MONTHS_SINCE_LAST_PROM_RESP\"].describe()"
   ]
  },
  {
   "cell_type": "markdown",
   "metadata": {},
   "source": [
    "We should see how many negative values there are."
   ]
  },
  {
   "cell_type": "code",
   "execution_count": 30,
   "metadata": {},
   "outputs": [
    {
     "name": "stdout",
     "output_type": "stream",
     "text": [
      "There are 8 negative values in this feature!\n"
     ]
    }
   ],
   "source": [
    "negSum = 0\n",
    "for val in donors[\"MONTHS_SINCE_LAST_PROM_RESP\"]:\n",
    "    if val < 0:\n",
    "        negSum += 1\n",
    "print(\"There are\", str(negSum), \"negative values in this feature!\")"
   ]
  },
  {
   "cell_type": "code",
   "execution_count": 31,
   "metadata": {},
   "outputs": [
    {
     "data": {
      "text/plain": [
       "203      34\n",
       "5214     17\n",
       "5807     19\n",
       "6682     15\n",
       "8343     15\n",
       "9601     32\n",
       "10391    31\n",
       "13456    18\n",
       "Name: LIFETIME_CARD_PROM, dtype: int64"
      ]
     },
     "execution_count": 31,
     "metadata": {},
     "output_type": "execute_result"
    }
   ],
   "source": [
    "donors[donors['MONTHS_SINCE_LAST_PROM_RESP']<0].LIFETIME_CARD_PROM"
   ]
  },
  {
   "cell_type": "markdown",
   "metadata": {},
   "source": [
    "There are 8 negative values in `MONTHS_SINCE_LAST_PROM_RESP`. \n",
    "\n",
    "After checking `LIFETIME_CARD_PROM`, we confirmed that the entries which had a negative value of `MONTHS_SINCE_LAST_PROM_RESP` actually had positive values representing the total number of card promotions sent to the individual by the charitable organization. With this, we could discard the idea that those individuals had been first time donors.\n",
    "\n",
    "As such, we will assume that these are due to a low quality data inputation and we will regard them as errors, replaing them by the feature's median: 18."
   ]
  },
  {
   "cell_type": "code",
   "execution_count": 32,
   "metadata": {},
   "outputs": [
    {
     "data": {
      "text/plain": [
       "18.0"
      ]
     },
     "execution_count": 32,
     "metadata": {},
     "output_type": "execute_result"
    }
   ],
   "source": [
    "monthMedian = donors[\"MONTHS_SINCE_LAST_PROM_RESP\"].median()\n",
    "monthMedian"
   ]
  },
  {
   "cell_type": "code",
   "execution_count": 33,
   "metadata": {},
   "outputs": [],
   "source": [
    "donors[\"MONTHS_SINCE_LAST_PROM_RESP\"] = donors[\"MONTHS_SINCE_LAST_PROM_RESP\"].fillna(monthMedian)"
   ]
  },
  {
   "cell_type": "code",
   "execution_count": 34,
   "metadata": {},
   "outputs": [
    {
     "data": {
      "text/plain": [
       "0"
      ]
     },
     "execution_count": 34,
     "metadata": {},
     "output_type": "execute_result"
    }
   ],
   "source": [
    "donors[\"MONTHS_SINCE_LAST_PROM_RESP\"].isnull().sum()"
   ]
  },
  {
   "cell_type": "markdown",
   "metadata": {},
   "source": [
    "   - For `SES` and `URBANICITY`, we have chosen to replace the missing values by the most common class for each feature. "
   ]
  },
  {
   "cell_type": "code",
   "execution_count": 35,
   "metadata": {},
   "outputs": [
    {
     "data": {
      "text/plain": [
       "2.0    9284\n",
       "1.0    5924\n",
       "3.0    3323\n",
       "4.0     387\n",
       "Name: SES, dtype: int64"
      ]
     },
     "execution_count": 35,
     "metadata": {},
     "output_type": "execute_result"
    }
   ],
   "source": [
    "donors['SES'].value_counts()"
   ]
  },
  {
   "cell_type": "code",
   "execution_count": 36,
   "metadata": {},
   "outputs": [],
   "source": [
    "donors['SES'] = donors['SES'].fillna(donors['SES'].mode()[0])"
   ]
  },
  {
   "cell_type": "code",
   "execution_count": 37,
   "metadata": {},
   "outputs": [
    {
     "data": {
      "text/plain": [
       "0"
      ]
     },
     "execution_count": 37,
     "metadata": {},
     "output_type": "execute_result"
    }
   ],
   "source": [
    "donors[\"SES\"].isnull().sum()"
   ]
  },
  {
   "cell_type": "code",
   "execution_count": 38,
   "metadata": {},
   "outputs": [
    {
     "data": {
      "text/plain": [
       "S    4491\n",
       "C    4022\n",
       "R    4005\n",
       "T    3944\n",
       "U    2456\n",
       "Name: URBANICITY, dtype: int64"
      ]
     },
     "execution_count": 38,
     "metadata": {},
     "output_type": "execute_result"
    }
   ],
   "source": [
    "donors['URBANICITY'].value_counts()"
   ]
  },
  {
   "cell_type": "code",
   "execution_count": 39,
   "metadata": {},
   "outputs": [],
   "source": [
    "donors['URBANICITY'] = donors['URBANICITY'].fillna(donors['URBANICITY'].mode()[0])"
   ]
  },
  {
   "cell_type": "code",
   "execution_count": 40,
   "metadata": {},
   "outputs": [
    {
     "data": {
      "text/plain": [
       "0"
      ]
     },
     "execution_count": 40,
     "metadata": {},
     "output_type": "execute_result"
    }
   ],
   "source": [
    "donors[\"SES\"].isnull().sum()"
   ]
  },
  {
   "cell_type": "markdown",
   "metadata": {},
   "source": [
    "   - Finally, for TARGET_D, we will first verify if all the null values are indeed from non-donors."
   ]
  },
  {
   "cell_type": "code",
   "execution_count": 41,
   "metadata": {},
   "outputs": [
    {
     "data": {
      "text/plain": [
       "0"
      ]
     },
     "execution_count": 41,
     "metadata": {},
     "output_type": "execute_result"
    }
   ],
   "source": [
    "donors[donors[\"TARGET_B\"]==1][\"TARGET_D\"].isnull().sum()"
   ]
  },
  {
   "cell_type": "markdown",
   "metadata": {},
   "source": [
    "Having confirmed this assumption, we can input missing values with zero. If someone didn't donate then TARGET_B = 0 and, obviously, TARGET_D = 0. Also, if someone has a non-null value for TARGET_D then TARGET_B is 1."
   ]
  },
  {
   "cell_type": "code",
   "execution_count": 42,
   "metadata": {},
   "outputs": [],
   "source": [
    "donors[\"TARGET_D\"] = donors[\"TARGET_D\"].fillna(0)"
   ]
  },
  {
   "cell_type": "code",
   "execution_count": 43,
   "metadata": {},
   "outputs": [
    {
     "data": {
      "text/plain": [
       "0"
      ]
     },
     "execution_count": 43,
     "metadata": {},
     "output_type": "execute_result"
    }
   ],
   "source": [
    "donors[\"TARGET_D\"].isnull().sum()"
   ]
  },
  {
   "cell_type": "code",
   "execution_count": 44,
   "metadata": {},
   "outputs": [
    {
     "data": {
      "text/plain": [
       "Index([], dtype='object')"
      ]
     },
     "execution_count": 44,
     "metadata": {},
     "output_type": "execute_result"
    }
   ],
   "source": [
    "donors.columns[donors.isnull().any()] #sanity check"
   ]
  },
  {
   "cell_type": "markdown",
   "metadata": {},
   "source": [
    "## 2.5. Dropping Features"
   ]
  },
  {
   "cell_type": "markdown",
   "metadata": {},
   "source": [
    "Looking at the features' descriptions, we can immediately point out some that are meaningless for the problem at hand and, hence, will be dropped:\n",
    "\n",
    "- CONTROL_NUMBER: this is a unique identifier for each donor, it has no impact in the donation.\n",
    "- OVERLAY_SOURCE: we will assume that the data source is not relevant for the prediction.\n",
    "- FILE_AVG_GIFT: this feature is identical to LIFETIME_AVG_GIFT_AMT, according to the dataset info.\n",
    "- PEP_STAR: which takes up value 1 if the donor has a STAR status and 0 otherwise will be removed as this information is already displayed in the feature 'RECENCY_STATUS_96NK' by the class S and by the remaining ones, respectively.\n",
    "- RECENT_STAR_STATUS: which takes up value 1 if the donor has reached STAR status 4 years ago and 0 otherwise will be removed as this information is already displayed in the feature 'RECENCY_STATUS_96NK' by the class S and by the remaining ones, respectively.\n",
    "- CLUSTER_CODE: There are 54 unique values for this variable.Given that this feature reflects socioeconomic status, urbanicity, ethnicity, and other demographic characteristics, we consider that such information is already reflected in other features of this dataset so we will drop it.\n",
    "- NUMBER_PROM_12: the data illustrated in this feature is already represented by the feature 'CARD_PROM_12'"
   ]
  },
  {
   "cell_type": "code",
   "execution_count": 45,
   "metadata": {},
   "outputs": [],
   "source": [
    "donors=donors.drop(['CONTROL_NUMBER', 'OVERLAY_SOURCE', 'FILE_AVG_GIFT', 'PEP_STAR', 'RECENT_STAR_STATUS'],axis=1)"
   ]
  },
  {
   "cell_type": "code",
   "execution_count": 46,
   "metadata": {},
   "outputs": [],
   "source": [
    "donors=donors.drop(['CLUSTER_CODE'], axis=1)"
   ]
  },
  {
   "cell_type": "code",
   "execution_count": 47,
   "metadata": {},
   "outputs": [],
   "source": [
    "donors=donors.drop(['NUMBER_PROM_12'], axis=1)"
   ]
  },
  {
   "cell_type": "markdown",
   "metadata": {},
   "source": [
    "We will also look for correlations in the data set and, after analysing pairs of features with a positively high standard correlation coefficient, we have chosen to remove the following features:"
   ]
  },
  {
   "cell_type": "markdown",
   "metadata": {},
   "source": [
    "- 'MONTHS_SINCE_ORIGIN'\n",
    "- 'LIFETIME_PROM_CARD'\n",
    "- 'PER_CAPITA_INCOME'\n",
    "- 'LIFETIME_GIFT_COUNT'\n",
    "- 'LIFETIME_MAX_GIFT_AMT'\n",
    "- 'LIFETIME_MIN_GIFT_AMT'\n",
    "- 'LIFETIME_GIFT_RANGE'\n",
    "- 'LIFETIME_PROM'\n",
    "- 'RECENT_RESPONSE_COUNT'\n",
    "- 'LIFETIME_GIFT_AMOUNT'"
   ]
  },
  {
   "cell_type": "code",
   "execution_count": 48,
   "metadata": {},
   "outputs": [],
   "source": [
    "donors_matrix = donors.corr()"
   ]
  },
  {
   "cell_type": "code",
   "execution_count": 49,
   "metadata": {},
   "outputs": [
    {
     "data": {
      "image/png": "[encoded data removed]",
      "text/plain": [
       "<Figure size 2160x720 with 2 Axes>"
      ]
     },
     "metadata": {
      "needs_background": "light"
     },
     "output_type": "display_data"
    }
   ],
   "source": [
    "filtered_donors = donors_matrix[((donors_matrix >= .8) | (donors_matrix <= -.8)) & (donors_matrix !=1.000)]\n",
    "plt.figure(figsize=(30,10))\n",
    "sns.heatmap(filtered_donors, annot=True, cmap=\"Reds\")\n",
    "\n",
    "plt.show()"
   ]
  },
  {
   "cell_type": "code",
   "execution_count": 50,
   "metadata": {},
   "outputs": [
    {
     "data": {
      "text/plain": [
       "RECENT_AVG_GIFT_AMT      LAST_GIFT_AMT                 0.801052\n",
       "LAST_GIFT_AMT            LIFETIME_AVG_GIFT_AMT         0.803911\n",
       "LIFETIME_AVG_GIFT_AMT    LIFETIME_MIN_GIFT_AMT         0.804668\n",
       "RECENT_RESPONSE_PROP     RECENT_RESPONSE_COUNT         0.805832\n",
       "MEDIAN_HOUSEHOLD_INCOME  PER_CAPITA_INCOME             0.811624\n",
       "RECENT_RESPONSE_COUNT    RECENT_CARD_RESPONSE_COUNT    0.836973\n",
       "MONTHS_SINCE_ORIGIN      LIFETIME_PROM                 0.860342\n",
       "MONTHS_SINCE_FIRST_GIFT  LIFETIME_PROM                 0.870775\n",
       "LIFETIME_MAX_GIFT_AMT    LIFETIME_GIFT_RANGE           0.871837\n",
       "MONTHS_SINCE_ORIGIN      LIFETIME_CARD_PROM            0.912063\n",
       "LIFETIME_CARD_PROM       MONTHS_SINCE_FIRST_GIFT       0.916866\n",
       "LIFETIME_GIFT_COUNT      FILE_CARD_GIFT                0.918308\n",
       "LIFETIME_PROM            LIFETIME_CARD_PROM            0.948653\n",
       "MONTHS_SINCE_ORIGIN      MONTHS_SINCE_FIRST_GIFT       0.987825\n",
       "TARGET_B                 TARGET_B                           NaN\n",
       "dtype: float64"
      ]
     },
     "execution_count": 50,
     "metadata": {},
     "output_type": "execute_result"
    }
   ],
   "source": [
    "filtered_donors.unstack().sort_values().drop_duplicates()"
   ]
  },
  {
   "cell_type": "code",
   "execution_count": 51,
   "metadata": {},
   "outputs": [],
   "source": [
    "donors = donors.drop(['MONTHS_SINCE_ORIGIN','LIFETIME_CARD_PROM','PER_CAPITA_INCOME','LIFETIME_GIFT_COUNT',\n",
    " 'LIFETIME_MAX_GIFT_AMT', 'LIFETIME_MIN_GIFT_AMT',\n",
    " 'LIFETIME_GIFT_RANGE','LIFETIME_PROM', 'RECENT_RESPONSE_COUNT'], axis=1)"
   ]
  },
  {
   "cell_type": "code",
   "execution_count": 52,
   "metadata": {},
   "outputs": [],
   "source": [
    "donors = donors.drop(['LIFETIME_GIFT_AMOUNT'], axis=1)"
   ]
  },
  {
   "cell_type": "markdown",
   "metadata": {},
   "source": [
    "# 3. Exploring Data"
   ]
  },
  {
   "cell_type": "markdown",
   "metadata": {},
   "source": [
    "- Numerical Attributes"
   ]
  },
  {
   "cell_type": "code",
   "execution_count": 53,
   "metadata": {},
   "outputs": [
    {
     "data": {
      "text/plain": [
       "32"
      ]
     },
     "execution_count": 53,
     "metadata": {},
     "output_type": "execute_result"
    }
   ],
   "source": [
    "len(donors.FILE_CARD_GIFT.value_counts())"
   ]
  },
  {
   "cell_type": "markdown",
   "metadata": {},
   "source": [
    "According to the statistics below, it seems that the average amount of the most recent donation was 1 dollar higher than the current one (16.6 dollars vs 15.6 dollars). In the last campaign, 50% of the individuals donated at least 15 dollars whereas on this current one half of the individuals donated less than 13 dollars."
   ]
  },
  {
   "cell_type": "code",
   "execution_count": 54,
   "metadata": {
    "scrolled": true
   },
   "outputs": [
    {
     "data": {
      "text/plain": [
       "count    19297.000000\n",
       "mean        16.648655\n",
       "std         11.956016\n",
       "min          1.000000\n",
       "25%         10.000000\n",
       "50%         15.000000\n",
       "75%         20.000000\n",
       "max        450.000000\n",
       "Name: LAST_GIFT_AMT, dtype: float64"
      ]
     },
     "execution_count": 54,
     "metadata": {},
     "output_type": "execute_result"
    }
   ],
   "source": [
    "donors.loc[donors.LAST_GIFT_AMT !=0].LAST_GIFT_AMT.describe()"
   ]
  },
  {
   "cell_type": "code",
   "execution_count": 55,
   "metadata": {
    "scrolled": true
   },
   "outputs": [
    {
     "data": {
      "text/plain": [
       "count    4843.000000\n",
       "mean       15.624344\n",
       "std        12.445137\n",
       "min         1.000000\n",
       "25%        10.000000\n",
       "50%        13.000000\n",
       "75%        20.000000\n",
       "max       200.000000\n",
       "Name: TARGET_D, dtype: float64"
      ]
     },
     "execution_count": 55,
     "metadata": {},
     "output_type": "execute_result"
    }
   ],
   "source": [
    "donors.loc[donors.TARGET_D !=0].TARGET_D.describe()"
   ]
  },
  {
   "cell_type": "code",
   "execution_count": 56,
   "metadata": {},
   "outputs": [
    {
     "name": "stdout",
     "output_type": "stream",
     "text": [
      "Individuals who had already contributed on average with at least $15 in their lifetime, contributed a total of $30069.03 for this donation, representing 40.0 % of the total donated amount\n",
      "Individuals who had already contributed on average with less than $15 in their lifetime, contributed a total of $45599.67 for this donation, representing 60.0 % of the total donated amount\n"
     ]
    }
   ],
   "source": [
    "print('Individuals who had already contributed on average with at least $15 in their lifetime, contributed a total of ${} for this donation, representing {} % of the total donated amount'.format(\n",
    "    donors.loc[(donors.LIFETIME_AVG_GIFT_AMT >=15)].TARGET_D.sum(), np.round(donors.loc[(donors.LIFETIME_AVG_GIFT_AMT >=15)].TARGET_D.sum()/donors.TARGET_D.sum(),2)*100))\n",
    "\n",
    "print('Individuals who had already contributed on average with less than $15 in their lifetime, contributed a total of ${} for this donation, representing {} % of the total donated amount'.format(\n",
    "    donors.loc[(donors.LIFETIME_AVG_GIFT_AMT <15)].TARGET_D.sum(), np.round(donors.loc[(donors.LIFETIME_AVG_GIFT_AMT <15)].TARGET_D.sum()/donors.TARGET_D.sum(),2)*100))"
   ]
  },
  {
   "cell_type": "code",
   "execution_count": 57,
   "metadata": {},
   "outputs": [
    {
     "name": "stdout",
     "output_type": "stream",
     "text": [
      "Individuals who donated lived on avg in more expensive properties, with the mean house value being $11177.0 above those who did not donate.\n"
     ]
    }
   ],
   "source": [
    "print('Individuals who donated lived on avg in more expensive properties, with the mean house value being ${} above those who did not donate.'.format(\n",
    "np.round(donors.loc[(donors.TARGET_B==1)].MEDIAN_HOME_VALUE.mean()-donors.loc[(donors.TARGET_B==0)].MEDIAN_HOME_VALUE.mean(),2)*100))"
   ]
  },
  {
   "cell_type": "code",
   "execution_count": 58,
   "metadata": {},
   "outputs": [
    {
     "name": "stdout",
     "output_type": "stream",
     "text": [
      "On average, neighbourhoods with the majority of owner-occupied housing donated $0.73 less than those who lived in other neighbourhood.\n"
     ]
    }
   ],
   "source": [
    "print('On average, neighbourhoods with the majority of owner-occupied housing donated ${} less than those who lived in other neighbourhood.'.format(\n",
    "np.abs(np.round(donors.loc[(donors.TARGET_B==1)&(donors.PCT_OWNER_OCCUPIED >=0.5)].TARGET_D.mean()-donors.loc[(donors.TARGET_B==1)&(donors.PCT_OWNER_OCCUPIED <0.5)].TARGET_D.mean(),2))))"
   ]
  },
  {
   "cell_type": "code",
   "execution_count": 59,
   "metadata": {},
   "outputs": [
    {
     "name": "stdout",
     "output_type": "stream",
     "text": [
      "The donors' household income was on avg $116370.0, which was $11177.0 above those who did not donate.\n"
     ]
    }
   ],
   "source": [
    "print(\"The donors' household income was on avg ${}, which was ${} above those who did not donate.\".format(\n",
    "      np.round(donors.loc[(donors.TARGET_B==1)].MEDIAN_HOME_VALUE.mean()*100),\n",
    "np.round(donors.loc[(donors.TARGET_B==1)].MEDIAN_HOME_VALUE.mean()-donors.loc[(donors.TARGET_B==0)].MEDIAN_HOME_VALUE.mean(),2)*100))"
   ]
  },
  {
   "cell_type": "code",
   "execution_count": 60,
   "metadata": {},
   "outputs": [
    {
     "name": "stdout",
     "output_type": "stream",
     "text": [
      "Donors had their first donation on average 6 years prior and during that time they donated $3.57 on avg each time.\n",
      "For this donation the average was higher ($15.62)\n"
     ]
    }
   ],
   "source": [
    "print(\"Donors had their first donation on average 6 years prior and during that time they donated ${} on avg each time.\".format(\n",
    "    np.round(donors.loc[(donors.TARGET_B==1)].MOR_HIT_RATE.mean(),2)))\n",
    "print(\"For this donation the average was higher (${})\".format(np.round(donors.loc[(donors.TARGET_B==1)].TARGET_D.mean(),2)))"
   ]
  },
  {
   "cell_type": "code",
   "execution_count": 61,
   "metadata": {},
   "outputs": [],
   "source": [
    "#list of numerical variables in the dataset\n",
    "donors_num = ['CARD_PROM_12','DONOR_AGE','FILE_CARD_GIFT',\n",
    "                    'LAST_GIFT_AMT','LIFETIME_AVG_GIFT_AMT','MEDIAN_HOME_VALUE',\n",
    "                    'MEDIAN_HOUSEHOLD_INCOME','MONTHS_SINCE_FIRST_GIFT',\n",
    "                    'MOR_HIT_RATE', 'RECENT_AVG_CARD_GIFT_AMT','RECENT_AVG_GIFT_AMT',\n",
    "                    'RECENT_CARD_RESPONSE_COUNT','RECENT_CARD_RESPONSE_PROP','RECENT_RESPONSE_PROP']"
   ]
  },
  {
   "cell_type": "markdown",
   "metadata": {},
   "source": [
    "## Still to add deep dive: RECENT_AVG_CARD_GIFT_AMT, features 39-42, 44"
   ]
  },
  {
   "cell_type": "markdown",
   "metadata": {},
   "source": [
    "- Categorical Attributes"
   ]
  },
  {
   "cell_type": "code",
   "execution_count": 62,
   "metadata": {},
   "outputs": [],
   "source": [
    "donors.DONOR_GENDER =donors.DONOR_GENDER.replace(['A'], 'U')"
   ]
  },
  {
   "cell_type": "code",
   "execution_count": 63,
   "metadata": {},
   "outputs": [
    {
     "data": {
      "text/plain": [
       "1    9118\n",
       "2    4191\n",
       "3    3318\n",
       "4    2745\n",
       "Name: FREQUENCY_STATUS_97NK, dtype: int64"
      ]
     },
     "execution_count": 63,
     "metadata": {},
     "output_type": "execute_result"
    }
   ],
   "source": [
    "donors.FREQUENCY_STATUS_97NK.value_counts()"
   ]
  },
  {
   "cell_type": "code",
   "execution_count": 64,
   "metadata": {},
   "outputs": [
    {
     "data": {
      "text/plain": [
       "H    0.547491\n",
       "U    0.452509\n",
       "Name: HOME_OWNER, dtype: float64"
      ]
     },
     "execution_count": 64,
     "metadata": {},
     "output_type": "execute_result"
    }
   ],
   "source": [
    "donors.HOME_OWNER.value_counts(normalize=True)"
   ]
  },
  {
   "cell_type": "code",
   "execution_count": 65,
   "metadata": {},
   "outputs": [
    {
     "data": {
      "text/plain": [
       "0    0.908321\n",
       "1    0.091679\n",
       "Name: IN_HOUSE, dtype: float64"
      ]
     },
     "execution_count": 65,
     "metadata": {},
     "output_type": "execute_result"
    }
   ],
   "source": [
    "donors.loc[donors.TARGET_D !=0].IN_HOUSE.value_counts(normalize=True)"
   ]
  },
  {
   "cell_type": "markdown",
   "metadata": {},
   "source": [
    "The features PCT_ATTRIBUTES 1-4 which represent neighbour socioeconomic factors are numeric and we will proceed to categorize them using pd.qcut() into 6 equally sized bins."
   ]
  },
  {
   "cell_type": "code",
   "execution_count": 66,
   "metadata": {},
   "outputs": [],
   "source": [
    "donors[\"PCT_ATTRIBUTE1_CAT\"] = pd.Categorical(pd.cut(donors[\"PCT_ATTRIBUTE1\"], 5)).codes\n",
    "donors[\"PCT_ATTRIBUTE2_CAT\"] = pd.Categorical(pd.cut(donors[\"PCT_ATTRIBUTE2\"], 5)).codes\n",
    "donors[\"PCT_ATTRIBUTE3_CAT\"] = pd.Categorical(pd.cut(donors[\"PCT_ATTRIBUTE3\"], 5)).codes\n",
    "donors[\"PCT_ATTRIBUTE4_CAT\"] = pd.Categorical(pd.cut(donors[\"PCT_ATTRIBUTE4\"], 5)).codes"
   ]
  },
  {
   "cell_type": "code",
   "execution_count": 67,
   "metadata": {},
   "outputs": [],
   "source": [
    "donors = donors.drop([\"PCT_ATTRIBUTE1\", \"PCT_ATTRIBUTE2\", \"PCT_ATTRIBUTE3\", \"PCT_ATTRIBUTE4\"],axis=1)"
   ]
  },
  {
   "cell_type": "markdown",
   "metadata": {},
   "source": [
    "## Falta copiar do notebook antigo as interpretacoes e graficos das features SES, UBANICITY"
   ]
  },
  {
   "cell_type": "markdown",
   "metadata": {},
   "source": [
    "Most individuals who donated to the lastest campaign where active or Star donors."
   ]
  },
  {
   "cell_type": "code",
   "execution_count": 68,
   "metadata": {},
   "outputs": [
    {
     "data": {
      "text/plain": [
       "RECENCY_STATUS_96NK\n",
       "A    2794\n",
       "E     132\n",
       "F     257\n",
       "L      17\n",
       "N     264\n",
       "S    1379\n",
       "Name: RECENCY_STATUS_96NK, dtype: int64"
      ]
     },
     "execution_count": 68,
     "metadata": {},
     "output_type": "execute_result"
    }
   ],
   "source": [
    "donors.loc[(donors.TARGET_D != 0)][\"RECENCY_STATUS_96NK\"].groupby(donors[\"RECENCY_STATUS_96NK\"]).count()"
   ]
  },
  {
   "cell_type": "code",
   "execution_count": 69,
   "metadata": {},
   "outputs": [
    {
     "data": {
      "image/png": "[encoded data removed]",
      "text/plain": [
       "<Figure size 432x288 with 1 Axes>"
      ]
     },
     "metadata": {
      "needs_background": "light"
     },
     "output_type": "display_data"
    }
   ],
   "source": [
    "sns.countplot(x='RECENCY_STATUS_96NK', data = donors.loc[(donors.TARGET_D != 0)])\n",
    "plt.show()"
   ]
  },
  {
   "cell_type": "markdown",
   "metadata": {},
   "source": [
    "The below bar plot allows us to conclude that even though donors had achieved star status they actually had donated the least (DONATION_TYPE = E) in the last campaign. Active donors represented the group which donated the highest amount (DONATION_TYPE = A )."
   ]
  },
  {
   "cell_type": "code",
   "execution_count": 70,
   "metadata": {},
   "outputs": [
    {
     "data": {
      "image/png": "[encoded data removed]",
      "text/plain": [
       "<Figure size 432x432 with 1 Axes>"
      ]
     },
     "metadata": {
      "needs_background": "light"
     },
     "output_type": "display_data"
    }
   ],
   "source": [
    "cross_table = pd.crosstab(index=donors.loc[(donors.TARGET_D != 0)]['RECENCY_STATUS_96NK'], columns=donors.loc[(donors.TARGET_D != 0)][\"DONATION_TYPE\"])\n",
    "cross_table.plot(kind=\"bar\", figsize=(6,6))\n",
    "plt.show()"
   ]
  },
  {
   "cell_type": "markdown",
   "metadata": {},
   "source": [
    "We can assume that the communcation for the campaign was not done via phone due to the fact nearly half of the donors had their phone number published while the remaining did not. Having a phone number in the database seemed not to influence the donation."
   ]
  },
  {
   "cell_type": "code",
   "execution_count": 71,
   "metadata": {},
   "outputs": [
    {
     "data": {
      "text/plain": [
       "PUBLISHED_PHONE\n",
       "0    2446\n",
       "1    2397\n",
       "Name: TARGET_B, dtype: int64"
      ]
     },
     "execution_count": 71,
     "metadata": {},
     "output_type": "execute_result"
    }
   ],
   "source": [
    "donors.loc[(donors.TARGET_D != 0)].TARGET_B.groupby(donors[\"PUBLISHED_PHONE\"]).count()"
   ]
  },
  {
   "cell_type": "code",
   "execution_count": 72,
   "metadata": {},
   "outputs": [
    {
     "data": {
      "image/png": "[encoded data removed]",
      "text/plain": [
       "<Figure size 432x432 with 1 Axes>"
      ]
     },
     "metadata": {
      "needs_background": "light"
     },
     "output_type": "display_data"
    }
   ],
   "source": [
    "cross_table = pd.crosstab(index=donors.loc[(donors.TARGET_D != 0)]['PUBLISHED_PHONE'], columns=donors.loc[(donors.TARGET_D != 0)][\"DONATION_TYPE\"])\n",
    "cross_table.plot(kind=\"bar\", figsize=(6,6))\n",
    "plt.show()"
   ]
  },
  {
   "cell_type": "code",
   "execution_count": 73,
   "metadata": {},
   "outputs": [],
   "source": [
    "donors_cat = ['DONOR_GENDER','RECENCY_STATUS_96NK','HOME_OWNER', 'IN_HOUSE',\n",
    "                    \"PCT_ATTRIBUTE1_CAT\", \"PCT_ATTRIBUTE2_CAT\", \"PCT_ATTRIBUTE3_CAT\", \"PCT_ATTRIBUTE4_CAT\",\n",
    "                    'PUBLISHED_PHONE','SES',\n",
    "                    'URBANICITY']"
   ]
  },
  {
   "cell_type": "markdown",
   "metadata": {},
   "source": [
    "## 4. Visualizing the Data"
   ]
  },
  {
   "cell_type": "markdown",
   "metadata": {},
   "source": [
    "For this section, we have the goal to go more in depth to generate some insights and/or confirm some assumptions we had about the data."
   ]
  },
  {
   "cell_type": "markdown",
   "metadata": {},
   "source": [
    "We have chosen to keep the below scatterplot as it indicates an interesting point which is the fact that a higher amount of card promotions sent in the last 12 months, doesn't necessarily translate into an individual donating more. In fact, the 3 outliers we observe representing the highest donation amounts were made by individuals which were sent 6 or less cards. \n",
    "\n",
    "More isn't always better."
   ]
  },
  {
   "cell_type": "code",
   "execution_count": 74,
   "metadata": {},
   "outputs": [
    {
     "data": {
      "text/plain": [
       "<seaborn.axisgrid.FacetGrid at 0x242f337c488>"
      ]
     },
     "execution_count": 74,
     "metadata": {},
     "output_type": "execute_result"
    },
    {
     "data": {
      "image/png": "[encoded data removed]",
      "text/plain": [
       "<Figure size 360x360 with 1 Axes>"
      ]
     },
     "metadata": {
      "needs_background": "light"
     },
     "output_type": "display_data"
    }
   ],
   "source": [
    "sns.relplot(x=\"TARGET_D\", y=\"CARD_PROM_12\", data=donors)"
   ]
  },
  {
   "cell_type": "markdown",
   "metadata": {},
   "source": [
    "Adding to the previous point, the below graph illustrates the fact that donors and non-donors followed a relatively similar distribution when it came to the card promotions received (with mean close to 5 calls for both groups) . Thus, receiving more mail, wouldn't necessarily make an individual donate."
   ]
  },
  {
   "cell_type": "code",
   "execution_count": 75,
   "metadata": {},
   "outputs": [
    {
     "data": {
      "text/plain": [
       "5.452405533760066"
      ]
     },
     "execution_count": 75,
     "metadata": {},
     "output_type": "execute_result"
    }
   ],
   "source": [
    "donors.loc[(donors.TARGET_B==1)].CARD_PROM_12.mean() #donors avg calls"
   ]
  },
  {
   "cell_type": "code",
   "execution_count": 76,
   "metadata": {},
   "outputs": [
    {
     "data": {
      "text/plain": [
       "5.338701906531764"
      ]
     },
     "execution_count": 76,
     "metadata": {},
     "output_type": "execute_result"
    }
   ],
   "source": [
    "donors.loc[(donors.TARGET_B==0)].CARD_PROM_12.mean() #non donors avg calls"
   ]
  },
  {
   "cell_type": "code",
   "execution_count": 77,
   "metadata": {},
   "outputs": [
    {
     "name": "stderr",
     "output_type": "stream",
     "text": [
      "C:\\Users\\filip\\Anaconda3\\lib\\site-packages\\seaborn\\distributions.py:2551: FutureWarning: `distplot` is a deprecated function and will be removed in a future version. Please adapt your code to use either `displot` (a figure-level function with similar flexibility) or `histplot` (an axes-level function for histograms).\n",
      "  warnings.warn(msg, FutureWarning)\n",
      "C:\\Users\\filip\\Anaconda3\\lib\\site-packages\\seaborn\\distributions.py:2551: FutureWarning: `distplot` is a deprecated function and will be removed in a future version. Please adapt your code to use either `displot` (a figure-level function with similar flexibility) or `histplot` (an axes-level function for histograms).\n",
      "  warnings.warn(msg, FutureWarning)\n"
     ]
    },
    {
     "data": {
      "image/png": "[encoded data removed]",
      "text/plain": [
       "<Figure size 432x288 with 1 Axes>"
      ]
     },
     "metadata": {
      "needs_background": "light"
     },
     "output_type": "display_data"
    }
   ],
   "source": [
    "sns.distplot(donors['CARD_PROM_12'][donors['TARGET_B']==0], color='g', label = 'non-donor')\n",
    "sns.distplot(donors['CARD_PROM_12'][donors['TARGET_B']==1], color='r', label = 'donor')\n",
    "plt.legend(loc='best')\n",
    "fig.tight_layout()\n",
    "plt.show()"
   ]
  },
  {
   "cell_type": "code",
   "execution_count": 78,
   "metadata": {},
   "outputs": [],
   "source": [
    "#sns.catplot(y=\"TARGET_B\", hue=\"DONATION_TYPE\", kind=\"count\",\n",
    " #           palette=\"pastel\", edgecolor=\".6\",\n",
    "  #          data=donors)"
   ]
  },
  {
   "cell_type": "code",
   "execution_count": 79,
   "metadata": {},
   "outputs": [],
   "source": [
    "# sns.scatterplot(x = \"MEDIAN_HOUSEHOLD_INCOME\", y = 'DONATION_TYPE', hue = \"TARGET_B\",data = donors, ci=None); "
   ]
  },
  {
   "cell_type": "code",
   "execution_count": 80,
   "metadata": {},
   "outputs": [],
   "source": [
    "#sns.swarmplot(x=\"DONOR_GENDER\", y=\"DONOR_AGE\", hue=\"TARGET_B\", data=activedonors, dodge=True, size=10)"
   ]
  },
  {
   "cell_type": "markdown",
   "metadata": {},
   "source": [
    "The amount of NA's in `DONATION_TYPE` is making it difficult to interpret plots. We will create a subset of the donors dataset with only the non-null values of `DONATION_TYPE`."
   ]
  },
  {
   "cell_type": "code",
   "execution_count": 81,
   "metadata": {},
   "outputs": [
    {
     "data": {
      "text/plain": [
       "4843"
      ]
     },
     "execution_count": 81,
     "metadata": {},
     "output_type": "execute_result"
    }
   ],
   "source": [
    "activeIndex = []\n",
    "for i in donors.index:\n",
    "    if donors[\"TARGET_D\"][i] != 0.0:\n",
    "        activeIndex.append(i)\n",
    "        \n",
    "len(activeIndex)"
   ]
  },
  {
   "cell_type": "code",
   "execution_count": 82,
   "metadata": {},
   "outputs": [],
   "source": [
    "activedonors = donors.loc[activeIndex]"
   ]
  },
  {
   "cell_type": "code",
   "execution_count": 83,
   "metadata": {},
   "outputs": [
    {
     "data": {
      "text/html": [
       "<div>\n",
       "<style scoped>\n",
       "    .dataframe tbody tr th:only-of-type {\n",
       "        vertical-align: middle;\n",
       "    }\n",
       "\n",
       "    .dataframe tbody tr th {\n",
       "        vertical-align: top;\n",
       "    }\n",
       "\n",
       "    .dataframe thead th {\n",
       "        text-align: right;\n",
       "    }\n",
       "</style>\n",
       "<table border=\"1\" class=\"dataframe\">\n",
       "  <thead>\n",
       "    <tr style=\"text-align: right;\">\n",
       "      <th></th>\n",
       "      <th>TARGET_B</th>\n",
       "      <th>TARGET_D</th>\n",
       "      <th>DONOR_AGE</th>\n",
       "      <th>IN_HOUSE</th>\n",
       "      <th>URBANICITY</th>\n",
       "      <th>SES</th>\n",
       "      <th>HOME_OWNER</th>\n",
       "      <th>DONOR_GENDER</th>\n",
       "      <th>PUBLISHED_PHONE</th>\n",
       "      <th>MOR_HIT_RATE</th>\n",
       "      <th>MEDIAN_HOME_VALUE</th>\n",
       "      <th>MEDIAN_HOUSEHOLD_INCOME</th>\n",
       "      <th>PCT_OWNER_OCCUPIED</th>\n",
       "      <th>RECENCY_STATUS_96NK</th>\n",
       "      <th>FREQUENCY_STATUS_97NK</th>\n",
       "      <th>RECENT_RESPONSE_PROP</th>\n",
       "      <th>RECENT_AVG_GIFT_AMT</th>\n",
       "      <th>RECENT_CARD_RESPONSE_PROP</th>\n",
       "      <th>RECENT_AVG_CARD_GIFT_AMT</th>\n",
       "      <th>RECENT_CARD_RESPONSE_COUNT</th>\n",
       "      <th>MONTHS_SINCE_LAST_PROM_RESP</th>\n",
       "      <th>LIFETIME_AVG_GIFT_AMT</th>\n",
       "      <th>LAST_GIFT_AMT</th>\n",
       "      <th>CARD_PROM_12</th>\n",
       "      <th>MONTHS_SINCE_LAST_GIFT</th>\n",
       "      <th>MONTHS_SINCE_FIRST_GIFT</th>\n",
       "      <th>FILE_CARD_GIFT</th>\n",
       "      <th>DONATION_TYPE</th>\n",
       "      <th>PCT_ATTRIBUTE1_CAT</th>\n",
       "      <th>PCT_ATTRIBUTE2_CAT</th>\n",
       "      <th>PCT_ATTRIBUTE3_CAT</th>\n",
       "      <th>PCT_ATTRIBUTE4_CAT</th>\n",
       "    </tr>\n",
       "  </thead>\n",
       "  <tbody>\n",
       "    <tr>\n",
       "      <th>1</th>\n",
       "      <td>1</td>\n",
       "      <td>10.0</td>\n",
       "      <td>79</td>\n",
       "      <td>0</td>\n",
       "      <td>R</td>\n",
       "      <td>2.0</td>\n",
       "      <td>H</td>\n",
       "      <td>M</td>\n",
       "      <td>0</td>\n",
       "      <td>0</td>\n",
       "      <td>334</td>\n",
       "      <td>212</td>\n",
       "      <td>72</td>\n",
       "      <td>S</td>\n",
       "      <td>2</td>\n",
       "      <td>0.235</td>\n",
       "      <td>15.0</td>\n",
       "      <td>0.250</td>\n",
       "      <td>15.0</td>\n",
       "      <td>2</td>\n",
       "      <td>11.0</td>\n",
       "      <td>14.72</td>\n",
       "      <td>17.0</td>\n",
       "      <td>7</td>\n",
       "      <td>7</td>\n",
       "      <td>122</td>\n",
       "      <td>12</td>\n",
       "      <td>D</td>\n",
       "      <td>0</td>\n",
       "      <td>2</td>\n",
       "      <td>1</td>\n",
       "      <td>1</td>\n",
       "    </tr>\n",
       "    <tr>\n",
       "      <th>7</th>\n",
       "      <td>1</td>\n",
       "      <td>5.0</td>\n",
       "      <td>79</td>\n",
       "      <td>0</td>\n",
       "      <td>C</td>\n",
       "      <td>2.0</td>\n",
       "      <td>H</td>\n",
       "      <td>F</td>\n",
       "      <td>0</td>\n",
       "      <td>0</td>\n",
       "      <td>1004</td>\n",
       "      <td>189</td>\n",
       "      <td>95</td>\n",
       "      <td>A</td>\n",
       "      <td>4</td>\n",
       "      <td>0.400</td>\n",
       "      <td>5.0</td>\n",
       "      <td>0.444</td>\n",
       "      <td>5.0</td>\n",
       "      <td>4</td>\n",
       "      <td>12.0</td>\n",
       "      <td>5.05</td>\n",
       "      <td>5.0</td>\n",
       "      <td>9</td>\n",
       "      <td>9</td>\n",
       "      <td>91</td>\n",
       "      <td>8</td>\n",
       "      <td>E</td>\n",
       "      <td>0</td>\n",
       "      <td>2</td>\n",
       "      <td>2</td>\n",
       "      <td>2</td>\n",
       "    </tr>\n",
       "  </tbody>\n",
       "</table>\n",
       "</div>"
      ],
      "text/plain": [
       "   TARGET_B  TARGET_D  DONOR_AGE  IN_HOUSE URBANICITY  SES HOME_OWNER  \\\n",
       "1         1      10.0         79         0          R  2.0          H   \n",
       "7         1       5.0         79         0          C  2.0          H   \n",
       "\n",
       "  DONOR_GENDER  PUBLISHED_PHONE  MOR_HIT_RATE  MEDIAN_HOME_VALUE  \\\n",
       "1            M                0             0                334   \n",
       "7            F                0             0               1004   \n",
       "\n",
       "   MEDIAN_HOUSEHOLD_INCOME  PCT_OWNER_OCCUPIED RECENCY_STATUS_96NK  \\\n",
       "1                      212                  72                   S   \n",
       "7                      189                  95                   A   \n",
       "\n",
       "   FREQUENCY_STATUS_97NK  RECENT_RESPONSE_PROP  RECENT_AVG_GIFT_AMT  \\\n",
       "1                      2                 0.235                 15.0   \n",
       "7                      4                 0.400                  5.0   \n",
       "\n",
       "   RECENT_CARD_RESPONSE_PROP  RECENT_AVG_CARD_GIFT_AMT  \\\n",
       "1                      0.250                      15.0   \n",
       "7                      0.444                       5.0   \n",
       "\n",
       "   RECENT_CARD_RESPONSE_COUNT  MONTHS_SINCE_LAST_PROM_RESP  \\\n",
       "1                           2                         11.0   \n",
       "7                           4                         12.0   \n",
       "\n",
       "   LIFETIME_AVG_GIFT_AMT  LAST_GIFT_AMT  CARD_PROM_12  MONTHS_SINCE_LAST_GIFT  \\\n",
       "1                  14.72           17.0             7                       7   \n",
       "7                   5.05            5.0             9                       9   \n",
       "\n",
       "   MONTHS_SINCE_FIRST_GIFT  FILE_CARD_GIFT DONATION_TYPE  PCT_ATTRIBUTE1_CAT  \\\n",
       "1                      122              12             D                   0   \n",
       "7                       91               8             E                   0   \n",
       "\n",
       "   PCT_ATTRIBUTE2_CAT  PCT_ATTRIBUTE3_CAT  PCT_ATTRIBUTE4_CAT  \n",
       "1                   2                   1                   1  \n",
       "7                   2                   2                   2  "
      ]
     },
     "execution_count": 83,
     "metadata": {},
     "output_type": "execute_result"
    }
   ],
   "source": [
    "activedonors = donors.loc[activeIndex]\n",
    "activedonors.head(2)"
   ]
  },
  {
   "cell_type": "markdown",
   "metadata": {},
   "source": [
    "Below, it is interesting to point out that even though males are the biggest gender across this dataset, females donors are more frequent than males one, even though the average value of the donation is lower. \n",
    "\n",
    "Males donated less frequently but on a higher dollar amount (16.2 dollars compared to $15 from females and unknown)."
   ]
  },
  {
   "cell_type": "markdown",
   "metadata": {},
   "source": [
    "## wrong plot below.."
   ]
  },
  {
   "cell_type": "code",
   "execution_count": 84,
   "metadata": {},
   "outputs": [
    {
     "name": "stderr",
     "output_type": "stream",
     "text": [
      "C:\\Users\\filip\\Anaconda3\\lib\\site-packages\\seaborn\\_decorators.py:43: FutureWarning: Pass the following variable as a keyword arg: x. From version 0.12, the only valid positional argument will be `data`, and passing other arguments without an explicit keyword will result in an error or misinterpretation.\n",
      "  FutureWarning\n"
     ]
    },
    {
     "data": {
      "image/png": "[encoded data removed]",
      "text/plain": [
       "<Figure size 432x288 with 1 Axes>"
      ]
     },
     "metadata": {
      "needs_background": "light"
     },
     "output_type": "display_data"
    },
    {
     "data": {
      "image/png": "[encoded data removed]",
      "text/plain": [
       "<Figure size 1080x360 with 3 Axes>"
      ]
     },
     "metadata": {
      "needs_background": "light"
     },
     "output_type": "display_data"
    }
   ],
   "source": [
    "fig,ax = plt.subplots()\n",
    "sns.barplot(data=donors,x=donors.DONOR_GENDER.unique(), y=donors.DONOR_GENDER.value_counts(),ax=ax, palette='YlGnBu')\n",
    "ax.set(xlabel='Donor Gender', ylabel='Count',title=\"Donor Gender Count\")\n",
    "sns.catplot(\"TARGET_B\", col = \"DONOR_GENDER\", col_wrap = 3,data = donors,kind = \"count\", palette='YlGnBu')\n",
    "#sns.catplot(\"TARGET_D\", col = \"DONOR_GENDER\", col_wrap = 3,data = donors,kind = \"bar\", palette='YlGnBu')\n",
    "\n",
    "sns.barplot(y=activedonors.TARGET_D, x= activedonors.DONOR_GENDER, data=activedonors)\n",
    "plt.show();"
   ]
  },
  {
   "cell_type": "code",
   "execution_count": 85,
   "metadata": {},
   "outputs": [
    {
     "data": {
      "text/plain": [
       "DONOR_GENDER\n",
       "U    16.313272\n",
       "M    16.225061\n",
       "F    15.100774\n",
       "Name: TARGET_D, dtype: float64"
      ]
     },
     "execution_count": 85,
     "metadata": {},
     "output_type": "execute_result"
    }
   ],
   "source": [
    "activedonors[\"TARGET_D\"].groupby(activedonors[\"DONOR_GENDER\"]).mean().sort_values(ascending=False)"
   ]
  },
  {
   "cell_type": "markdown",
   "metadata": {},
   "source": [
    "The below plot leaves the question hanging - was last year's card promotion effective? \n",
    "\n",
    "As we can observe, the distribution of the lifetime average donation in dollars for donors and non-donors was considerabily similar. This would mean that individuals with similar donation habits, last year acted completely differently. Ideally we would think that the charity organization could detect and target more effeciently those with previous high donation past and get them to donate. "
   ]
  },
  {
   "cell_type": "code",
   "execution_count": 86,
   "metadata": {},
   "outputs": [
    {
     "name": "stderr",
     "output_type": "stream",
     "text": [
      "C:\\Users\\filip\\Anaconda3\\lib\\site-packages\\seaborn\\distributions.py:2551: FutureWarning: `distplot` is a deprecated function and will be removed in a future version. Please adapt your code to use either `displot` (a figure-level function with similar flexibility) or `histplot` (an axes-level function for histograms).\n",
      "  warnings.warn(msg, FutureWarning)\n",
      "C:\\Users\\filip\\Anaconda3\\lib\\site-packages\\seaborn\\distributions.py:2551: FutureWarning: `distplot` is a deprecated function and will be removed in a future version. Please adapt your code to use either `displot` (a figure-level function with similar flexibility) or `histplot` (an axes-level function for histograms).\n",
      "  warnings.warn(msg, FutureWarning)\n"
     ]
    },
    {
     "data": {
      "image/png": "[encoded data removed]",
      "text/plain": [
       "<Figure size 1080x288 with 1 Axes>"
      ]
     },
     "metadata": {
      "needs_background": "light"
     },
     "output_type": "display_data"
    }
   ],
   "source": [
    "fig, ax = plt.subplots(1, 1, figsize=(15,4))\n",
    "sns.distplot(donors['FILE_CARD_GIFT'][donors['TARGET_B']==0], color='g', label = 'non-donor')\n",
    "sns.distplot(donors['FILE_CARD_GIFT'][donors['TARGET_B']==1], color='r', label = 'donor')\n",
    "plt.legend(loc='best')\n",
    "plt.title('Distribution of the Lifetime Average Donation in $ for Non-donors and Donors')\n",
    "fig.tight_layout()\n",
    "plt.show() "
   ]
  },
  {
   "cell_type": "code",
   "execution_count": 87,
   "metadata": {},
   "outputs": [
    {
     "data": {
      "text/plain": [
       "FREQUENCY_STATUS_97NK\n",
       "1    20.506009\n",
       "2    16.995739\n",
       "3    11.440678\n",
       "4     9.553960\n",
       "Name: TARGET_D, dtype: float64"
      ]
     },
     "execution_count": 87,
     "metadata": {},
     "output_type": "execute_result"
    }
   ],
   "source": [
    "activedonors[\"TARGET_D\"].groupby(activedonors[\"FREQUENCY_STATUS_97NK\"]).mean().sort_values(ascending=False)"
   ]
  },
  {
   "cell_type": "code",
   "execution_count": 88,
   "metadata": {},
   "outputs": [
    {
     "data": {
      "image/png": "[encoded data removed]",
      "text/plain": [
       "<Figure size 1870.5x576 with 1 Axes>"
      ]
     },
     "metadata": {
      "needs_background": "light"
     },
     "output_type": "display_data"
    }
   ],
   "source": [
    "sns.relplot(\n",
    "    data=activedonors[activedonors.MONTHS_SINCE_LAST_GIFT<=12],\n",
    "    x=\"MONTHS_SINCE_LAST_GIFT\", y=\"TARGET_D\", hue= 'FREQUENCY_STATUS_97NK', kind='line', facet_kws=dict(sharex=False),\n",
    "    height=8, aspect=3, ci=None, palette='Spectral')\n",
    "plt.title('How does the recency of a donation and its frequency in the last year affect the amount donated?')\n",
    "plt.show();"
   ]
  },
  {
   "cell_type": "markdown",
   "metadata": {},
   "source": [
    "Generally, higher donations in dollar amount were made by individuals who had donated once in the past 12 months.\n"
   ]
  },
  {
   "cell_type": "code",
   "execution_count": 89,
   "metadata": {},
   "outputs": [
    {
     "data": {
      "image/png": "[encoded data removed]",
      "text/plain": [
       "<Figure size 432x288 with 1 Axes>"
      ]
     },
     "metadata": {
      "needs_background": "light"
     },
     "output_type": "display_data"
    }
   ],
   "source": [
    "sns.boxplot(x='TARGET_B', y='MONTHS_SINCE_FIRST_GIFT', data=donors)\n",
    "plt.show()"
   ]
  },
  {
   "cell_type": "markdown",
   "metadata": {},
   "source": [
    "The box plot above allows us to draw the conclusion that people who donated in the last donation drive have, in general, donated for the first time a longer time ago than non-donors."
   ]
  },
  {
   "cell_type": "code",
   "execution_count": 90,
   "metadata": {},
   "outputs": [],
   "source": [
    "def plot_categorical(var, data=donors):\n",
    "    \"\"\"\n",
    "    Creates a count plot, a bar plot for DONATION_TYPE, the mean for TARGET_D and a boxplot for TARGET_D for a \n",
    "    categorical variable of the donors dataset. \n",
    "    Requires: var is a string, the name of a column of the donors dataset.\n",
    "    \"\"\"\n",
    "    # countplot\n",
    "    sns.countplot(x=var, data = data)\n",
    "    plt.show()\n",
    "    \n",
    "    # barplot\n",
    "    cross_table = pd.crosstab(index=data[var], columns=data[\"DONATION_TYPE\"])\n",
    "    cross_table.plot(kind=\"bar\", figsize=(6,6))\n",
    "    plt.show()\n",
    "    \n",
    "    # boxplot\n",
    "    sns.boxplot(x=var, y='TARGET_D', data=data)\n",
    "    plt.show()\n",
    "    \n",
    "    # mean\n",
    "    mean = data[\"TARGET_D\"].groupby(data[var]).mean().sort_values(ascending=False)\n",
    "    print(mean)"
   ]
  },
  {
   "cell_type": "code",
   "execution_count": 91,
   "metadata": {},
   "outputs": [
    {
     "data": {
      "image/png": "[encoded data removed]",
      "text/plain": [
       "<Figure size 432x288 with 1 Axes>"
      ]
     },
     "metadata": {
      "needs_background": "light"
     },
     "output_type": "display_data"
    },
    {
     "data": {
      "image/png": "[encoded data removed]",
      "text/plain": [
       "<Figure size 432x432 with 1 Axes>"
      ]
     },
     "metadata": {
      "needs_background": "light"
     },
     "output_type": "display_data"
    },
    {
     "data": {
      "image/png": "[encoded data removed]",
      "text/plain": [
       "<Figure size 432x288 with 1 Axes>"
      ]
     },
     "metadata": {
      "needs_background": "light"
     },
     "output_type": "display_data"
    },
    {
     "name": "stdout",
     "output_type": "stream",
     "text": [
      "RECENCY_STATUS_96NK\n",
      "L    24.764706\n",
      "F    21.729416\n",
      "N    17.654167\n",
      "E    17.136364\n",
      "A    16.995004\n",
      "S    11.063452\n",
      "Name: TARGET_D, dtype: float64\n"
     ]
    }
   ],
   "source": [
    "plot_categorical('RECENCY_STATUS_96NK',data=activedonors)"
   ]
  },
  {
   "cell_type": "code",
   "execution_count": 98,
   "metadata": {},
   "outputs": [
    {
     "ename": "TypeError",
     "evalue": "Neither the `x` nor `y` variable appears to be numeric.",
     "output_type": "error",
     "traceback": [
      "\u001b[1;31m---------------------------------------------------------------------------\u001b[0m",
      "\u001b[1;31mTypeError\u001b[0m                                 Traceback (most recent call last)",
      "\u001b[1;32m<ipython-input-98-c2520909d3a7>\u001b[0m in \u001b[0;36m<module>\u001b[1;34m\u001b[0m\n\u001b[1;32m----> 1\u001b[1;33m \u001b[0msns\u001b[0m\u001b[1;33m.\u001b[0m\u001b[0mbarplot\u001b[0m\u001b[1;33m(\u001b[0m\u001b[0my\u001b[0m\u001b[1;33m=\u001b[0m\u001b[1;34m'DONATION_TYPE'\u001b[0m\u001b[1;33m,\u001b[0m \u001b[0mx\u001b[0m\u001b[1;33m=\u001b[0m\u001b[1;34m'RECENCY_STATUS_96NK'\u001b[0m\u001b[1;33m,\u001b[0m \u001b[0mdata\u001b[0m\u001b[1;33m=\u001b[0m\u001b[0mactivedonors\u001b[0m\u001b[1;33m)\u001b[0m\u001b[1;33m\u001b[0m\u001b[1;33m\u001b[0m\u001b[0m\n\u001b[0m\u001b[0;32m      2\u001b[0m \u001b[0mplt\u001b[0m\u001b[1;33m.\u001b[0m\u001b[0mshow\u001b[0m\u001b[1;33m(\u001b[0m\u001b[1;33m)\u001b[0m\u001b[1;33m\u001b[0m\u001b[1;33m\u001b[0m\u001b[0m\n",
      "\u001b[1;32m~\\Anaconda3\\lib\\site-packages\\seaborn\\_decorators.py\u001b[0m in \u001b[0;36minner_f\u001b[1;34m(*args, **kwargs)\u001b[0m\n\u001b[0;32m     44\u001b[0m             )\n\u001b[0;32m     45\u001b[0m         \u001b[0mkwargs\u001b[0m\u001b[1;33m.\u001b[0m\u001b[0mupdate\u001b[0m\u001b[1;33m(\u001b[0m\u001b[1;33m{\u001b[0m\u001b[0mk\u001b[0m\u001b[1;33m:\u001b[0m \u001b[0marg\u001b[0m \u001b[1;32mfor\u001b[0m \u001b[0mk\u001b[0m\u001b[1;33m,\u001b[0m \u001b[0marg\u001b[0m \u001b[1;32min\u001b[0m \u001b[0mzip\u001b[0m\u001b[1;33m(\u001b[0m\u001b[0msig\u001b[0m\u001b[1;33m.\u001b[0m\u001b[0mparameters\u001b[0m\u001b[1;33m,\u001b[0m \u001b[0margs\u001b[0m\u001b[1;33m)\u001b[0m\u001b[1;33m}\u001b[0m\u001b[1;33m)\u001b[0m\u001b[1;33m\u001b[0m\u001b[1;33m\u001b[0m\u001b[0m\n\u001b[1;32m---> 46\u001b[1;33m         \u001b[1;32mreturn\u001b[0m \u001b[0mf\u001b[0m\u001b[1;33m(\u001b[0m\u001b[1;33m**\u001b[0m\u001b[0mkwargs\u001b[0m\u001b[1;33m)\u001b[0m\u001b[1;33m\u001b[0m\u001b[1;33m\u001b[0m\u001b[0m\n\u001b[0m\u001b[0;32m     47\u001b[0m     \u001b[1;32mreturn\u001b[0m \u001b[0minner_f\u001b[0m\u001b[1;33m\u001b[0m\u001b[1;33m\u001b[0m\u001b[0m\n\u001b[0;32m     48\u001b[0m \u001b[1;33m\u001b[0m\u001b[0m\n",
      "\u001b[1;32m~\\Anaconda3\\lib\\site-packages\\seaborn\\categorical.py\u001b[0m in \u001b[0;36mbarplot\u001b[1;34m(x, y, hue, data, order, hue_order, estimator, ci, n_boot, units, seed, orient, color, palette, saturation, errcolor, errwidth, capsize, dodge, ax, **kwargs)\u001b[0m\n\u001b[0;32m   3170\u001b[0m                           \u001b[0mestimator\u001b[0m\u001b[1;33m,\u001b[0m \u001b[0mci\u001b[0m\u001b[1;33m,\u001b[0m \u001b[0mn_boot\u001b[0m\u001b[1;33m,\u001b[0m \u001b[0munits\u001b[0m\u001b[1;33m,\u001b[0m \u001b[0mseed\u001b[0m\u001b[1;33m,\u001b[0m\u001b[1;33m\u001b[0m\u001b[1;33m\u001b[0m\u001b[0m\n\u001b[0;32m   3171\u001b[0m                           \u001b[0morient\u001b[0m\u001b[1;33m,\u001b[0m \u001b[0mcolor\u001b[0m\u001b[1;33m,\u001b[0m \u001b[0mpalette\u001b[0m\u001b[1;33m,\u001b[0m \u001b[0msaturation\u001b[0m\u001b[1;33m,\u001b[0m\u001b[1;33m\u001b[0m\u001b[1;33m\u001b[0m\u001b[0m\n\u001b[1;32m-> 3172\u001b[1;33m                           errcolor, errwidth, capsize, dodge)\n\u001b[0m\u001b[0;32m   3173\u001b[0m \u001b[1;33m\u001b[0m\u001b[0m\n\u001b[0;32m   3174\u001b[0m     \u001b[1;32mif\u001b[0m \u001b[0max\u001b[0m \u001b[1;32mis\u001b[0m \u001b[1;32mNone\u001b[0m\u001b[1;33m:\u001b[0m\u001b[1;33m\u001b[0m\u001b[1;33m\u001b[0m\u001b[0m\n",
      "\u001b[1;32m~\\Anaconda3\\lib\\site-packages\\seaborn\\categorical.py\u001b[0m in \u001b[0;36m__init__\u001b[1;34m(self, x, y, hue, data, order, hue_order, estimator, ci, n_boot, units, seed, orient, color, palette, saturation, errcolor, errwidth, capsize, dodge)\u001b[0m\n\u001b[0;32m   1583\u001b[0m         \u001b[1;34m\"\"\"Initialize the plotter.\"\"\"\u001b[0m\u001b[1;33m\u001b[0m\u001b[1;33m\u001b[0m\u001b[0m\n\u001b[0;32m   1584\u001b[0m         self.establish_variables(x, y, hue, data, orient,\n\u001b[1;32m-> 1585\u001b[1;33m                                  order, hue_order, units)\n\u001b[0m\u001b[0;32m   1586\u001b[0m         \u001b[0mself\u001b[0m\u001b[1;33m.\u001b[0m\u001b[0mestablish_colors\u001b[0m\u001b[1;33m(\u001b[0m\u001b[0mcolor\u001b[0m\u001b[1;33m,\u001b[0m \u001b[0mpalette\u001b[0m\u001b[1;33m,\u001b[0m \u001b[0msaturation\u001b[0m\u001b[1;33m)\u001b[0m\u001b[1;33m\u001b[0m\u001b[1;33m\u001b[0m\u001b[0m\n\u001b[0;32m   1587\u001b[0m         \u001b[0mself\u001b[0m\u001b[1;33m.\u001b[0m\u001b[0mestimate_statistic\u001b[0m\u001b[1;33m(\u001b[0m\u001b[0mestimator\u001b[0m\u001b[1;33m,\u001b[0m \u001b[0mci\u001b[0m\u001b[1;33m,\u001b[0m \u001b[0mn_boot\u001b[0m\u001b[1;33m,\u001b[0m \u001b[0mseed\u001b[0m\u001b[1;33m)\u001b[0m\u001b[1;33m\u001b[0m\u001b[1;33m\u001b[0m\u001b[0m\n",
      "\u001b[1;32m~\\Anaconda3\\lib\\site-packages\\seaborn\\categorical.py\u001b[0m in \u001b[0;36mestablish_variables\u001b[1;34m(self, x, y, hue, data, orient, order, hue_order, units)\u001b[0m\n\u001b[0;32m    155\u001b[0m             \u001b[1;31m# Figure out the plotting orientation\u001b[0m\u001b[1;33m\u001b[0m\u001b[1;33m\u001b[0m\u001b[1;33m\u001b[0m\u001b[0m\n\u001b[0;32m    156\u001b[0m             orient = infer_orient(\n\u001b[1;32m--> 157\u001b[1;33m                 \u001b[0mx\u001b[0m\u001b[1;33m,\u001b[0m \u001b[0my\u001b[0m\u001b[1;33m,\u001b[0m \u001b[0morient\u001b[0m\u001b[1;33m,\u001b[0m \u001b[0mrequire_numeric\u001b[0m\u001b[1;33m=\u001b[0m\u001b[0mself\u001b[0m\u001b[1;33m.\u001b[0m\u001b[0mrequire_numeric\u001b[0m\u001b[1;33m\u001b[0m\u001b[1;33m\u001b[0m\u001b[0m\n\u001b[0m\u001b[0;32m    158\u001b[0m             )\n\u001b[0;32m    159\u001b[0m \u001b[1;33m\u001b[0m\u001b[0m\n",
      "\u001b[1;32m~\\Anaconda3\\lib\\site-packages\\seaborn\\_core.py\u001b[0m in \u001b[0;36minfer_orient\u001b[1;34m(x, y, orient, require_numeric)\u001b[0m\n\u001b[0;32m   1327\u001b[0m     \u001b[1;32melif\u001b[0m \u001b[0mrequire_numeric\u001b[0m \u001b[1;32mand\u001b[0m \u001b[1;34m\"numeric\"\u001b[0m \u001b[1;32mnot\u001b[0m \u001b[1;32min\u001b[0m \u001b[1;33m(\u001b[0m\u001b[0mx_type\u001b[0m\u001b[1;33m,\u001b[0m \u001b[0my_type\u001b[0m\u001b[1;33m)\u001b[0m\u001b[1;33m:\u001b[0m\u001b[1;33m\u001b[0m\u001b[1;33m\u001b[0m\u001b[0m\n\u001b[0;32m   1328\u001b[0m         \u001b[0merr\u001b[0m \u001b[1;33m=\u001b[0m \u001b[1;34m\"Neither the `x` nor `y` variable appears to be numeric.\"\u001b[0m\u001b[1;33m\u001b[0m\u001b[1;33m\u001b[0m\u001b[0m\n\u001b[1;32m-> 1329\u001b[1;33m         \u001b[1;32mraise\u001b[0m \u001b[0mTypeError\u001b[0m\u001b[1;33m(\u001b[0m\u001b[0merr\u001b[0m\u001b[1;33m)\u001b[0m\u001b[1;33m\u001b[0m\u001b[1;33m\u001b[0m\u001b[0m\n\u001b[0m\u001b[0;32m   1330\u001b[0m \u001b[1;33m\u001b[0m\u001b[0m\n\u001b[0;32m   1331\u001b[0m     \u001b[1;32melse\u001b[0m\u001b[1;33m:\u001b[0m\u001b[1;33m\u001b[0m\u001b[1;33m\u001b[0m\u001b[0m\n",
      "\u001b[1;31mTypeError\u001b[0m: Neither the `x` nor `y` variable appears to be numeric."
     ]
    }
   ],
   "source": [
    "sns.barplot(y='DONATION_TYPE', x='RECENCY_STATUS_96NK', data=activedonors)\n",
    "plt.show()"
   ]
  },
  {
   "cell_type": "code",
   "execution_count": null,
   "metadata": {},
   "outputs": [],
   "source": [
    "cmap = plt.cm.get_cmap('Reds')\n",
    "activedonors.plot(kind='scatter',x='MEDIAN_HOUSEHOLD_INCOME', y='MEDIAN_HOME_VALUE', alpha=0.4,\n",
    "           figsize=(10,7), s=activedonors['FILE_CARD_GIFT'], label='FILE_CARD_GIFT',\n",
    "           c='TARGET_D',  colorbar=True, colormap='jet',\n",
    "           sharex=False)\n",
    "plt.show();"
   ]
  },
  {
   "cell_type": "markdown",
   "metadata": {},
   "source": [
    "# correct plot below.."
   ]
  },
  {
   "cell_type": "code",
   "execution_count": null,
   "metadata": {},
   "outputs": [],
   "source": [
    "cmap = plt.cm.get_cmap('Reds')\n",
    "activedonors.plot(kind='scatter',x='TARGET_D', y='PCT_ATTRIBUTE1_CAT', alpha=0.4,\n",
    "           figsize=(10,7),\n",
    "           sharex=False)\n",
    "plt.show();"
   ]
  },
  {
   "cell_type": "code",
   "execution_count": null,
   "metadata": {},
   "outputs": [],
   "source": [
    "#sns.scatterplot(data=donors,\n",
    " #   x=\"HOME_OWNER\", y=\"TARGET_B\")\n",
    "\n",
    "\n",
    "#sns.pairplot(donors[['HOME_OWNER','TARGET_D']], hue=donors[\"TARGET_B\"])"
   ]
  },
  {
   "cell_type": "markdown",
   "metadata": {},
   "source": [
    "## Falta explicar melhor os graficos "
   ]
  },
  {
   "cell_type": "markdown",
   "metadata": {},
   "source": [
    "## Task 1 (Supervised Learning) - Predicting Donation and Donation Type\n",
    "\n",
    "In this task you should target 3 classification tasks:\n",
    "1. **Predicting  Donation (binary classification task)** - TARGET_B - Hugo; \n",
    "2. **Predicting Donation TYPE (multiclass classification)** - DONATION_TYPE - Paulo; and\n",
    "3. **Train specialized models for SES (socioeconomic classification)** - SES - Filipe."
   ]
  },
  {
   "cell_type": "markdown",
   "metadata": {},
   "source": [
    "**You should:**\n",
    "\n",
    "* Choose **one classifier in each category**: Tree models, Rule models, Linear models, Distance-based models, and Probabilistic models.\n",
    "* Use cross-validation to evaluate the results. \n",
    "* Present and discuss the results for different evaluation measures, present confusion matrices. Remember that not only overall results are important. Check what happens when learning to predict each class.\n",
    "* Describe the parameters used for each classifier and how their choice impacted or not the results.\n",
    "* Choose the best classifier and fundament you choice.\n",
    "* **Discuss critically your choices and the results!**"
   ]
  },
  {
   "cell_type": "markdown",
   "metadata": {},
   "source": [
    "# Task 1.1) Predicting Donation (binary classification task) - TARGET_B"
   ]
  },
  {
   "cell_type": "markdown",
   "metadata": {},
   "source": [
    "We had already previously observed the feature TARGET_B, we were dealing with an imbalanced data set. \n",
    "When learning from data sets that contain very few instances of the minority class, in many cases the algorithm tends to favor the majority class while the minority class usually represents the most important concept to be learned (individuals who donated). \n",
    "\n",
    "We have chosen to handle the imbalanced data with **SMOTE** (synthetic minority oversampling technique), an oversampling method add samples to original imbalanced dataset to balance the size of the minority and majority classes."
   ]
  },
  {
   "cell_type": "code",
   "execution_count": 99,
   "metadata": {},
   "outputs": [
    {
     "data": {
      "text/html": [
       "<div>\n",
       "<style scoped>\n",
       "    .dataframe tbody tr th:only-of-type {\n",
       "        vertical-align: middle;\n",
       "    }\n",
       "\n",
       "    .dataframe tbody tr th {\n",
       "        vertical-align: top;\n",
       "    }\n",
       "\n",
       "    .dataframe thead th {\n",
       "        text-align: right;\n",
       "    }\n",
       "</style>\n",
       "<table border=\"1\" class=\"dataframe\">\n",
       "  <thead>\n",
       "    <tr style=\"text-align: right;\">\n",
       "      <th></th>\n",
       "      <th>TARGET_B</th>\n",
       "      <th>TARGET_D</th>\n",
       "      <th>DONOR_AGE</th>\n",
       "      <th>IN_HOUSE</th>\n",
       "      <th>URBANICITY</th>\n",
       "      <th>SES</th>\n",
       "      <th>HOME_OWNER</th>\n",
       "      <th>DONOR_GENDER</th>\n",
       "      <th>PUBLISHED_PHONE</th>\n",
       "      <th>MOR_HIT_RATE</th>\n",
       "      <th>MEDIAN_HOME_VALUE</th>\n",
       "      <th>MEDIAN_HOUSEHOLD_INCOME</th>\n",
       "      <th>PCT_OWNER_OCCUPIED</th>\n",
       "      <th>RECENCY_STATUS_96NK</th>\n",
       "      <th>FREQUENCY_STATUS_97NK</th>\n",
       "      <th>RECENT_RESPONSE_PROP</th>\n",
       "      <th>RECENT_AVG_GIFT_AMT</th>\n",
       "      <th>RECENT_CARD_RESPONSE_PROP</th>\n",
       "      <th>RECENT_AVG_CARD_GIFT_AMT</th>\n",
       "      <th>RECENT_CARD_RESPONSE_COUNT</th>\n",
       "      <th>MONTHS_SINCE_LAST_PROM_RESP</th>\n",
       "      <th>LIFETIME_AVG_GIFT_AMT</th>\n",
       "      <th>LAST_GIFT_AMT</th>\n",
       "      <th>CARD_PROM_12</th>\n",
       "      <th>MONTHS_SINCE_LAST_GIFT</th>\n",
       "      <th>MONTHS_SINCE_FIRST_GIFT</th>\n",
       "      <th>FILE_CARD_GIFT</th>\n",
       "      <th>DONATION_TYPE</th>\n",
       "      <th>PCT_ATTRIBUTE1_CAT</th>\n",
       "      <th>PCT_ATTRIBUTE2_CAT</th>\n",
       "      <th>PCT_ATTRIBUTE3_CAT</th>\n",
       "      <th>PCT_ATTRIBUTE4_CAT</th>\n",
       "    </tr>\n",
       "  </thead>\n",
       "  <tbody>\n",
       "    <tr>\n",
       "      <th>0</th>\n",
       "      <td>0</td>\n",
       "      <td>0.0</td>\n",
       "      <td>87</td>\n",
       "      <td>0</td>\n",
       "      <td>S</td>\n",
       "      <td>2.0</td>\n",
       "      <td>H</td>\n",
       "      <td>M</td>\n",
       "      <td>0</td>\n",
       "      <td>0</td>\n",
       "      <td>554</td>\n",
       "      <td>294</td>\n",
       "      <td>76</td>\n",
       "      <td>A</td>\n",
       "      <td>1</td>\n",
       "      <td>0.067</td>\n",
       "      <td>15.0</td>\n",
       "      <td>0.00</td>\n",
       "      <td>0.0</td>\n",
       "      <td>0</td>\n",
       "      <td>26.0</td>\n",
       "      <td>8.49</td>\n",
       "      <td>15.0</td>\n",
       "      <td>5</td>\n",
       "      <td>26</td>\n",
       "      <td>92</td>\n",
       "      <td>7</td>\n",
       "      <td>nan</td>\n",
       "      <td>0</td>\n",
       "      <td>0</td>\n",
       "      <td>0</td>\n",
       "      <td>0</td>\n",
       "    </tr>\n",
       "    <tr>\n",
       "      <th>1</th>\n",
       "      <td>1</td>\n",
       "      <td>10.0</td>\n",
       "      <td>79</td>\n",
       "      <td>0</td>\n",
       "      <td>R</td>\n",
       "      <td>2.0</td>\n",
       "      <td>H</td>\n",
       "      <td>M</td>\n",
       "      <td>0</td>\n",
       "      <td>0</td>\n",
       "      <td>334</td>\n",
       "      <td>212</td>\n",
       "      <td>72</td>\n",
       "      <td>S</td>\n",
       "      <td>2</td>\n",
       "      <td>0.235</td>\n",
       "      <td>15.0</td>\n",
       "      <td>0.25</td>\n",
       "      <td>15.0</td>\n",
       "      <td>2</td>\n",
       "      <td>11.0</td>\n",
       "      <td>14.72</td>\n",
       "      <td>17.0</td>\n",
       "      <td>7</td>\n",
       "      <td>7</td>\n",
       "      <td>122</td>\n",
       "      <td>12</td>\n",
       "      <td>D</td>\n",
       "      <td>0</td>\n",
       "      <td>2</td>\n",
       "      <td>1</td>\n",
       "      <td>1</td>\n",
       "    </tr>\n",
       "  </tbody>\n",
       "</table>\n",
       "</div>"
      ],
      "text/plain": [
       "   TARGET_B  TARGET_D  DONOR_AGE  IN_HOUSE URBANICITY  SES HOME_OWNER  \\\n",
       "0         0       0.0         87         0          S  2.0          H   \n",
       "1         1      10.0         79         0          R  2.0          H   \n",
       "\n",
       "  DONOR_GENDER  PUBLISHED_PHONE  MOR_HIT_RATE  MEDIAN_HOME_VALUE  \\\n",
       "0            M                0             0                554   \n",
       "1            M                0             0                334   \n",
       "\n",
       "   MEDIAN_HOUSEHOLD_INCOME  PCT_OWNER_OCCUPIED RECENCY_STATUS_96NK  \\\n",
       "0                      294                  76                   A   \n",
       "1                      212                  72                   S   \n",
       "\n",
       "   FREQUENCY_STATUS_97NK  RECENT_RESPONSE_PROP  RECENT_AVG_GIFT_AMT  \\\n",
       "0                      1                 0.067                 15.0   \n",
       "1                      2                 0.235                 15.0   \n",
       "\n",
       "   RECENT_CARD_RESPONSE_PROP  RECENT_AVG_CARD_GIFT_AMT  \\\n",
       "0                       0.00                       0.0   \n",
       "1                       0.25                      15.0   \n",
       "\n",
       "   RECENT_CARD_RESPONSE_COUNT  MONTHS_SINCE_LAST_PROM_RESP  \\\n",
       "0                           0                         26.0   \n",
       "1                           2                         11.0   \n",
       "\n",
       "   LIFETIME_AVG_GIFT_AMT  LAST_GIFT_AMT  CARD_PROM_12  MONTHS_SINCE_LAST_GIFT  \\\n",
       "0                   8.49           15.0             5                      26   \n",
       "1                  14.72           17.0             7                       7   \n",
       "\n",
       "   MONTHS_SINCE_FIRST_GIFT  FILE_CARD_GIFT DONATION_TYPE  PCT_ATTRIBUTE1_CAT  \\\n",
       "0                       92               7           nan                   0   \n",
       "1                      122              12             D                   0   \n",
       "\n",
       "   PCT_ATTRIBUTE2_CAT  PCT_ATTRIBUTE3_CAT  PCT_ATTRIBUTE4_CAT  \n",
       "0                   0                   0                   0  \n",
       "1                   2                   1                   1  "
      ]
     },
     "execution_count": 99,
     "metadata": {},
     "output_type": "execute_result"
    }
   ],
   "source": [
    "donors.head(2)"
   ]
  },
  {
   "cell_type": "code",
   "execution_count": 100,
   "metadata": {},
   "outputs": [
    {
     "name": "stdout",
     "output_type": "stream",
     "text": [
      "(19372, 44)\n"
     ]
    }
   ],
   "source": [
    "#cat features\n",
    "from sklearn.preprocessing import OneHotEncoder\n",
    "encoder = OneHotEncoder(handle_unknown='ignore',sparse=False)\n",
    "cat_features_final = encoder.fit_transform(donors[donors_cat])\n",
    "column_name = encoder.get_feature_names(donors_cat)\n",
    "one_hot_encoded_cat =  pd.DataFrame(cat_features_final, columns= column_name)\n",
    "print(one_hot_encoded_cat.shape)"
   ]
  },
  {
   "cell_type": "code",
   "execution_count": 101,
   "metadata": {},
   "outputs": [],
   "source": [
    "# num features - scalling\n",
    "numericalfeatures = ['CARD_PROM_12','DONOR_AGE','FILE_CARD_GIFT',\n",
    "                    'LAST_GIFT_AMT','LIFETIME_AVG_GIFT_AMT','MEDIAN_HOME_VALUE',\n",
    "                    'MEDIAN_HOUSEHOLD_INCOME','MONTHS_SINCE_FIRST_GIFT',\n",
    "                    'MOR_HIT_RATE', 'RECENT_AVG_CARD_GIFT_AMT','RECENT_AVG_GIFT_AMT',\n",
    "                    'RECENT_CARD_RESPONSE_COUNT','RECENT_CARD_RESPONSE_PROP','RECENT_RESPONSE_PROP']"
   ]
  },
  {
   "cell_type": "markdown",
   "metadata": {},
   "source": [
    "- **Feature Scaling** : As we have vastly different ranges for the numerical data, it is important to scale every value to the same range (0 for the minimum, 1 for the maximum)."
   ]
  },
  {
   "cell_type": "code",
   "execution_count": 102,
   "metadata": {},
   "outputs": [],
   "source": [
    "donors_num = donors[['CARD_PROM_12','DONOR_AGE','FILE_CARD_GIFT',\n",
    "                    'LAST_GIFT_AMT','LIFETIME_AVG_GIFT_AMT','MEDIAN_HOME_VALUE',\n",
    "                    'MEDIAN_HOUSEHOLD_INCOME','MONTHS_SINCE_FIRST_GIFT',\n",
    "                    'MOR_HIT_RATE', 'RECENT_AVG_CARD_GIFT_AMT','RECENT_AVG_GIFT_AMT',\n",
    "                    'RECENT_CARD_RESPONSE_COUNT','RECENT_CARD_RESPONSE_PROP','RECENT_RESPONSE_PROP']]"
   ]
  },
  {
   "cell_type": "code",
   "execution_count": 103,
   "metadata": {},
   "outputs": [],
   "source": [
    "from sklearn.preprocessing import MinMaxScaler\n",
    "scaler = MinMaxScaler()\n",
    "scaled = scaler.fit_transform(donors_num)\n",
    "\n",
    "# creating a scaled dataframe\n",
    "donors_num_scaled = pd.DataFrame(scaled)\n",
    "donors_num_scaled.columns = donors_num.columns"
   ]
  },
  {
   "cell_type": "code",
   "execution_count": 104,
   "metadata": {},
   "outputs": [
    {
     "data": {
      "text/plain": [
       "(19372, 14)"
      ]
     },
     "execution_count": 104,
     "metadata": {},
     "output_type": "execute_result"
    }
   ],
   "source": [
    "donors_num_scaled.shape"
   ]
  },
  {
   "cell_type": "code",
   "execution_count": 105,
   "metadata": {},
   "outputs": [],
   "source": [
    "X = pd.concat([donors_num_scaled, one_hot_encoded_cat], axis=1)"
   ]
  },
  {
   "cell_type": "code",
   "execution_count": 106,
   "metadata": {
    "scrolled": true
   },
   "outputs": [
    {
     "data": {
      "text/html": [
       "<div>\n",
       "<style scoped>\n",
       "    .dataframe tbody tr th:only-of-type {\n",
       "        vertical-align: middle;\n",
       "    }\n",
       "\n",
       "    .dataframe tbody tr th {\n",
       "        vertical-align: top;\n",
       "    }\n",
       "\n",
       "    .dataframe thead th {\n",
       "        text-align: right;\n",
       "    }\n",
       "</style>\n",
       "<table border=\"1\" class=\"dataframe\">\n",
       "  <thead>\n",
       "    <tr style=\"text-align: right;\">\n",
       "      <th></th>\n",
       "      <th>CARD_PROM_12</th>\n",
       "      <th>DONOR_AGE</th>\n",
       "      <th>FILE_CARD_GIFT</th>\n",
       "      <th>LAST_GIFT_AMT</th>\n",
       "      <th>LIFETIME_AVG_GIFT_AMT</th>\n",
       "      <th>MEDIAN_HOME_VALUE</th>\n",
       "      <th>MEDIAN_HOUSEHOLD_INCOME</th>\n",
       "      <th>MONTHS_SINCE_FIRST_GIFT</th>\n",
       "      <th>MOR_HIT_RATE</th>\n",
       "      <th>RECENT_AVG_CARD_GIFT_AMT</th>\n",
       "      <th>RECENT_AVG_GIFT_AMT</th>\n",
       "      <th>RECENT_CARD_RESPONSE_COUNT</th>\n",
       "      <th>RECENT_CARD_RESPONSE_PROP</th>\n",
       "      <th>RECENT_RESPONSE_PROP</th>\n",
       "      <th>DONOR_GENDER_F</th>\n",
       "      <th>DONOR_GENDER_M</th>\n",
       "      <th>DONOR_GENDER_U</th>\n",
       "      <th>RECENCY_STATUS_96NK_A</th>\n",
       "      <th>RECENCY_STATUS_96NK_E</th>\n",
       "      <th>RECENCY_STATUS_96NK_F</th>\n",
       "      <th>RECENCY_STATUS_96NK_L</th>\n",
       "      <th>RECENCY_STATUS_96NK_N</th>\n",
       "      <th>RECENCY_STATUS_96NK_S</th>\n",
       "      <th>HOME_OWNER_H</th>\n",
       "      <th>HOME_OWNER_U</th>\n",
       "      <th>IN_HOUSE_0</th>\n",
       "      <th>IN_HOUSE_1</th>\n",
       "      <th>PCT_ATTRIBUTE1_CAT_0</th>\n",
       "      <th>PCT_ATTRIBUTE1_CAT_1</th>\n",
       "      <th>PCT_ATTRIBUTE1_CAT_2</th>\n",
       "      <th>PCT_ATTRIBUTE1_CAT_3</th>\n",
       "      <th>PCT_ATTRIBUTE1_CAT_4</th>\n",
       "      <th>PCT_ATTRIBUTE2_CAT_0</th>\n",
       "      <th>PCT_ATTRIBUTE2_CAT_1</th>\n",
       "      <th>PCT_ATTRIBUTE2_CAT_2</th>\n",
       "      <th>PCT_ATTRIBUTE2_CAT_3</th>\n",
       "      <th>PCT_ATTRIBUTE2_CAT_4</th>\n",
       "      <th>PCT_ATTRIBUTE3_CAT_0</th>\n",
       "      <th>PCT_ATTRIBUTE3_CAT_1</th>\n",
       "      <th>PCT_ATTRIBUTE3_CAT_2</th>\n",
       "      <th>PCT_ATTRIBUTE3_CAT_3</th>\n",
       "      <th>PCT_ATTRIBUTE3_CAT_4</th>\n",
       "      <th>PCT_ATTRIBUTE4_CAT_0</th>\n",
       "      <th>PCT_ATTRIBUTE4_CAT_1</th>\n",
       "      <th>PCT_ATTRIBUTE4_CAT_2</th>\n",
       "      <th>PCT_ATTRIBUTE4_CAT_3</th>\n",
       "      <th>PCT_ATTRIBUTE4_CAT_4</th>\n",
       "      <th>PUBLISHED_PHONE_0</th>\n",
       "      <th>PUBLISHED_PHONE_1</th>\n",
       "      <th>SES_1.0</th>\n",
       "      <th>SES_2.0</th>\n",
       "      <th>SES_3.0</th>\n",
       "      <th>SES_4.0</th>\n",
       "      <th>URBANICITY_C</th>\n",
       "      <th>URBANICITY_R</th>\n",
       "      <th>URBANICITY_S</th>\n",
       "      <th>URBANICITY_T</th>\n",
       "      <th>URBANICITY_U</th>\n",
       "    </tr>\n",
       "  </thead>\n",
       "  <tbody>\n",
       "    <tr>\n",
       "      <th>0</th>\n",
       "      <td>0.294118</td>\n",
       "      <td>1.000000</td>\n",
       "      <td>0.170732</td>\n",
       "      <td>0.033333</td>\n",
       "      <td>0.015892</td>\n",
       "      <td>0.092333</td>\n",
       "      <td>0.196000</td>\n",
       "      <td>0.314286</td>\n",
       "      <td>0.0</td>\n",
       "      <td>0.00</td>\n",
       "      <td>0.057692</td>\n",
       "      <td>0.000000</td>\n",
       "      <td>0.00</td>\n",
       "      <td>0.067</td>\n",
       "      <td>0.0</td>\n",
       "      <td>1.0</td>\n",
       "      <td>0.0</td>\n",
       "      <td>1.0</td>\n",
       "      <td>0.0</td>\n",
       "      <td>0.0</td>\n",
       "      <td>0.0</td>\n",
       "      <td>0.0</td>\n",
       "      <td>0.0</td>\n",
       "      <td>1.0</td>\n",
       "      <td>0.0</td>\n",
       "      <td>1.0</td>\n",
       "      <td>0.0</td>\n",
       "      <td>1.0</td>\n",
       "      <td>0.0</td>\n",
       "      <td>0.0</td>\n",
       "      <td>0.0</td>\n",
       "      <td>0.0</td>\n",
       "      <td>1.0</td>\n",
       "      <td>0.0</td>\n",
       "      <td>0.0</td>\n",
       "      <td>0.0</td>\n",
       "      <td>0.0</td>\n",
       "      <td>1.0</td>\n",
       "      <td>0.0</td>\n",
       "      <td>0.0</td>\n",
       "      <td>0.0</td>\n",
       "      <td>0.0</td>\n",
       "      <td>1.0</td>\n",
       "      <td>0.0</td>\n",
       "      <td>0.0</td>\n",
       "      <td>0.0</td>\n",
       "      <td>0.0</td>\n",
       "      <td>1.0</td>\n",
       "      <td>0.0</td>\n",
       "      <td>0.0</td>\n",
       "      <td>1.0</td>\n",
       "      <td>0.0</td>\n",
       "      <td>0.0</td>\n",
       "      <td>0.0</td>\n",
       "      <td>0.0</td>\n",
       "      <td>1.0</td>\n",
       "      <td>0.0</td>\n",
       "      <td>0.0</td>\n",
       "    </tr>\n",
       "    <tr>\n",
       "      <th>1</th>\n",
       "      <td>0.411765</td>\n",
       "      <td>0.908046</td>\n",
       "      <td>0.292683</td>\n",
       "      <td>0.037778</td>\n",
       "      <td>0.029779</td>\n",
       "      <td>0.055667</td>\n",
       "      <td>0.141333</td>\n",
       "      <td>0.436735</td>\n",
       "      <td>0.0</td>\n",
       "      <td>0.05</td>\n",
       "      <td>0.057692</td>\n",
       "      <td>0.222222</td>\n",
       "      <td>0.25</td>\n",
       "      <td>0.235</td>\n",
       "      <td>0.0</td>\n",
       "      <td>1.0</td>\n",
       "      <td>0.0</td>\n",
       "      <td>0.0</td>\n",
       "      <td>0.0</td>\n",
       "      <td>0.0</td>\n",
       "      <td>0.0</td>\n",
       "      <td>0.0</td>\n",
       "      <td>1.0</td>\n",
       "      <td>1.0</td>\n",
       "      <td>0.0</td>\n",
       "      <td>1.0</td>\n",
       "      <td>0.0</td>\n",
       "      <td>1.0</td>\n",
       "      <td>0.0</td>\n",
       "      <td>0.0</td>\n",
       "      <td>0.0</td>\n",
       "      <td>0.0</td>\n",
       "      <td>0.0</td>\n",
       "      <td>0.0</td>\n",
       "      <td>1.0</td>\n",
       "      <td>0.0</td>\n",
       "      <td>0.0</td>\n",
       "      <td>0.0</td>\n",
       "      <td>1.0</td>\n",
       "      <td>0.0</td>\n",
       "      <td>0.0</td>\n",
       "      <td>0.0</td>\n",
       "      <td>0.0</td>\n",
       "      <td>1.0</td>\n",
       "      <td>0.0</td>\n",
       "      <td>0.0</td>\n",
       "      <td>0.0</td>\n",
       "      <td>1.0</td>\n",
       "      <td>0.0</td>\n",
       "      <td>0.0</td>\n",
       "      <td>1.0</td>\n",
       "      <td>0.0</td>\n",
       "      <td>0.0</td>\n",
       "      <td>0.0</td>\n",
       "      <td>1.0</td>\n",
       "      <td>0.0</td>\n",
       "      <td>0.0</td>\n",
       "      <td>0.0</td>\n",
       "    </tr>\n",
       "  </tbody>\n",
       "</table>\n",
       "</div>"
      ],
      "text/plain": [
       "   CARD_PROM_12  DONOR_AGE  FILE_CARD_GIFT  LAST_GIFT_AMT  \\\n",
       "0      0.294118   1.000000        0.170732       0.033333   \n",
       "1      0.411765   0.908046        0.292683       0.037778   \n",
       "\n",
       "   LIFETIME_AVG_GIFT_AMT  MEDIAN_HOME_VALUE  MEDIAN_HOUSEHOLD_INCOME  \\\n",
       "0               0.015892           0.092333                 0.196000   \n",
       "1               0.029779           0.055667                 0.141333   \n",
       "\n",
       "   MONTHS_SINCE_FIRST_GIFT  MOR_HIT_RATE  RECENT_AVG_CARD_GIFT_AMT  \\\n",
       "0                 0.314286           0.0                      0.00   \n",
       "1                 0.436735           0.0                      0.05   \n",
       "\n",
       "   RECENT_AVG_GIFT_AMT  RECENT_CARD_RESPONSE_COUNT  RECENT_CARD_RESPONSE_PROP  \\\n",
       "0             0.057692                    0.000000                       0.00   \n",
       "1             0.057692                    0.222222                       0.25   \n",
       "\n",
       "   RECENT_RESPONSE_PROP  DONOR_GENDER_F  DONOR_GENDER_M  DONOR_GENDER_U  \\\n",
       "0                 0.067             0.0             1.0             0.0   \n",
       "1                 0.235             0.0             1.0             0.0   \n",
       "\n",
       "   RECENCY_STATUS_96NK_A  RECENCY_STATUS_96NK_E  RECENCY_STATUS_96NK_F  \\\n",
       "0                    1.0                    0.0                    0.0   \n",
       "1                    0.0                    0.0                    0.0   \n",
       "\n",
       "   RECENCY_STATUS_96NK_L  RECENCY_STATUS_96NK_N  RECENCY_STATUS_96NK_S  \\\n",
       "0                    0.0                    0.0                    0.0   \n",
       "1                    0.0                    0.0                    1.0   \n",
       "\n",
       "   HOME_OWNER_H  HOME_OWNER_U  IN_HOUSE_0  IN_HOUSE_1  PCT_ATTRIBUTE1_CAT_0  \\\n",
       "0           1.0           0.0         1.0         0.0                   1.0   \n",
       "1           1.0           0.0         1.0         0.0                   1.0   \n",
       "\n",
       "   PCT_ATTRIBUTE1_CAT_1  PCT_ATTRIBUTE1_CAT_2  PCT_ATTRIBUTE1_CAT_3  \\\n",
       "0                   0.0                   0.0                   0.0   \n",
       "1                   0.0                   0.0                   0.0   \n",
       "\n",
       "   PCT_ATTRIBUTE1_CAT_4  PCT_ATTRIBUTE2_CAT_0  PCT_ATTRIBUTE2_CAT_1  \\\n",
       "0                   0.0                   1.0                   0.0   \n",
       "1                   0.0                   0.0                   0.0   \n",
       "\n",
       "   PCT_ATTRIBUTE2_CAT_2  PCT_ATTRIBUTE2_CAT_3  PCT_ATTRIBUTE2_CAT_4  \\\n",
       "0                   0.0                   0.0                   0.0   \n",
       "1                   1.0                   0.0                   0.0   \n",
       "\n",
       "   PCT_ATTRIBUTE3_CAT_0  PCT_ATTRIBUTE3_CAT_1  PCT_ATTRIBUTE3_CAT_2  \\\n",
       "0                   1.0                   0.0                   0.0   \n",
       "1                   0.0                   1.0                   0.0   \n",
       "\n",
       "   PCT_ATTRIBUTE3_CAT_3  PCT_ATTRIBUTE3_CAT_4  PCT_ATTRIBUTE4_CAT_0  \\\n",
       "0                   0.0                   0.0                   1.0   \n",
       "1                   0.0                   0.0                   0.0   \n",
       "\n",
       "   PCT_ATTRIBUTE4_CAT_1  PCT_ATTRIBUTE4_CAT_2  PCT_ATTRIBUTE4_CAT_3  \\\n",
       "0                   0.0                   0.0                   0.0   \n",
       "1                   1.0                   0.0                   0.0   \n",
       "\n",
       "   PCT_ATTRIBUTE4_CAT_4  PUBLISHED_PHONE_0  PUBLISHED_PHONE_1  SES_1.0  \\\n",
       "0                   0.0                1.0                0.0      0.0   \n",
       "1                   0.0                1.0                0.0      0.0   \n",
       "\n",
       "   SES_2.0  SES_3.0  SES_4.0  URBANICITY_C  URBANICITY_R  URBANICITY_S  \\\n",
       "0      1.0      0.0      0.0           0.0           0.0           1.0   \n",
       "1      1.0      0.0      0.0           0.0           1.0           0.0   \n",
       "\n",
       "   URBANICITY_T  URBANICITY_U  \n",
       "0           0.0           0.0  \n",
       "1           0.0           0.0  "
      ]
     },
     "execution_count": 106,
     "metadata": {},
     "output_type": "execute_result"
    }
   ],
   "source": [
    "X.head(2)"
   ]
  },
  {
   "cell_type": "code",
   "execution_count": 107,
   "metadata": {},
   "outputs": [
    {
     "data": {
      "text/plain": [
       "0        0\n",
       "1        1\n",
       "2        0\n",
       "3        0\n",
       "4        0\n",
       "        ..\n",
       "19367    0\n",
       "19368    0\n",
       "19369    0\n",
       "19370    0\n",
       "19371    1\n",
       "Name: TARGET_B, Length: 19372, dtype: int64"
      ]
     },
     "execution_count": 107,
     "metadata": {},
     "output_type": "execute_result"
    }
   ],
   "source": [
    "y_TARGET_B = donors.TARGET_B\n",
    "y_TARGET_B"
   ]
  },
  {
   "cell_type": "code",
   "execution_count": 108,
   "metadata": {},
   "outputs": [
    {
     "name": "stdout",
     "output_type": "stream",
     "text": [
      "Shape of X: (19372, 58)\n",
      "Shape of y: (19372,)\n"
     ]
    }
   ],
   "source": [
    "print('Shape of X: {}'.format(X.shape))\n",
    "print('Shape of y: {}'.format(y_TARGET_B.shape))"
   ]
  },
  {
   "cell_type": "code",
   "execution_count": 109,
   "metadata": {},
   "outputs": [],
   "source": [
    "#!pip install imblearn"
   ]
  },
  {
   "cell_type": "markdown",
   "metadata": {},
   "source": [
    "# Addressing Class Imbalances"
   ]
  },
  {
   "cell_type": "code",
   "execution_count": 110,
   "metadata": {},
   "outputs": [
    {
     "name": "stdout",
     "output_type": "stream",
     "text": [
      "Before OverSampling, counts of label '1': 4843\n",
      "Before OverSampling, counts of label '0': 14529 \n",
      "\n"
     ]
    },
    {
     "data": {
      "image/png": "[encoded data removed]",
      "text/plain": [
       "<Figure size 432x288 with 1 Axes>"
      ]
     },
     "metadata": {
      "needs_background": "light"
     },
     "output_type": "display_data"
    },
    {
     "name": "stdout",
     "output_type": "stream",
     "text": [
      "After OverSampling, counts of label '1': 14529\n",
      "After OverSampling, counts of label '0': 14529\n"
     ]
    }
   ],
   "source": [
    "from sklearn.utils import resample\n",
    "\n",
    "\n",
    "print(\"Before OverSampling, counts of label '1': {}\".format(donors[donors['TARGET_B']==1].shape[0]))\n",
    "print(\"Before OverSampling, counts of label '0': {} \\n\".format(donors[donors['TARGET_B']==0].shape[0]))\n",
    "\n",
    "# Separating majority and minority classes\n",
    "df_majority = donors[donors['TARGET_B']==0]\n",
    "df_minority = donors[donors['TARGET_B']==1]\n",
    "\n",
    "\n",
    "# Upsampling minority class\n",
    "df_minority_upsampled = resample(df_minority, \n",
    "                                 replace=True,     # sample with replacement\n",
    "                                 n_samples=donors[donors['TARGET_B']==0].shape[0],    # to match majority class\n",
    "                                 random_state=0) # reproducible results\n",
    " \n",
    "# Combining majority class with upsampled minority class\n",
    "df_upsampled = pd.concat([df_majority, df_minority_upsampled])\n",
    " \n",
    "# Displaying new class counts\n",
    "df_upsampled.TARGET_B.value_counts()\n",
    "\n",
    "# Visualizing new balance\n",
    "sns.countplot(x=df_upsampled['TARGET_B'])\n",
    "plt.show()\n",
    "\n",
    "print(\"After OverSampling, counts of label '1': {}\".format(df_upsampled[df_upsampled['TARGET_B']==1].shape[0]))\n",
    "print(\"After OverSampling, counts of label '0': {}\".format(df_upsampled[df_upsampled['TARGET_B']==0].shape[0]))"
   ]
  },
  {
   "cell_type": "code",
   "execution_count": 111,
   "metadata": {},
   "outputs": [
    {
     "data": {
      "text/html": [
       "<div>\n",
       "<style scoped>\n",
       "    .dataframe tbody tr th:only-of-type {\n",
       "        vertical-align: middle;\n",
       "    }\n",
       "\n",
       "    .dataframe tbody tr th {\n",
       "        vertical-align: top;\n",
       "    }\n",
       "\n",
       "    .dataframe thead th {\n",
       "        text-align: right;\n",
       "    }\n",
       "</style>\n",
       "<table border=\"1\" class=\"dataframe\">\n",
       "  <thead>\n",
       "    <tr style=\"text-align: right;\">\n",
       "      <th></th>\n",
       "      <th>TARGET_B</th>\n",
       "      <th>TARGET_D</th>\n",
       "      <th>DONOR_AGE</th>\n",
       "      <th>IN_HOUSE</th>\n",
       "      <th>URBANICITY</th>\n",
       "      <th>SES</th>\n",
       "      <th>HOME_OWNER</th>\n",
       "      <th>DONOR_GENDER</th>\n",
       "      <th>PUBLISHED_PHONE</th>\n",
       "      <th>MOR_HIT_RATE</th>\n",
       "      <th>MEDIAN_HOME_VALUE</th>\n",
       "      <th>MEDIAN_HOUSEHOLD_INCOME</th>\n",
       "      <th>PCT_OWNER_OCCUPIED</th>\n",
       "      <th>RECENCY_STATUS_96NK</th>\n",
       "      <th>FREQUENCY_STATUS_97NK</th>\n",
       "      <th>RECENT_RESPONSE_PROP</th>\n",
       "      <th>RECENT_AVG_GIFT_AMT</th>\n",
       "      <th>RECENT_CARD_RESPONSE_PROP</th>\n",
       "      <th>RECENT_AVG_CARD_GIFT_AMT</th>\n",
       "      <th>RECENT_CARD_RESPONSE_COUNT</th>\n",
       "      <th>MONTHS_SINCE_LAST_PROM_RESP</th>\n",
       "      <th>LIFETIME_AVG_GIFT_AMT</th>\n",
       "      <th>LAST_GIFT_AMT</th>\n",
       "      <th>CARD_PROM_12</th>\n",
       "      <th>MONTHS_SINCE_LAST_GIFT</th>\n",
       "      <th>MONTHS_SINCE_FIRST_GIFT</th>\n",
       "      <th>FILE_CARD_GIFT</th>\n",
       "      <th>DONATION_TYPE</th>\n",
       "      <th>PCT_ATTRIBUTE1_CAT</th>\n",
       "      <th>PCT_ATTRIBUTE2_CAT</th>\n",
       "      <th>PCT_ATTRIBUTE3_CAT</th>\n",
       "      <th>PCT_ATTRIBUTE4_CAT</th>\n",
       "    </tr>\n",
       "  </thead>\n",
       "  <tbody>\n",
       "    <tr>\n",
       "      <th>0</th>\n",
       "      <td>0</td>\n",
       "      <td>0.0</td>\n",
       "      <td>87</td>\n",
       "      <td>0</td>\n",
       "      <td>S</td>\n",
       "      <td>2.0</td>\n",
       "      <td>H</td>\n",
       "      <td>M</td>\n",
       "      <td>0</td>\n",
       "      <td>0</td>\n",
       "      <td>554</td>\n",
       "      <td>294</td>\n",
       "      <td>76</td>\n",
       "      <td>A</td>\n",
       "      <td>1</td>\n",
       "      <td>0.067</td>\n",
       "      <td>15.0</td>\n",
       "      <td>0.00</td>\n",
       "      <td>0.0</td>\n",
       "      <td>0</td>\n",
       "      <td>26.0</td>\n",
       "      <td>8.49</td>\n",
       "      <td>15.0</td>\n",
       "      <td>5</td>\n",
       "      <td>26</td>\n",
       "      <td>92</td>\n",
       "      <td>7</td>\n",
       "      <td>nan</td>\n",
       "      <td>0</td>\n",
       "      <td>0</td>\n",
       "      <td>0</td>\n",
       "      <td>0</td>\n",
       "    </tr>\n",
       "    <tr>\n",
       "      <th>1</th>\n",
       "      <td>1</td>\n",
       "      <td>10.0</td>\n",
       "      <td>79</td>\n",
       "      <td>0</td>\n",
       "      <td>R</td>\n",
       "      <td>2.0</td>\n",
       "      <td>H</td>\n",
       "      <td>M</td>\n",
       "      <td>0</td>\n",
       "      <td>0</td>\n",
       "      <td>334</td>\n",
       "      <td>212</td>\n",
       "      <td>72</td>\n",
       "      <td>S</td>\n",
       "      <td>2</td>\n",
       "      <td>0.235</td>\n",
       "      <td>15.0</td>\n",
       "      <td>0.25</td>\n",
       "      <td>15.0</td>\n",
       "      <td>2</td>\n",
       "      <td>11.0</td>\n",
       "      <td>14.72</td>\n",
       "      <td>17.0</td>\n",
       "      <td>7</td>\n",
       "      <td>7</td>\n",
       "      <td>122</td>\n",
       "      <td>12</td>\n",
       "      <td>D</td>\n",
       "      <td>0</td>\n",
       "      <td>2</td>\n",
       "      <td>1</td>\n",
       "      <td>1</td>\n",
       "    </tr>\n",
       "  </tbody>\n",
       "</table>\n",
       "</div>"
      ],
      "text/plain": [
       "   TARGET_B  TARGET_D  DONOR_AGE  IN_HOUSE URBANICITY  SES HOME_OWNER  \\\n",
       "0         0       0.0         87         0          S  2.0          H   \n",
       "1         1      10.0         79         0          R  2.0          H   \n",
       "\n",
       "  DONOR_GENDER  PUBLISHED_PHONE  MOR_HIT_RATE  MEDIAN_HOME_VALUE  \\\n",
       "0            M                0             0                554   \n",
       "1            M                0             0                334   \n",
       "\n",
       "   MEDIAN_HOUSEHOLD_INCOME  PCT_OWNER_OCCUPIED RECENCY_STATUS_96NK  \\\n",
       "0                      294                  76                   A   \n",
       "1                      212                  72                   S   \n",
       "\n",
       "   FREQUENCY_STATUS_97NK  RECENT_RESPONSE_PROP  RECENT_AVG_GIFT_AMT  \\\n",
       "0                      1                 0.067                 15.0   \n",
       "1                      2                 0.235                 15.0   \n",
       "\n",
       "   RECENT_CARD_RESPONSE_PROP  RECENT_AVG_CARD_GIFT_AMT  \\\n",
       "0                       0.00                       0.0   \n",
       "1                       0.25                      15.0   \n",
       "\n",
       "   RECENT_CARD_RESPONSE_COUNT  MONTHS_SINCE_LAST_PROM_RESP  \\\n",
       "0                           0                         26.0   \n",
       "1                           2                         11.0   \n",
       "\n",
       "   LIFETIME_AVG_GIFT_AMT  LAST_GIFT_AMT  CARD_PROM_12  MONTHS_SINCE_LAST_GIFT  \\\n",
       "0                   8.49           15.0             5                      26   \n",
       "1                  14.72           17.0             7                       7   \n",
       "\n",
       "   MONTHS_SINCE_FIRST_GIFT  FILE_CARD_GIFT DONATION_TYPE  PCT_ATTRIBUTE1_CAT  \\\n",
       "0                       92               7           nan                   0   \n",
       "1                      122              12             D                   0   \n",
       "\n",
       "   PCT_ATTRIBUTE2_CAT  PCT_ATTRIBUTE3_CAT  PCT_ATTRIBUTE4_CAT  \n",
       "0                   0                   0                   0  \n",
       "1                   2                   1                   1  "
      ]
     },
     "execution_count": 111,
     "metadata": {},
     "output_type": "execute_result"
    }
   ],
   "source": [
    "df_upsampled.sort_index(ascending=True).head(2)"
   ]
  },
  {
   "cell_type": "markdown",
   "metadata": {},
   "source": [
    "## SMOTE - ignorar"
   ]
  },
  {
   "cell_type": "code",
   "execution_count": 112,
   "metadata": {},
   "outputs": [
    {
     "data": {
      "text/plain": [
       "'\\nfrom imblearn.over_sampling import SMOTE\\n\\nfrom sklearn.model_selection import train_test_split\\n\\nX_train, X_test, y_train, y_test = train_test_split(X, y_TARGET_B, test_size=0.2, random_state=0)\\n\\nprint(\"Shape of X_train: \", X_train.shape)\\nprint(\"Shape of y_train: \", y_train.shape)\\nprint(\"Shape of X_test: \", X_test.shape)\\nprint(\"Shape of y_test: \", y_test.shape)\\n'"
      ]
     },
     "execution_count": 112,
     "metadata": {},
     "output_type": "execute_result"
    }
   ],
   "source": [
    "\"\"\"\n",
    "from imblearn.over_sampling import SMOTE\n",
    "\n",
    "from sklearn.model_selection import train_test_split\n",
    "\n",
    "X_train, X_test, y_train, y_test = train_test_split(X, y_TARGET_B, test_size=0.2, random_state=0)\n",
    "\n",
    "print(\"Shape of X_train: \", X_train.shape)\n",
    "print(\"Shape of y_train: \", y_train.shape)\n",
    "print(\"Shape of X_test: \", X_test.shape)\n",
    "print(\"Shape of y_test: \", y_test.shape)\n",
    "\"\"\""
   ]
  },
  {
   "cell_type": "code",
   "execution_count": 113,
   "metadata": {},
   "outputs": [
    {
     "data": {
      "text/plain": [
       "'\\nprint(\"Before OverSampling, counts of label \\'1\\': {}\".format(sum(y_train==1)))\\nprint(\"Before OverSampling, counts of label \\'0\\': {} \\n\".format(sum(y_train==0)))\\n\\nsm = SMOTE(random_state=2)\\nX_train_smote, y_train_smote = sm.fit_sample(X_train, y_train.ravel())\\n\\nprint(\\'After OverSampling, the shape of train_X: {}\\'.format(X_train_smote.shape))\\nprint(\\'After OverSampling, the shape of train_y: {} \\n\\'.format(y_train_smote.shape))\\n\\nprint(\"After OverSampling, counts of label \\'1\\': {}\".format(sum(y_train_smote==1)))\\nprint(\"After OverSampling, counts of label \\'0\\': {}\".format(sum(y_train_smote==0)))\\n'"
      ]
     },
     "execution_count": 113,
     "metadata": {},
     "output_type": "execute_result"
    }
   ],
   "source": [
    "\"\"\"\n",
    "print(\"Before OverSampling, counts of label '1': {}\".format(sum(y_train==1)))\n",
    "print(\"Before OverSampling, counts of label '0': {} \\n\".format(sum(y_train==0)))\n",
    "\n",
    "sm = SMOTE(random_state=2)\n",
    "X_train_smote, y_train_smote = sm.fit_sample(X_train, y_train.ravel())\n",
    "\n",
    "print('After OverSampling, the shape of train_X: {}'.format(X_train_smote.shape))\n",
    "print('After OverSampling, the shape of train_y: {} \\n'.format(y_train_smote.shape))\n",
    "\n",
    "print(\"After OverSampling, counts of label '1': {}\".format(sum(y_train_smote==1)))\n",
    "print(\"After OverSampling, counts of label '0': {}\".format(sum(y_train_smote==0)))\n",
    "\"\"\""
   ]
  },
  {
   "cell_type": "markdown",
   "metadata": {},
   "source": [
    "# FALTA explicar melhor qual a metric para usar"
   ]
  },
  {
   "cell_type": "markdown",
   "metadata": {},
   "source": [
    "We will patricularly take a closer look at the **Recall** score, which indicates the % of the passengers who were classified as donors and who had actually donated."
   ]
  },
  {
   "cell_type": "code",
   "execution_count": 114,
   "metadata": {},
   "outputs": [],
   "source": [
    "from sklearn.metrics import roc_curve, auc\n",
    "from sklearn.metrics import roc_auc_score"
   ]
  },
  {
   "cell_type": "code",
   "execution_count": 115,
   "metadata": {},
   "outputs": [],
   "source": [
    "from sklearn.model_selection import train_test_split\n",
    "from sklearn.metrics import accuracy_score, precision_score, recall_score, f1_score, confusion_matrix\n",
    "X_train, X_test, y_train, y_test = train_test_split(X, y_TARGET_B, random_state=0, test_size=0.20)"
   ]
  },
  {
   "cell_type": "code",
   "execution_count": 116,
   "metadata": {},
   "outputs": [],
   "source": [
    "from sklearn.model_selection import GridSearchCV\n",
    "from sklearn.ensemble import RandomForestClassifier"
   ]
  },
  {
   "cell_type": "code",
   "execution_count": 117,
   "metadata": {},
   "outputs": [],
   "source": [
    "from sklearn.model_selection import train_test_split\n",
    "\n",
    "X_train, X_test, y_train, y_test = train_test_split(X, y_TARGET_B, test_size=0.2, random_state=0)"
   ]
  },
  {
   "cell_type": "markdown",
   "metadata": {},
   "source": [
    "<i>**1.1.a) Tree Model - Decision Tree**</i>"
   ]
  },
  {
   "cell_type": "markdown",
   "metadata": {},
   "source": [
    "We will use grid search with cross-validation (with the help of the GridSearchCV from scikit-learn) to find good hyperparameter values for our DecisionTreeClassifier model."
   ]
  },
  {
   "cell_type": "markdown",
   "metadata": {},
   "source": [
    "We will train our model on the full training set using these hyperparameters, and measure then model’s performance on the test set."
   ]
  },
  {
   "cell_type": "code",
   "execution_count": 118,
   "metadata": {},
   "outputs": [
    {
     "data": {
      "text/plain": [
       "GridSearchCV(cv=5, estimator=DecisionTreeClassifier(),\n",
       "             param_grid={'criterion': ['gini', 'entropy'],\n",
       "                         'max_depth': [1, 2, 3, 4, 5, 6, 7, 8, 9, 10, 11, 12,\n",
       "                                       13, 14, 15, 16, 17, 18, 19],\n",
       "                         'max_features': [1, 6, 11, 16, 21, 26, 31, 36, 41,\n",
       "                                          46]})"
      ]
     },
     "execution_count": 118,
     "metadata": {},
     "output_type": "execute_result"
    }
   ],
   "source": [
    "from sklearn.tree import DecisionTreeClassifier\n",
    "\n",
    "dt = DecisionTreeClassifier() \n",
    "param_grid = { 'max_depth' : list(range(1, 20)),\n",
    "             'max_features':list(range(1,50,5)),\n",
    "             'criterion':list(['gini','entropy'])}        \n",
    "grid_search_dt= GridSearchCV(dt,param_grid=param_grid,cv=5)\n",
    "grid_search_dt.fit(X_train, y_train)"
   ]
  },
  {
   "cell_type": "code",
   "execution_count": 119,
   "metadata": {},
   "outputs": [
    {
     "data": {
      "text/plain": [
       "DecisionTreeClassifier(max_depth=3, max_features=11)"
      ]
     },
     "execution_count": 119,
     "metadata": {},
     "output_type": "execute_result"
    }
   ],
   "source": [
    "grid_search_dt.best_estimator_"
   ]
  },
  {
   "cell_type": "code",
   "execution_count": 120,
   "metadata": {},
   "outputs": [
    {
     "data": {
      "text/plain": [
       "0.7507905776056794"
      ]
     },
     "execution_count": 120,
     "metadata": {},
     "output_type": "execute_result"
    }
   ],
   "source": [
    "grid_search_dt.best_score_"
   ]
  },
  {
   "cell_type": "code",
   "execution_count": 124,
   "metadata": {},
   "outputs": [],
   "source": [
    "y_pred = grid_search_dt.predict(X_test)"
   ]
  },
  {
   "cell_type": "code",
   "execution_count": 125,
   "metadata": {},
   "outputs": [
    {
     "name": "stdout",
     "output_type": "stream",
     "text": [
      "Confusion Matrix Test Set\n",
      "[[2905  970]\n",
      " [   0    0]]\n",
      "In the test set:\n",
      "2905 individuals were correctly classified as 'not-donors' (TN).\n",
      "0 individuals were correctly classified as 'donors' (TP).\n",
      "970 individuals were wrongly classified as 'donors' (FP).\n",
      "0 individuals were wrongly classified as 'not-donors' (FN).\n"
     ]
    }
   ],
   "source": [
    "confusion_matrix_test = confusion_matrix(y_pred, y_test) \n",
    "print(\"Confusion Matrix Test Set\")\n",
    "TP = confusion_matrix_test[1, 1]\n",
    "TN = confusion_matrix_test[0, 0]\n",
    "FP = confusion_matrix_test[0, 1]\n",
    "FN = confusion_matrix_test[1, 0]\n",
    "print(confusion_matrix_test)\n",
    "print(\"In the test set:\")\n",
    "print(TN,\"individuals were correctly classified as 'not-donors' (TN).\")\n",
    "print(TP,\"individuals were correctly classified as 'donors' (TP).\")\n",
    "print(FP,\"individuals were wrongly classified as 'donors' (FP).\")\n",
    "print(FN,\"individuals were wrongly classified as 'not-donors' (FN).\")"
   ]
  },
  {
   "cell_type": "code",
   "execution_count": 127,
   "metadata": {},
   "outputs": [
    {
     "name": "stdout",
     "output_type": "stream",
     "text": [
      "Accuracy =  0.7496774193548387\n",
      "The model predicted 74.97% of the individuals correctly in the test set.\n",
      "The model predicted correctly that an individual will donate 0.0% of the times in the test set.\n",
      "The model predicted the donation of 0.0% of the passengers who actually donated in the test set.\n",
      "The F1 score of the model is 0.0\n"
     ]
    },
    {
     "name": "stderr",
     "output_type": "stream",
     "text": [
      "C:\\Users\\filip\\Anaconda3\\lib\\site-packages\\sklearn\\metrics\\_classification.py:1221: UndefinedMetricWarning: Precision is ill-defined and being set to 0.0 due to no predicted samples. Use `zero_division` parameter to control this behavior.\n",
      "  _warn_prf(average, modifier, msg_start, len(result))\n"
     ]
    }
   ],
   "source": [
    "accuracy_test = accuracy_score(y_test, y_pred)\n",
    "print(\"Accuracy = \",((TP+TN)/(TP+TN+FP+FN)))\n",
    "print(\"The model predicted {}% of the individuals correctly in the test set.\".format(np.round(accuracy_test*100,2)))\n",
    "precision_test = precision_score(y_test, y_pred)\n",
    "print(\"The model predicted correctly that an individual will donate {}% of the times in the test set.\".format(np.round(precision_test*100,4)))\n",
    "recall_test = recall_score(y_test,y_pred)\n",
    "print(\"The model predicted the donation of {}% of the passengers who actually donated in the test set.\".format(np.round(recall_test*100,4)))\n",
    "f1_test = f1_score(y_test,y_pred) #F1 score can be interpreted as a weighted average of the precision and recall\n",
    "#best value F1=1, worst value F1=0\n",
    "print(\"The F1 score of the model is\",round(f1_test,4))\n",
    "\n",
    "y_predict_proba = grid_search_dt.predict_proba(X_test)[:,1]\n",
    "fpr, tpr, thresholds = roc_curve(y_test, y_predict_proba)\n",
    "roc_auc = auc(fpr, tpr)"
   ]
  },
  {
   "cell_type": "markdown",
   "metadata": {},
   "source": [
    "The 'positive class'/'1' in our model happens when an individual donated, so ideally we want to optimize it for sensitivity (TPR). This is due to the fact that False Positives (donors who are predicted as 'non-donors') are more acceptable than False Negatives ('non-donors' who are predicted as to have 'donors').\n",
    "\n",
    "However if we want to increase the recall/sensitivy of our model, this may result in a decrease of the precision (depending on the threshold)."
   ]
  },
  {
   "cell_type": "markdown",
   "metadata": {},
   "source": [
    "**1.1.a) Tree Model - Random Forest**"
   ]
  },
  {
   "cell_type": "code",
   "execution_count": 128,
   "metadata": {},
   "outputs": [
    {
     "name": "stdout",
     "output_type": "stream",
     "text": [
      "Fitting 3 folds for each of 294 candidates, totalling 882 fits\n"
     ]
    },
    {
     "name": "stderr",
     "output_type": "stream",
     "text": [
      "[Parallel(n_jobs=-1)]: Using backend LokyBackend with 8 concurrent workers.\n",
      "[Parallel(n_jobs=-1)]: Done  34 tasks      | elapsed:   13.1s\n",
      "[Parallel(n_jobs=-1)]: Done 184 tasks      | elapsed:   49.2s\n",
      "[Parallel(n_jobs=-1)]: Done 434 tasks      | elapsed:  2.2min\n",
      "[Parallel(n_jobs=-1)]: Done 784 tasks      | elapsed:  4.4min\n",
      "[Parallel(n_jobs=-1)]: Done 882 out of 882 | elapsed:  5.1min finished\n"
     ]
    },
    {
     "data": {
      "text/plain": [
       "GridSearchCV(cv=3, estimator=RandomForestClassifier(random_state=42), n_jobs=-1,\n",
       "             param_grid={'max_leaf_nodes': [2, 3, 4, 5, 6, 7, 8, 9, 10, 11, 12,\n",
       "                                            13, 14, 15, 16, 17, 18, 19, 20, 21,\n",
       "                                            22, 23, 24, 25, 26, 27, 28, 29, 30,\n",
       "                                            31, ...],\n",
       "                         'min_samples_split': [2, 3, 4]},\n",
       "             verbose=1)"
      ]
     },
     "execution_count": 128,
     "metadata": {},
     "output_type": "execute_result"
    }
   ],
   "source": [
    "from sklearn.model_selection import GridSearchCV\n",
    "\n",
    "params = {'max_leaf_nodes': list(range(2, 100)), 'min_samples_split': [2, 3, 4]}\n",
    "grid_search_rf = GridSearchCV(RandomForestClassifier(random_state=42), params, n_jobs=-1, verbose=1, cv=3)\n",
    "\n",
    "grid_search_rf.fit(X_train, y_train)"
   ]
  },
  {
   "cell_type": "code",
   "execution_count": 129,
   "metadata": {},
   "outputs": [
    {
     "data": {
      "text/plain": [
       "0.75027421956329"
      ]
     },
     "execution_count": 129,
     "metadata": {},
     "output_type": "execute_result"
    }
   ],
   "source": [
    "grid_search_rf.best_score_"
   ]
  },
  {
   "cell_type": "code",
   "execution_count": 130,
   "metadata": {},
   "outputs": [],
   "source": [
    "y_pred_rf = grid_search_rf.predict(X_test)"
   ]
  },
  {
   "cell_type": "code",
   "execution_count": 131,
   "metadata": {},
   "outputs": [
    {
     "name": "stdout",
     "output_type": "stream",
     "text": [
      "Confusion Matrix Test Set\n",
      "[[2905  970]\n",
      " [   0    0]]\n",
      "In the test set:\n",
      "2905 individuals were correctly classified as 'not-donors' (TN).\n",
      "0 individuals were correctly classified as 'donors' (TP).\n",
      "970 individuals were wrongly classified as 'donors' (FP).\n",
      "0 individuals were wrongly classified as 'not-donors' (FN).\n"
     ]
    }
   ],
   "source": [
    "confusion_matrix_test = confusion_matrix(y_pred_rf, y_test) \n",
    "print(\"Confusion Matrix Test Set\")\n",
    "TP = confusion_matrix_test[1, 1]\n",
    "TN = confusion_matrix_test[0, 0]\n",
    "FP = confusion_matrix_test[0, 1]\n",
    "FN = confusion_matrix_test[1, 0]\n",
    "print(confusion_matrix_test)\n",
    "print(\"In the test set:\")\n",
    "print(TN,\"individuals were correctly classified as 'not-donors' (TN).\")\n",
    "print(TP,\"individuals were correctly classified as 'donors' (TP).\")\n",
    "print(FP,\"individuals were wrongly classified as 'donors' (FP).\")\n",
    "print(FN,\"individuals were wrongly classified as 'not-donors' (FN).\")"
   ]
  },
  {
   "cell_type": "code",
   "execution_count": 132,
   "metadata": {},
   "outputs": [
    {
     "name": "stdout",
     "output_type": "stream",
     "text": [
      "Accuracy =  0.7496774193548387\n",
      "The model predicted 74.97% of the individuals correctly in the test set.\n",
      "The model predicted correctly that an individual will donate 0.0% of the times in the test set.\n",
      "The model predicted the donation of 0.0% of the passengers who actually donated in the test set.\n",
      "The F1 score of the model is 0.0\n"
     ]
    },
    {
     "name": "stderr",
     "output_type": "stream",
     "text": [
      "C:\\Users\\filip\\Anaconda3\\lib\\site-packages\\sklearn\\metrics\\_classification.py:1221: UndefinedMetricWarning: Precision is ill-defined and being set to 0.0 due to no predicted samples. Use `zero_division` parameter to control this behavior.\n",
      "  _warn_prf(average, modifier, msg_start, len(result))\n"
     ]
    }
   ],
   "source": [
    "accuracy_test = accuracy_score(y_test, y_pred_rf)\n",
    "print(\"Accuracy = \",((TP+TN)/(TP+TN+FP+FN)))\n",
    "print(\"The model predicted {}% of the individuals correctly in the test set.\".format(np.round(accuracy_test*100,2)))\n",
    "\n",
    "precision_test = precision_score(y_test, y_pred_rf)\n",
    "print(\"The model predicted correctly that an individual will donate {}% of the times in the test set.\".format(np.round(precision_test*100,4)))\n",
    "\n",
    "recall_test = recall_score(y_test,y_pred_rf)\n",
    "print(\"The model predicted the donation of {}% of the passengers who actually donated in the test set.\".format(np.round(recall_test*100,4)))\n",
    "\n",
    "f1_test = f1_score(y_test,y_pred_rf) #F1 score can be interpreted as a weighted average of the precision and recall\n",
    "#best value F1=1, worst value F1=0\n",
    "print(\"The F1 score of the model is\",round(f1_test,4))\n",
    "\n",
    "y_predict_proba_rf = grid_search_dt.predict_proba(X_test)[:,1]\n",
    "fpr, tpr, thresholds = roc_curve(y_test, y_predict_proba_rf)\n",
    "roc_auc = auc(fpr, tpr)"
   ]
  },
  {
   "cell_type": "markdown",
   "metadata": {},
   "source": [
    "The 'positive class'/'1' in our model happens when an individual donated, so ideally we want to optimize it for sensitivity (TPR).\n",
    "This is due to the fact that False Positives (donors who are predicted as 'non-donors') are more acceptable than False Negatives ('non-donors' who are predicted as to have 'donors').\n",
    "\n",
    "However if we want to increase the recall/sensitivy of our model, this may result in a decrease of the precision (depending on the threshold)."
   ]
  },
  {
   "cell_type": "markdown",
   "metadata": {},
   "source": [
    "<i>**1.1.b) Distance based Model - KNN**</i>"
   ]
  },
  {
   "cell_type": "code",
   "execution_count": 133,
   "metadata": {},
   "outputs": [],
   "source": [
    "from sklearn.neighbors import KNeighborsClassifier "
   ]
  },
  {
   "cell_type": "code",
   "execution_count": 134,
   "metadata": {},
   "outputs": [
    {
     "ename": "NameError",
     "evalue": "name 'X_train_smote' is not defined",
     "output_type": "error",
     "traceback": [
      "\u001b[1;31m---------------------------------------------------------------------------\u001b[0m",
      "\u001b[1;31mNameError\u001b[0m                                 Traceback (most recent call last)",
      "\u001b[1;32m<ipython-input-134-372b7b7db842>\u001b[0m in \u001b[0;36m<module>\u001b[1;34m\u001b[0m\n\u001b[0;32m      3\u001b[0m \u001b[1;33m\u001b[0m\u001b[0m\n\u001b[0;32m      4\u001b[0m \u001b[0mgrid_search\u001b[0m \u001b[1;33m=\u001b[0m \u001b[0mGridSearchCV\u001b[0m\u001b[1;33m(\u001b[0m\u001b[0mknn\u001b[0m\u001b[1;33m,\u001b[0m\u001b[0mparam_grid\u001b[0m\u001b[1;33m=\u001b[0m\u001b[0mparam_grid\u001b[0m\u001b[1;33m,\u001b[0m\u001b[0mcv\u001b[0m\u001b[1;33m=\u001b[0m\u001b[1;36m3\u001b[0m\u001b[1;33m,\u001b[0m \u001b[0mscoring\u001b[0m\u001b[1;33m=\u001b[0m\u001b[1;34m'recall'\u001b[0m\u001b[1;33m)\u001b[0m\u001b[1;33m\u001b[0m\u001b[1;33m\u001b[0m\u001b[0m\n\u001b[1;32m----> 5\u001b[1;33m \u001b[0mgrid_search\u001b[0m\u001b[1;33m.\u001b[0m\u001b[0mfit\u001b[0m\u001b[1;33m(\u001b[0m\u001b[0mX_train_smote\u001b[0m\u001b[1;33m,\u001b[0m \u001b[0my_train_smote\u001b[0m\u001b[1;33m)\u001b[0m\u001b[1;33m\u001b[0m\u001b[1;33m\u001b[0m\u001b[0m\n\u001b[0m\u001b[0;32m      6\u001b[0m \u001b[0mpred\u001b[0m\u001b[1;33m=\u001b[0m\u001b[0mgrid_search\u001b[0m\u001b[1;33m.\u001b[0m\u001b[0mpredict\u001b[0m\u001b[1;33m(\u001b[0m\u001b[0mX_test\u001b[0m\u001b[1;33m)\u001b[0m\u001b[1;33m\u001b[0m\u001b[1;33m\u001b[0m\u001b[0m\n",
      "\u001b[1;31mNameError\u001b[0m: name 'X_train_smote' is not defined"
     ]
    }
   ],
   "source": [
    "knn = KNeighborsClassifier()\n",
    "param_grid = { 'n_neighbors' : list(range(1, 20)) }\n",
    "\n",
    "grid_search = GridSearchCV(knn,param_grid=param_grid,cv=3, scoring='recall')\n",
    "grid_search.fit(X_train_smote, y_train_smote)\n",
    "pred=grid_search.predict(X_test) "
   ]
  },
  {
   "cell_type": "code",
   "execution_count": null,
   "metadata": {},
   "outputs": [],
   "source": [
    "grid_search.best_estimator_"
   ]
  },
  {
   "cell_type": "code",
   "execution_count": null,
   "metadata": {},
   "outputs": [],
   "source": [
    "grid_search.best_score_"
   ]
  },
  {
   "cell_type": "code",
   "execution_count": null,
   "metadata": {},
   "outputs": [],
   "source": [
    "y_pred_knn=grid_search.predict(X_test) "
   ]
  },
  {
   "cell_type": "code",
   "execution_count": null,
   "metadata": {},
   "outputs": [],
   "source": [
    "confusion_matrix_test = confusion_matrix(y_pred_knn, y_test) \n",
    "print(\"Confusion Matrix Test Set\")\n",
    "TP = confusion_matrix_test[1, 1]\n",
    "TN = confusion_matrix_test[0, 0]\n",
    "FP = confusion_matrix_test[0, 1]\n",
    "FN = confusion_matrix_test[1, 0]\n",
    "print(confusion_matrix_test)\n",
    "print(\"In the test set:\")\n",
    "print(TN,\"individuals were correctly classified as 'not-donors' (TN).\")\n",
    "print(TP,\"individuals were correctly classified as 'donors' (TP).\")\n",
    "print(FP,\"individuals were wrongly classified as 'donors' (FP).\")\n",
    "print(FN,\"individuals were wrongly classified as 'not-donors' (FN).\")"
   ]
  },
  {
   "cell_type": "code",
   "execution_count": null,
   "metadata": {},
   "outputs": [],
   "source": [
    "accuracy_test = accuracy_score(y_test, y_pred_knn)\n",
    "print(\"Accuracy = \",((TP+TN)/(TP+TN+FP+FN)))\n",
    "print(\"The model predicted {}% of the individuals correctly in the test set.\".format(np.round(accuracy_test*100,2)))\n",
    "\n",
    "precision_test = precision_score(y_test, y_pred_knn)\n",
    "print(\"The model predicted correctly that an individual will donate {}% of the times in the test set.\".format(np.round(precision_test*100,4)))\n",
    "\n",
    "recall_test = recall_score(y_test,y_pred_knn)\n",
    "print(\"The model predicted the donation of {}% of the passengers who actually donated in the test set.\".format(np.round(recall_test*100,4)))\n",
    "\n",
    "f1_test = f1_score(y_test,y_pred_knn) #F1 score can be interpreted as a weighted average of the precision and recall\n",
    "#best value F1=1, worst value F1=0\n",
    "print(\"The F1 score of the model is\",round(f1_test,4))\n",
    "\n",
    "y_predict_proba_knn = grid_search.predict_proba(X_test)[:,1]\n",
    "fpr, tpr, thresholds = roc_curve(y_test, y_predict_proba_knn)\n",
    "roc_auc = auc(fpr, tpr)"
   ]
  },
  {
   "cell_type": "markdown",
   "metadata": {},
   "source": [
    "<i>**1.1.c) Linear Model - Logistic Regression**</i>"
   ]
  },
  {
   "cell_type": "code",
   "execution_count": null,
   "metadata": {},
   "outputs": [],
   "source": [
    "from sklearn.linear_model import LogisticRegression\n",
    "from sklearn.model_selection import cross_val_predict\n",
    "logit_clf = LogisticRegression(random_state=42, solver='liblinear').fit(X_train, y_train)"
   ]
  },
  {
   "cell_type": "code",
   "execution_count": null,
   "metadata": {},
   "outputs": [],
   "source": [
    "y_predict_logit_clf = cross_val_predict(logit_clf, X_train, y_train, cv=10)"
   ]
  },
  {
   "cell_type": "code",
   "execution_count": null,
   "metadata": {},
   "outputs": [],
   "source": [
    "confusion_matrix_test = confusion_matrix(y_predict_logit_clf, y_train) \n",
    "print(\"Confusion Matrix Test Set\")\n",
    "TP = confusion_matrix_test[1, 1]\n",
    "TN = confusion_matrix_test[0, 0]\n",
    "FP = confusion_matrix_test[0, 1]\n",
    "FN = confusion_matrix_test[1, 0]\n",
    "print(confusion_matrix_test)\n",
    "print(\"In the test set:\")\n",
    "print(TN,\"individuals were correctly classified as 'not-donors' (TN).\")\n",
    "print(TP,\"individuals were correctly classified as 'donors' (TP).\")\n",
    "print(FP,\"individuals were wrongly classified as 'donors' (FP).\")\n",
    "print(FN,\"individuals were wrongly classified as 'not-donors' (FN).\")"
   ]
  },
  {
   "cell_type": "code",
   "execution_count": null,
   "metadata": {},
   "outputs": [],
   "source": [
    "accuracy_test = accuracy_score(y_test, y_pred_knn)\n",
    "print(\"Accuracy = \",((TP+TN)/(TP+TN+FP+FN)))\n",
    "print(\"The model predicted {}% of the individuals correctly in the test set.\".format(np.round(accuracy_test*100,2)))\n",
    "\n",
    "precision_test = precision_score(y_test, y_pred_knn)\n",
    "print(\"The model predicted correctly that an individual will donate {}% of the times in the test set.\".format(np.round(precision_test*100,4)))\n",
    "\n",
    "recall_test = recall_score(y_test,y_pred_knn)\n",
    "print(\"The model predicted the donation of {}% of the passengers who actually donated in the test set.\".format(np.round(recall_test*100,4)))\n",
    "\n",
    "f1_test = f1_score(y_test,y_pred_knn) #F1 score can be interpreted as a weighted average of the precision and recall\n",
    "#best value F1=1, worst value F1=0\n",
    "print(\"The F1 score of the model is\",round(f1_test,4))\n",
    "\n",
    "y_predict_proba_knn = grid_search.predict_proba(X_test)[:,1]\n",
    "fpr, tpr, thresholds = roc_curve(y_test, y_predict_proba_knn)\n",
    "roc_auc = auc(fpr, tpr)"
   ]
  },
  {
   "cell_type": "markdown",
   "metadata": {},
   "source": [
    "<i>**1.1.d) Rule Model - Naive Bayes**</i>"
   ]
  },
  {
   "cell_type": "markdown",
   "metadata": {},
   "source": [
    "<i>**1.1.e) Probabilistic Model**</i>"
   ]
  },
  {
   "cell_type": "code",
   "execution_count": null,
   "metadata": {},
   "outputs": [],
   "source": [
    "from sklearn.naive_bayes import GaussianNB\n",
    "\n",
    "#k_fold = KFold(len(y_train), n_folds=10, shuffle=True, random_state=0)\n",
    "gnb_clf = GaussianNB()\n",
    "cross_val_score(gnb_clf, X_train, y_train, cv=10, n_jobs=1)"
   ]
  },
  {
   "cell_type": "markdown",
   "metadata": {},
   "source": [
    "## Task 1.2) Predicting Donation TYPE (multiclass classification) - DONATION_TYPE"
   ]
  },
  {
   "cell_type": "code",
   "execution_count": null,
   "metadata": {},
   "outputs": [],
   "source": []
  },
  {
   "cell_type": "markdown",
   "metadata": {},
   "source": [
    "## Task 1.3) Training specialized models for SES (socioeconomic classification) - SES"
   ]
  },
  {
   "cell_type": "code",
   "execution_count": null,
   "metadata": {
    "scrolled": false
   },
   "outputs": [],
   "source": [
    "donors[\"SES\"].unique()"
   ]
  },
  {
   "cell_type": "code",
   "execution_count": null,
   "metadata": {},
   "outputs": [],
   "source": [
    "ses1 = donors[donors[\"SES\"]==1].drop(\"TARGET_D\", axis=1)\n",
    "ses2 = donors[donors[\"SES\"]==2].drop(\"TARGET_D\", axis=1)\n",
    "ses3 = donors[donors[\"SES\"]==3].drop(\"TARGET_D\", axis=1)\n",
    "ses4 = donors[donors[\"SES\"]==4].drop(\"TARGET_D\", axis=1)"
   ]
  },
  {
   "cell_type": "code",
   "execution_count": null,
   "metadata": {},
   "outputs": [],
   "source": [
    "ses1"
   ]
  },
  {
   "cell_type": "code",
   "execution_count": null,
   "metadata": {
    "scrolled": true
   },
   "outputs": [],
   "source": [
    "ses2"
   ]
  },
  {
   "cell_type": "code",
   "execution_count": null,
   "metadata": {},
   "outputs": [],
   "source": [
    "ses3"
   ]
  },
  {
   "cell_type": "code",
   "execution_count": null,
   "metadata": {},
   "outputs": [],
   "source": [
    "ses4"
   ]
  },
  {
   "cell_type": "code",
   "execution_count": null,
   "metadata": {},
   "outputs": [],
   "source": [
    "y_SES = donors.SES"
   ]
  },
  {
   "cell_type": "code",
   "execution_count": null,
   "metadata": {},
   "outputs": [],
   "source": [
    "X_train, X_test, y_train, y_test = train_test_split(X, y_SES, test_size=0.2, random_state=0)"
   ]
  },
  {
   "cell_type": "code",
   "execution_count": null,
   "metadata": {},
   "outputs": [],
   "source": []
  },
  {
   "cell_type": "markdown",
   "metadata": {},
   "source": [
    "## Task 2 (Unsupervised Learning) - Characterizing Donors and Donation Type"
   ]
  },
  {
   "cell_type": "markdown",
   "metadata": {},
   "source": [
    "In this task you should **use unsupervised learning algorithms and try to characterize donors (people who really did a donation) and their donation type**. You can use:\n",
    "* **Association rule mining** to find **associations between the features and the target Donation/DonationTYPE**.\n",
    "* **Clustering algorithms to find similar groups of donors**. Is it possible to find groups of donors with the same/similar DonationTYPE?\n",
    "* **Be creative and define your own unsupervised analysis!** What would it be interesting to find out ?"
   ]
  },
  {
   "cell_type": "markdown",
   "metadata": {},
   "source": [
    "## 2.1. Preprocessing Data for Association Rule Mining"
   ]
  },
  {
   "cell_type": "code",
   "execution_count": null,
   "metadata": {},
   "outputs": [],
   "source": []
  },
  {
   "cell_type": "markdown",
   "metadata": {},
   "source": [
    "# 3. Final Comments and Conclusions"
   ]
  },
  {
   "cell_type": "code",
   "execution_count": null,
   "metadata": {},
   "outputs": [],
   "source": []
  }
 ],
 "metadata": {
  "kernelspec": {
   "display_name": "Python 3",
   "language": "python",
   "name": "python3"
  },
  "language_info": {
   "codemirror_mode": {
    "name": "ipython",
    "version": 3
   },
   "file_extension": ".py",
   "mimetype": "text/x-python",
   "name": "python",
   "nbconvert_exporter": "python",
   "pygments_lexer": "ipython3",
   "version": "3.7.4"
  }
 },
 "nbformat": 4,
 "nbformat_minor": 4
}
